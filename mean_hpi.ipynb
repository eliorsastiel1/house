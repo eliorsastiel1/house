{
 "cells": [
  {
   "cell_type": "code",
   "execution_count": 1,
   "metadata": {},
   "outputs": [],
   "source": [
    "import pandas as pd\n",
    "import datetime as dt\n",
    "import matplotlib.pyplot as plt\n",
    "import numpy as np"
   ]
  },
  {
   "cell_type": "code",
   "execution_count": 2,
   "metadata": {},
   "outputs": [],
   "source": [
    "HPI_low_tier = pd.read_csv(\"datasets/Metro_zhvi_uc_sfrcondo_tier_0.0_0.33_sm_sa_mon.csv\")\n",
    "HPI_low_tier.insert(3,\"Region\",[row.split(\",\")[0] for row in HPI_low_tier['RegionName']])\n",
    "\n",
    "HPI_medium_tier = pd.read_csv(\"datasets/Metro_zhvi_uc_sfrcondo_tier_0.33_0.67_sm_sa_mon.csv\")\n",
    "HPI_medium_tier.insert(3,\"Region\",[row.split(\",\")[0] for row in HPI_medium_tier['RegionName']])\n",
    "\n",
    "HPI_high_tier = pd.read_csv(\"datasets/Metro_zhvi_uc_sfrcondo_tier_0.67_1.0_sm_sa_mon.csv\")\n",
    "HPI_high_tier.insert(3,\"Region\",[row.split(\",\")[0] for row in HPI_high_tier['RegionName']])\n"
   ]
  },
  {
   "cell_type": "code",
   "execution_count": 3,
   "metadata": {},
   "outputs": [],
   "source": [
    "rows = [list(HPI_low_tier.columns)]\n",
    "for Region_id in HPI_low_tier['RegionID']:\n",
    "    low = HPI_low_tier[HPI_low_tier['RegionID']==Region_id]\n",
    "    medium = HPI_medium_tier[HPI_medium_tier['RegionID']==Region_id]\n",
    "    high = HPI_high_tier[HPI_high_tier['RegionID']==Region_id]\n",
    "    row = []\n",
    "    for val in low.columns[:6]:\n",
    "        row.append(low[val].item())\n",
    "    for col in low.columns[6:]:\n",
    "        mean = np.mean([low[col],medium[col],high[col]])\n",
    "        row.append(mean)   \n",
    "    rows.append(row)     \n",
    "    \n",
    "mean_hpi = pd.DataFrame(rows)\n",
    "new_header = mean_hpi.iloc[0] \n",
    "mean_hpi = mean_hpi[1:] \n",
    "mean_hpi.columns = new_header     \n",
    "\n",
    "mean_hpi.to_csv(\"Metro_zhvi_uc_sfrcondo_tier_mean_sm_sa_mon.csv\")\n"
   ]
  },
  {
   "cell_type": "code",
   "execution_count": 4,
   "metadata": {},
   "outputs": [
    {
     "data": {
      "text/html": [
       "<div>\n",
       "<style scoped>\n",
       "    .dataframe tbody tr th:only-of-type {\n",
       "        vertical-align: middle;\n",
       "    }\n",
       "\n",
       "    .dataframe tbody tr th {\n",
       "        vertical-align: top;\n",
       "    }\n",
       "\n",
       "    .dataframe thead th {\n",
       "        text-align: right;\n",
       "    }\n",
       "</style>\n",
       "<table border=\"1\" class=\"dataframe\">\n",
       "  <thead>\n",
       "    <tr style=\"text-align: right;\">\n",
       "      <th></th>\n",
       "      <th>RegionID</th>\n",
       "      <th>SizeRank</th>\n",
       "      <th>RegionName</th>\n",
       "      <th>Region</th>\n",
       "      <th>RegionType</th>\n",
       "      <th>StateName</th>\n",
       "      <th>1996-01-31</th>\n",
       "      <th>1996-02-29</th>\n",
       "      <th>1996-03-31</th>\n",
       "      <th>1996-04-30</th>\n",
       "      <th>...</th>\n",
       "      <th>2020-05-31</th>\n",
       "      <th>2020-06-30</th>\n",
       "      <th>2020-07-31</th>\n",
       "      <th>2020-08-31</th>\n",
       "      <th>2020-09-30</th>\n",
       "      <th>2020-10-31</th>\n",
       "      <th>2020-11-30</th>\n",
       "      <th>2020-12-31</th>\n",
       "      <th>2021-01-31</th>\n",
       "      <th>2021-02-28</th>\n",
       "    </tr>\n",
       "  </thead>\n",
       "  <tbody>\n",
       "    <tr>\n",
       "      <th>1</th>\n",
       "      <td>102001</td>\n",
       "      <td>0</td>\n",
       "      <td>United States</td>\n",
       "      <td>United States</td>\n",
       "      <td>Country</td>\n",
       "      <td>NaN</td>\n",
       "      <td>121728</td>\n",
       "      <td>121729</td>\n",
       "      <td>121761</td>\n",
       "      <td>121849</td>\n",
       "      <td>...</td>\n",
       "      <td>293373</td>\n",
       "      <td>294731</td>\n",
       "      <td>296446</td>\n",
       "      <td>298713</td>\n",
       "      <td>301372</td>\n",
       "      <td>304292</td>\n",
       "      <td>307435</td>\n",
       "      <td>310676</td>\n",
       "      <td>313920</td>\n",
       "      <td>317364</td>\n",
       "    </tr>\n",
       "    <tr>\n",
       "      <th>2</th>\n",
       "      <td>394913</td>\n",
       "      <td>1</td>\n",
       "      <td>New York, NY</td>\n",
       "      <td>New York</td>\n",
       "      <td>Msa</td>\n",
       "      <td>NY</td>\n",
       "      <td>212205</td>\n",
       "      <td>211716</td>\n",
       "      <td>211399</td>\n",
       "      <td>210793</td>\n",
       "      <td>...</td>\n",
       "      <td>537598</td>\n",
       "      <td>539415</td>\n",
       "      <td>541809</td>\n",
       "      <td>545245</td>\n",
       "      <td>549658</td>\n",
       "      <td>554580</td>\n",
       "      <td>559732</td>\n",
       "      <td>564688</td>\n",
       "      <td>569411</td>\n",
       "      <td>574278</td>\n",
       "    </tr>\n",
       "    <tr>\n",
       "      <th>3</th>\n",
       "      <td>753899</td>\n",
       "      <td>2</td>\n",
       "      <td>Los Angeles-Long Beach-Anaheim, CA</td>\n",
       "      <td>Los Angeles-Long Beach-Anaheim</td>\n",
       "      <td>Msa</td>\n",
       "      <td>CA</td>\n",
       "      <td>212838</td>\n",
       "      <td>213166</td>\n",
       "      <td>213194</td>\n",
       "      <td>213343</td>\n",
       "      <td>...</td>\n",
       "      <td>800265</td>\n",
       "      <td>801604</td>\n",
       "      <td>806816</td>\n",
       "      <td>815207</td>\n",
       "      <td>824032</td>\n",
       "      <td>831539</td>\n",
       "      <td>839029</td>\n",
       "      <td>846637</td>\n",
       "      <td>853765</td>\n",
       "      <td>860912</td>\n",
       "    </tr>\n",
       "    <tr>\n",
       "      <th>4</th>\n",
       "      <td>394463</td>\n",
       "      <td>3</td>\n",
       "      <td>Chicago, IL</td>\n",
       "      <td>Chicago</td>\n",
       "      <td>Msa</td>\n",
       "      <td>IL</td>\n",
       "      <td>181712</td>\n",
       "      <td>181383</td>\n",
       "      <td>180942</td>\n",
       "      <td>180427</td>\n",
       "      <td>...</td>\n",
       "      <td>268341</td>\n",
       "      <td>268946</td>\n",
       "      <td>270111</td>\n",
       "      <td>271711</td>\n",
       "      <td>273892</td>\n",
       "      <td>276292</td>\n",
       "      <td>278660</td>\n",
       "      <td>281005</td>\n",
       "      <td>283075</td>\n",
       "      <td>285741</td>\n",
       "    </tr>\n",
       "    <tr>\n",
       "      <th>5</th>\n",
       "      <td>394514</td>\n",
       "      <td>4</td>\n",
       "      <td>Dallas-Fort Worth, TX</td>\n",
       "      <td>Dallas-Fort Worth</td>\n",
       "      <td>Msa</td>\n",
       "      <td>TX</td>\n",
       "      <td>127919</td>\n",
       "      <td>127963</td>\n",
       "      <td>128138</td>\n",
       "      <td>128474</td>\n",
       "      <td>...</td>\n",
       "      <td>284452</td>\n",
       "      <td>285921</td>\n",
       "      <td>287640</td>\n",
       "      <td>289591</td>\n",
       "      <td>291596</td>\n",
       "      <td>294314</td>\n",
       "      <td>297118</td>\n",
       "      <td>300352</td>\n",
       "      <td>302869</td>\n",
       "      <td>306231</td>\n",
       "    </tr>\n",
       "  </tbody>\n",
       "</table>\n",
       "<p>5 rows × 308 columns</p>\n",
       "</div>"
      ],
      "text/plain": [
       "0 RegionID SizeRank                          RegionName  \\\n",
       "1   102001        0                       United States   \n",
       "2   394913        1                        New York, NY   \n",
       "3   753899        2  Los Angeles-Long Beach-Anaheim, CA   \n",
       "4   394463        3                         Chicago, IL   \n",
       "5   394514        4               Dallas-Fort Worth, TX   \n",
       "\n",
       "0                          Region RegionType StateName 1996-01-31 1996-02-29  \\\n",
       "1                   United States    Country       NaN     121728     121729   \n",
       "2                        New York        Msa        NY     212205     211716   \n",
       "3  Los Angeles-Long Beach-Anaheim        Msa        CA     212838     213166   \n",
       "4                         Chicago        Msa        IL     181712     181383   \n",
       "5               Dallas-Fort Worth        Msa        TX     127919     127963   \n",
       "\n",
       "0 1996-03-31 1996-04-30  ... 2020-05-31 2020-06-30 2020-07-31 2020-08-31  \\\n",
       "1     121761     121849  ...     293373     294731     296446     298713   \n",
       "2     211399     210793  ...     537598     539415     541809     545245   \n",
       "3     213194     213343  ...     800265     801604     806816     815207   \n",
       "4     180942     180427  ...     268341     268946     270111     271711   \n",
       "5     128138     128474  ...     284452     285921     287640     289591   \n",
       "\n",
       "0 2020-09-30 2020-10-31 2020-11-30 2020-12-31 2021-01-31 2021-02-28  \n",
       "1     301372     304292     307435     310676     313920     317364  \n",
       "2     549658     554580     559732     564688     569411     574278  \n",
       "3     824032     831539     839029     846637     853765     860912  \n",
       "4     273892     276292     278660     281005     283075     285741  \n",
       "5     291596     294314     297118     300352     302869     306231  \n",
       "\n",
       "[5 rows x 308 columns]"
      ]
     },
     "execution_count": 4,
     "metadata": {},
     "output_type": "execute_result"
    }
   ],
   "source": [
    "mean_hpi.head()"
   ]
  },
  {
   "cell_type": "markdown",
   "metadata": {},
   "source": [
    "### plot"
   ]
  },
  {
   "cell_type": "code",
   "execution_count": 5,
   "metadata": {},
   "outputs": [],
   "source": [
    "def plot_hpi(data):\n",
    "    df = data.loc[data['Region'].isin(['Stamford','Dallas-Fort Worth','Las Vegas'])]\n",
    "    df = df[df['StateName']!='NM']\n",
    "    df = df.drop(columns=['RegionID', 'SizeRank','RegionName','RegionType','StateName'])\n",
    "    df.set_index(\"Region\", inplace = True)\n",
    "    df = df.T\n",
    "    df.index = pd.to_datetime(df.index)\n",
    "    return df"
   ]
  },
  {
   "cell_type": "code",
   "execution_count": 6,
   "metadata": {},
   "outputs": [],
   "source": [
    "mean_msas = plot_hpi(mean_hpi)"
   ]
  },
  {
   "cell_type": "code",
   "execution_count": 7,
   "metadata": {},
   "outputs": [],
   "source": [
    "high_msas = plot_hpi(HPI_high_tier)"
   ]
  },
  {
   "cell_type": "code",
   "execution_count": 8,
   "metadata": {},
   "outputs": [],
   "source": [
    "medium_msas = plot_hpi(HPI_medium_tier)"
   ]
  },
  {
   "cell_type": "code",
   "execution_count": 9,
   "metadata": {},
   "outputs": [],
   "source": [
    "low_msas = plot_hpi(HPI_low_tier)"
   ]
  },
  {
   "cell_type": "markdown",
   "metadata": {},
   "source": [
    "### plot BP HPI"
   ]
  },
  {
   "cell_type": "code",
   "execution_count": 10,
   "metadata": {},
   "outputs": [
    {
     "data": {
      "text/plain": [
       "[<matplotlib.lines.Line2D at 0x7fe11ba4ae20>]"
      ]
     },
     "execution_count": 10,
     "metadata": {},
     "output_type": "execute_result"
    },
    {
     "data": {
      "image/png": "[encoded data removed]",
      "text/plain": [
       "<Figure size 432x288 with 1 Axes>"
      ]
     },
     "metadata": {
      "needs_background": "light"
     },
     "output_type": "display_data"
    }
   ],
   "source": [
    "plt.plot(mean_msas.index,mean_msas['Stamford'])"
   ]
  },
  {
   "cell_type": "code",
   "execution_count": 11,
   "metadata": {},
   "outputs": [
    {
     "data": {
      "text/plain": [
       "[<matplotlib.lines.Line2D at 0x7fe11baff130>]"
      ]
     },
     "execution_count": 11,
     "metadata": {},
     "output_type": "execute_result"
    },
    {
     "data": {
      "image/png": "[encoded data removed]",
      "text/plain": [
       "<Figure size 432x288 with 1 Axes>"
      ]
     },
     "metadata": {
      "needs_background": "light"
     },
     "output_type": "display_data"
    }
   ],
   "source": [
    "plt.plot(high_msas.index,high_msas['Stamford'])"
   ]
  },
  {
   "cell_type": "code",
   "execution_count": 12,
   "metadata": {},
   "outputs": [
    {
     "data": {
      "text/plain": [
       "[<matplotlib.lines.Line2D at 0x7fe11bae5250>]"
      ]
     },
     "execution_count": 12,
     "metadata": {},
     "output_type": "execute_result"
    },
    {
     "data": {
      "image/png": "[encoded data removed]",
      "text/plain": [
       "<Figure size 432x288 with 1 Axes>"
      ]
     },
     "metadata": {
      "needs_background": "light"
     },
     "output_type": "display_data"
    }
   ],
   "source": [
    "plt.plot(medium_msas.index,medium_msas['Stamford'])"
   ]
  },
  {
   "cell_type": "code",
   "execution_count": 13,
   "metadata": {},
   "outputs": [
    {
     "data": {
      "text/plain": [
       "[<matplotlib.lines.Line2D at 0x7fe11bd0cfd0>]"
      ]
     },
     "execution_count": 13,
     "metadata": {},
     "output_type": "execute_result"
    },
    {
     "data": {
      "image/png": "[encoded data removed]",
      "text/plain": [
       "<Figure size 432x288 with 1 Axes>"
      ]
     },
     "metadata": {
      "needs_background": "light"
     },
     "output_type": "display_data"
    }
   ],
   "source": [
    "plt.plot(low_msas.index,low_msas['Stamford'])"
   ]
  },
  {
   "cell_type": "markdown",
   "metadata": {},
   "source": [
    "### plot Dallas HPI"
   ]
  },
  {
   "cell_type": "code",
   "execution_count": 14,
   "metadata": {},
   "outputs": [
    {
     "data": {
      "text/plain": [
       "[<matplotlib.lines.Line2D at 0x7fe11bd47040>]"
      ]
     },
     "execution_count": 14,
     "metadata": {},
     "output_type": "execute_result"
    },
    {
     "data": {
      "image/png": "[encoded data removed]",
      "text/plain": [
       "<Figure size 432x288 with 1 Axes>"
      ]
     },
     "metadata": {
      "needs_background": "light"
     },
     "output_type": "display_data"
    }
   ],
   "source": [
    "plt.plot(mean_msas.index,mean_msas['Dallas-Fort Worth'])"
   ]
  },
  {
   "cell_type": "code",
   "execution_count": 15,
   "metadata": {},
   "outputs": [
    {
     "data": {
      "text/plain": [
       "[<matplotlib.lines.Line2D at 0x7fe11be13580>]"
      ]
     },
     "execution_count": 15,
     "metadata": {},
     "output_type": "execute_result"
    },
    {
     "data": {
      "image/png": "[encoded data removed]",
      "text/plain": [
       "<Figure size 432x288 with 1 Axes>"
      ]
     },
     "metadata": {
      "needs_background": "light"
     },
     "output_type": "display_data"
    }
   ],
   "source": [
    "plt.plot(high_msas.index,high_msas['Dallas-Fort Worth'])"
   ]
  },
  {
   "cell_type": "code",
   "execution_count": 16,
   "metadata": {},
   "outputs": [
    {
     "data": {
      "text/plain": [
       "[<matplotlib.lines.Line2D at 0x7fe11bc7b040>]"
      ]
     },
     "execution_count": 16,
     "metadata": {},
     "output_type": "execute_result"
    },
    {
     "data": {
      "image/png": "[encoded data removed]",
      "text/plain": [
       "<Figure size 432x288 with 1 Axes>"
      ]
     },
     "metadata": {
      "needs_background": "light"
     },
     "output_type": "display_data"
    }
   ],
   "source": [
    "plt.plot(medium_msas.index,medium_msas['Dallas-Fort Worth'])"
   ]
  },
  {
   "cell_type": "code",
   "execution_count": 17,
   "metadata": {},
   "outputs": [
    {
     "data": {
      "text/plain": [
       "[<matplotlib.lines.Line2D at 0x7fe11be01310>]"
      ]
     },
     "execution_count": 17,
     "metadata": {},
     "output_type": "execute_result"
    },
    {
     "data": {
      "image/png": "[encoded data removed]",
      "text/plain": [
       "<Figure size 432x288 with 1 Axes>"
      ]
     },
     "metadata": {
      "needs_background": "light"
     },
     "output_type": "display_data"
    }
   ],
   "source": [
    "plt.plot(low_msas.index,low_msas['Dallas-Fort Worth'])"
   ]
  },
  {
   "cell_type": "markdown",
   "metadata": {},
   "source": [
    "### plot LV HPI"
   ]
  },
  {
   "cell_type": "code",
   "execution_count": 18,
   "metadata": {},
   "outputs": [
    {
     "data": {
      "text/plain": [
       "[<matplotlib.lines.Line2D at 0x7fe11c95bc10>]"
      ]
     },
     "execution_count": 18,
     "metadata": {},
     "output_type": "execute_result"
    },
    {
     "data": {
      "image/png": "[encoded data removed]",
      "text/plain": [
       "<Figure size 432x288 with 1 Axes>"
      ]
     },
     "metadata": {
      "needs_background": "light"
     },
     "output_type": "display_data"
    }
   ],
   "source": [
    "plt.plot(mean_msas.index,mean_msas['Las Vegas'])"
   ]
  },
  {
   "cell_type": "code",
   "execution_count": 19,
   "metadata": {},
   "outputs": [
    {
     "data": {
      "text/plain": [
       "[<matplotlib.lines.Line2D at 0x7fe11ca2a130>]"
      ]
     },
     "execution_count": 19,
     "metadata": {},
     "output_type": "execute_result"
    },
    {
     "data": {
      "image/png": "[encoded data removed]",
      "text/plain": [
       "<Figure size 432x288 with 1 Axes>"
      ]
     },
     "metadata": {
      "needs_background": "light"
     },
     "output_type": "display_data"
    }
   ],
   "source": [
    "plt.plot(high_msas.index,high_msas['Las Vegas'])"
   ]
  },
  {
   "cell_type": "code",
   "execution_count": 20,
   "metadata": {},
   "outputs": [
    {
     "data": {
      "text/plain": [
       "[<matplotlib.lines.Line2D at 0x7fe11caf70a0>]"
      ]
     },
     "execution_count": 20,
     "metadata": {},
     "output_type": "execute_result"
    },
    {
     "data": {
      "image/png": "[encoded data removed]",
      "text/plain": [
       "<Figure size 432x288 with 1 Axes>"
      ]
     },
     "metadata": {
      "needs_background": "light"
     },
     "output_type": "display_data"
    }
   ],
   "source": [
    "plt.plot(medium_msas.index,medium_msas['Las Vegas'])"
   ]
  },
  {
   "cell_type": "code",
   "execution_count": 21,
   "metadata": {},
   "outputs": [
    {
     "data": {
      "text/plain": [
       "[<matplotlib.lines.Line2D at 0x7fe11cbb6130>]"
      ]
     },
     "execution_count": 21,
     "metadata": {},
     "output_type": "execute_result"
    },
    {
     "data": {
      "image/png": "[encoded data removed]",
      "text/plain": [
       "<Figure size 432x288 with 1 Axes>"
      ]
     },
     "metadata": {
      "needs_background": "light"
     },
     "output_type": "display_data"
    }
   ],
   "source": [
    "plt.plot(low_msas.index,low_msas['Las Vegas'])"
   ]
  },
  {
   "cell_type": "markdown",
   "metadata": {},
   "source": [
    "## convert datasets to tables pattern"
   ]
  },
  {
   "cell_type": "code",
   "execution_count": 22,
   "metadata": {},
   "outputs": [],
   "source": [
    "def change_rows(data,name):\n",
    "    data = data.drop(columns=['RegionID', 'SizeRank','RegionName','RegionType'])\n",
    "    data = data.rename(columns={'Region': 'MSA', \"StateName\":\"State\"})\n",
    "\n",
    "    vals = [[\"DATE\",\"HPI\",\"MSA\",\"State\"]]\n",
    "    for row in data.index[1:]:\n",
    "        for col in data.columns[2:]:\n",
    "            vals.append([col,data[col][row],data[\"MSA\"][row],data[\"State\"][row]])\n",
    "    \n",
    "    hpi = pd.DataFrame(vals)\n",
    "    new_header = hpi.iloc[0] \n",
    "    hpi = hpi[1:] \n",
    "    hpi.columns = new_header\n",
    "    \n",
    "    hpi = hpi.reset_index()\n",
    "    hpi = hpi.drop(columns=['index'])\n",
    "    \n",
    "    hpi['1_Month_change'] = hpi['HPI'].pct_change()\n",
    "    hpi['1_Year_change'] = hpi['HPI'].pct_change(periods=12)\n",
    "\n",
    "    hpi.to_csv(f\"{name}_data.csv\")\n",
    "    \n",
    "    return hpi"
   ]
  },
  {
   "cell_type": "code",
   "execution_count": 23,
   "metadata": {},
   "outputs": [
    {
     "data": {
      "text/html": [
       "<div>\n",
       "<style scoped>\n",
       "    .dataframe tbody tr th:only-of-type {\n",
       "        vertical-align: middle;\n",
       "    }\n",
       "\n",
       "    .dataframe tbody tr th {\n",
       "        vertical-align: top;\n",
       "    }\n",
       "\n",
       "    .dataframe thead th {\n",
       "        text-align: right;\n",
       "    }\n",
       "</style>\n",
       "<table border=\"1\" class=\"dataframe\">\n",
       "  <thead>\n",
       "    <tr style=\"text-align: right;\">\n",
       "      <th></th>\n",
       "      <th>DATE</th>\n",
       "      <th>HPI</th>\n",
       "      <th>MSA</th>\n",
       "      <th>State</th>\n",
       "      <th>1_Month_change</th>\n",
       "      <th>1_Year_change</th>\n",
       "    </tr>\n",
       "  </thead>\n",
       "  <tbody>\n",
       "    <tr>\n",
       "      <th>0</th>\n",
       "      <td>1996-01-31</td>\n",
       "      <td>335031</td>\n",
       "      <td>New York</td>\n",
       "      <td>NY</td>\n",
       "      <td>NaN</td>\n",
       "      <td>NaN</td>\n",
       "    </tr>\n",
       "    <tr>\n",
       "      <th>1</th>\n",
       "      <td>1996-02-29</td>\n",
       "      <td>334239</td>\n",
       "      <td>New York</td>\n",
       "      <td>NY</td>\n",
       "      <td>-0.002364</td>\n",
       "      <td>NaN</td>\n",
       "    </tr>\n",
       "    <tr>\n",
       "      <th>2</th>\n",
       "      <td>1996-03-31</td>\n",
       "      <td>333721</td>\n",
       "      <td>New York</td>\n",
       "      <td>NY</td>\n",
       "      <td>-0.001550</td>\n",
       "      <td>NaN</td>\n",
       "    </tr>\n",
       "    <tr>\n",
       "      <th>3</th>\n",
       "      <td>1996-04-30</td>\n",
       "      <td>332721</td>\n",
       "      <td>New York</td>\n",
       "      <td>NY</td>\n",
       "      <td>-0.002997</td>\n",
       "      <td>NaN</td>\n",
       "    </tr>\n",
       "    <tr>\n",
       "      <th>4</th>\n",
       "      <td>1996-05-31</td>\n",
       "      <td>332062</td>\n",
       "      <td>New York</td>\n",
       "      <td>NY</td>\n",
       "      <td>-0.001981</td>\n",
       "      <td>NaN</td>\n",
       "    </tr>\n",
       "    <tr>\n",
       "      <th>...</th>\n",
       "      <td>...</td>\n",
       "      <td>...</td>\n",
       "      <td>...</td>\n",
       "      <td>...</td>\n",
       "      <td>...</td>\n",
       "      <td>...</td>\n",
       "    </tr>\n",
       "    <tr>\n",
       "      <th>275117</th>\n",
       "      <td>2020-10-31</td>\n",
       "      <td>453925</td>\n",
       "      <td>Ketchikan</td>\n",
       "      <td>AK</td>\n",
       "      <td>0.003162</td>\n",
       "      <td>0.012362</td>\n",
       "    </tr>\n",
       "    <tr>\n",
       "      <th>275118</th>\n",
       "      <td>2020-11-30</td>\n",
       "      <td>456139</td>\n",
       "      <td>Ketchikan</td>\n",
       "      <td>AK</td>\n",
       "      <td>0.004877</td>\n",
       "      <td>0.016328</td>\n",
       "    </tr>\n",
       "    <tr>\n",
       "      <th>275119</th>\n",
       "      <td>2020-12-31</td>\n",
       "      <td>458631</td>\n",
       "      <td>Ketchikan</td>\n",
       "      <td>AK</td>\n",
       "      <td>0.005463</td>\n",
       "      <td>0.022039</td>\n",
       "    </tr>\n",
       "    <tr>\n",
       "      <th>275120</th>\n",
       "      <td>2021-01-31</td>\n",
       "      <td>461221</td>\n",
       "      <td>Ketchikan</td>\n",
       "      <td>AK</td>\n",
       "      <td>0.005647</td>\n",
       "      <td>0.028357</td>\n",
       "    </tr>\n",
       "    <tr>\n",
       "      <th>275121</th>\n",
       "      <td>2021-02-28</td>\n",
       "      <td>462963</td>\n",
       "      <td>Ketchikan</td>\n",
       "      <td>AK</td>\n",
       "      <td>0.003777</td>\n",
       "      <td>0.030999</td>\n",
       "    </tr>\n",
       "  </tbody>\n",
       "</table>\n",
       "<p>275122 rows × 6 columns</p>\n",
       "</div>"
      ],
      "text/plain": [
       "0             DATE     HPI        MSA State  1_Month_change  1_Year_change\n",
       "0       1996-01-31  335031   New York    NY             NaN            NaN\n",
       "1       1996-02-29  334239   New York    NY       -0.002364            NaN\n",
       "2       1996-03-31  333721   New York    NY       -0.001550            NaN\n",
       "3       1996-04-30  332721   New York    NY       -0.002997            NaN\n",
       "4       1996-05-31  332062   New York    NY       -0.001981            NaN\n",
       "...            ...     ...        ...   ...             ...            ...\n",
       "275117  2020-10-31  453925  Ketchikan    AK        0.003162       0.012362\n",
       "275118  2020-11-30  456139  Ketchikan    AK        0.004877       0.016328\n",
       "275119  2020-12-31  458631  Ketchikan    AK        0.005463       0.022039\n",
       "275120  2021-01-31  461221  Ketchikan    AK        0.005647       0.028357\n",
       "275121  2021-02-28  462963  Ketchikan    AK        0.003777       0.030999\n",
       "\n",
       "[275122 rows x 6 columns]"
      ]
     },
     "execution_count": 23,
     "metadata": {},
     "output_type": "execute_result"
    }
   ],
   "source": [
    "change_rows(HPI_high_tier,\"HPI_high_tier\")"
   ]
  },
  {
   "cell_type": "code",
   "execution_count": 24,
   "metadata": {},
   "outputs": [
    {
     "data": {
      "text/html": [
       "<div>\n",
       "<style scoped>\n",
       "    .dataframe tbody tr th:only-of-type {\n",
       "        vertical-align: middle;\n",
       "    }\n",
       "\n",
       "    .dataframe tbody tr th {\n",
       "        vertical-align: top;\n",
       "    }\n",
       "\n",
       "    .dataframe thead th {\n",
       "        text-align: right;\n",
       "    }\n",
       "</style>\n",
       "<table border=\"1\" class=\"dataframe\">\n",
       "  <thead>\n",
       "    <tr style=\"text-align: right;\">\n",
       "      <th></th>\n",
       "      <th>DATE</th>\n",
       "      <th>HPI</th>\n",
       "      <th>MSA</th>\n",
       "      <th>State</th>\n",
       "      <th>1_Month_change</th>\n",
       "      <th>1_Year_change</th>\n",
       "    </tr>\n",
       "  </thead>\n",
       "  <tbody>\n",
       "    <tr>\n",
       "      <th>0</th>\n",
       "      <td>1996-01-31</td>\n",
       "      <td>187450</td>\n",
       "      <td>New York</td>\n",
       "      <td>NY</td>\n",
       "      <td>NaN</td>\n",
       "      <td>NaN</td>\n",
       "    </tr>\n",
       "    <tr>\n",
       "      <th>1</th>\n",
       "      <td>1996-02-29</td>\n",
       "      <td>187013</td>\n",
       "      <td>New York</td>\n",
       "      <td>NY</td>\n",
       "      <td>-0.002331</td>\n",
       "      <td>NaN</td>\n",
       "    </tr>\n",
       "    <tr>\n",
       "      <th>2</th>\n",
       "      <td>1996-03-31</td>\n",
       "      <td>186734</td>\n",
       "      <td>New York</td>\n",
       "      <td>NY</td>\n",
       "      <td>-0.001492</td>\n",
       "      <td>NaN</td>\n",
       "    </tr>\n",
       "    <tr>\n",
       "      <th>3</th>\n",
       "      <td>1996-04-30</td>\n",
       "      <td>186202</td>\n",
       "      <td>New York</td>\n",
       "      <td>NY</td>\n",
       "      <td>-0.002849</td>\n",
       "      <td>NaN</td>\n",
       "    </tr>\n",
       "    <tr>\n",
       "      <th>4</th>\n",
       "      <td>1996-05-31</td>\n",
       "      <td>185885</td>\n",
       "      <td>New York</td>\n",
       "      <td>NY</td>\n",
       "      <td>-0.001702</td>\n",
       "      <td>NaN</td>\n",
       "    </tr>\n",
       "    <tr>\n",
       "      <th>...</th>\n",
       "      <td>...</td>\n",
       "      <td>...</td>\n",
       "      <td>...</td>\n",
       "      <td>...</td>\n",
       "      <td>...</td>\n",
       "      <td>...</td>\n",
       "    </tr>\n",
       "    <tr>\n",
       "      <th>275117</th>\n",
       "      <td>2020-10-31</td>\n",
       "      <td>312295</td>\n",
       "      <td>Ketchikan</td>\n",
       "      <td>AK</td>\n",
       "      <td>0.003196</td>\n",
       "      <td>0.011724</td>\n",
       "    </tr>\n",
       "    <tr>\n",
       "      <th>275118</th>\n",
       "      <td>2020-11-30</td>\n",
       "      <td>313999</td>\n",
       "      <td>Ketchikan</td>\n",
       "      <td>AK</td>\n",
       "      <td>0.005456</td>\n",
       "      <td>0.016701</td>\n",
       "    </tr>\n",
       "    <tr>\n",
       "      <th>275119</th>\n",
       "      <td>2020-12-31</td>\n",
       "      <td>315875</td>\n",
       "      <td>Ketchikan</td>\n",
       "      <td>AK</td>\n",
       "      <td>0.005975</td>\n",
       "      <td>0.023385</td>\n",
       "    </tr>\n",
       "    <tr>\n",
       "      <th>275120</th>\n",
       "      <td>2021-01-31</td>\n",
       "      <td>317796</td>\n",
       "      <td>Ketchikan</td>\n",
       "      <td>AK</td>\n",
       "      <td>0.006082</td>\n",
       "      <td>0.030454</td>\n",
       "    </tr>\n",
       "    <tr>\n",
       "      <th>275121</th>\n",
       "      <td>2021-02-28</td>\n",
       "      <td>318971</td>\n",
       "      <td>Ketchikan</td>\n",
       "      <td>AK</td>\n",
       "      <td>0.003697</td>\n",
       "      <td>0.032710</td>\n",
       "    </tr>\n",
       "  </tbody>\n",
       "</table>\n",
       "<p>275122 rows × 6 columns</p>\n",
       "</div>"
      ],
      "text/plain": [
       "0             DATE     HPI        MSA State  1_Month_change  1_Year_change\n",
       "0       1996-01-31  187450   New York    NY             NaN            NaN\n",
       "1       1996-02-29  187013   New York    NY       -0.002331            NaN\n",
       "2       1996-03-31  186734   New York    NY       -0.001492            NaN\n",
       "3       1996-04-30  186202   New York    NY       -0.002849            NaN\n",
       "4       1996-05-31  185885   New York    NY       -0.001702            NaN\n",
       "...            ...     ...        ...   ...             ...            ...\n",
       "275117  2020-10-31  312295  Ketchikan    AK        0.003196       0.011724\n",
       "275118  2020-11-30  313999  Ketchikan    AK        0.005456       0.016701\n",
       "275119  2020-12-31  315875  Ketchikan    AK        0.005975       0.023385\n",
       "275120  2021-01-31  317796  Ketchikan    AK        0.006082       0.030454\n",
       "275121  2021-02-28  318971  Ketchikan    AK        0.003697       0.032710\n",
       "\n",
       "[275122 rows x 6 columns]"
      ]
     },
     "execution_count": 24,
     "metadata": {},
     "output_type": "execute_result"
    }
   ],
   "source": [
    "change_rows(HPI_medium_tier,\"HPI_medium_tier\")"
   ]
  },
  {
   "cell_type": "code",
   "execution_count": 25,
   "metadata": {},
   "outputs": [
    {
     "data": {
      "text/html": [
       "<div>\n",
       "<style scoped>\n",
       "    .dataframe tbody tr th:only-of-type {\n",
       "        vertical-align: middle;\n",
       "    }\n",
       "\n",
       "    .dataframe tbody tr th {\n",
       "        vertical-align: top;\n",
       "    }\n",
       "\n",
       "    .dataframe thead th {\n",
       "        text-align: right;\n",
       "    }\n",
       "</style>\n",
       "<table border=\"1\" class=\"dataframe\">\n",
       "  <thead>\n",
       "    <tr style=\"text-align: right;\">\n",
       "      <th></th>\n",
       "      <th>DATE</th>\n",
       "      <th>HPI</th>\n",
       "      <th>MSA</th>\n",
       "      <th>State</th>\n",
       "      <th>1_Month_change</th>\n",
       "      <th>1_Year_change</th>\n",
       "    </tr>\n",
       "  </thead>\n",
       "  <tbody>\n",
       "    <tr>\n",
       "      <th>0</th>\n",
       "      <td>1996-01-31</td>\n",
       "      <td>114133</td>\n",
       "      <td>New York</td>\n",
       "      <td>NY</td>\n",
       "      <td>NaN</td>\n",
       "      <td>NaN</td>\n",
       "    </tr>\n",
       "    <tr>\n",
       "      <th>1</th>\n",
       "      <td>1996-02-29</td>\n",
       "      <td>113895</td>\n",
       "      <td>New York</td>\n",
       "      <td>NY</td>\n",
       "      <td>-0.002085</td>\n",
       "      <td>NaN</td>\n",
       "    </tr>\n",
       "    <tr>\n",
       "      <th>2</th>\n",
       "      <td>1996-03-31</td>\n",
       "      <td>113741</td>\n",
       "      <td>New York</td>\n",
       "      <td>NY</td>\n",
       "      <td>-0.001352</td>\n",
       "      <td>NaN</td>\n",
       "    </tr>\n",
       "    <tr>\n",
       "      <th>3</th>\n",
       "      <td>1996-04-30</td>\n",
       "      <td>113457</td>\n",
       "      <td>New York</td>\n",
       "      <td>NY</td>\n",
       "      <td>-0.002497</td>\n",
       "      <td>NaN</td>\n",
       "    </tr>\n",
       "    <tr>\n",
       "      <th>4</th>\n",
       "      <td>1996-05-31</td>\n",
       "      <td>113289</td>\n",
       "      <td>New York</td>\n",
       "      <td>NY</td>\n",
       "      <td>-0.001481</td>\n",
       "      <td>NaN</td>\n",
       "    </tr>\n",
       "    <tr>\n",
       "      <th>...</th>\n",
       "      <td>...</td>\n",
       "      <td>...</td>\n",
       "      <td>...</td>\n",
       "      <td>...</td>\n",
       "      <td>...</td>\n",
       "      <td>...</td>\n",
       "    </tr>\n",
       "    <tr>\n",
       "      <th>275117</th>\n",
       "      <td>2020-10-31</td>\n",
       "      <td>180410</td>\n",
       "      <td>Ketchikan</td>\n",
       "      <td>AK</td>\n",
       "      <td>0.003370</td>\n",
       "      <td>0.010513</td>\n",
       "    </tr>\n",
       "    <tr>\n",
       "      <th>275118</th>\n",
       "      <td>2020-11-30</td>\n",
       "      <td>181427</td>\n",
       "      <td>Ketchikan</td>\n",
       "      <td>AK</td>\n",
       "      <td>0.005637</td>\n",
       "      <td>0.016284</td>\n",
       "    </tr>\n",
       "    <tr>\n",
       "      <th>275119</th>\n",
       "      <td>2020-12-31</td>\n",
       "      <td>182492</td>\n",
       "      <td>Ketchikan</td>\n",
       "      <td>AK</td>\n",
       "      <td>0.005870</td>\n",
       "      <td>0.023035</td>\n",
       "    </tr>\n",
       "    <tr>\n",
       "      <th>275120</th>\n",
       "      <td>2021-01-31</td>\n",
       "      <td>183507</td>\n",
       "      <td>Ketchikan</td>\n",
       "      <td>AK</td>\n",
       "      <td>0.005562</td>\n",
       "      <td>0.029562</td>\n",
       "    </tr>\n",
       "    <tr>\n",
       "      <th>275121</th>\n",
       "      <td>2021-02-28</td>\n",
       "      <td>184066</td>\n",
       "      <td>Ketchikan</td>\n",
       "      <td>AK</td>\n",
       "      <td>0.003046</td>\n",
       "      <td>0.030674</td>\n",
       "    </tr>\n",
       "  </tbody>\n",
       "</table>\n",
       "<p>275122 rows × 6 columns</p>\n",
       "</div>"
      ],
      "text/plain": [
       "0             DATE     HPI        MSA State  1_Month_change  1_Year_change\n",
       "0       1996-01-31  114133   New York    NY             NaN            NaN\n",
       "1       1996-02-29  113895   New York    NY       -0.002085            NaN\n",
       "2       1996-03-31  113741   New York    NY       -0.001352            NaN\n",
       "3       1996-04-30  113457   New York    NY       -0.002497            NaN\n",
       "4       1996-05-31  113289   New York    NY       -0.001481            NaN\n",
       "...            ...     ...        ...   ...             ...            ...\n",
       "275117  2020-10-31  180410  Ketchikan    AK        0.003370       0.010513\n",
       "275118  2020-11-30  181427  Ketchikan    AK        0.005637       0.016284\n",
       "275119  2020-12-31  182492  Ketchikan    AK        0.005870       0.023035\n",
       "275120  2021-01-31  183507  Ketchikan    AK        0.005562       0.029562\n",
       "275121  2021-02-28  184066  Ketchikan    AK        0.003046       0.030674\n",
       "\n",
       "[275122 rows x 6 columns]"
      ]
     },
     "execution_count": 25,
     "metadata": {},
     "output_type": "execute_result"
    }
   ],
   "source": [
    "change_rows(HPI_low_tier,\"HPI_low_tier\")"
   ]
  },
  {
   "cell_type": "code",
   "execution_count": 26,
   "metadata": {},
   "outputs": [
    {
     "data": {
      "text/html": [
       "<div>\n",
       "<style scoped>\n",
       "    .dataframe tbody tr th:only-of-type {\n",
       "        vertical-align: middle;\n",
       "    }\n",
       "\n",
       "    .dataframe tbody tr th {\n",
       "        vertical-align: top;\n",
       "    }\n",
       "\n",
       "    .dataframe thead th {\n",
       "        text-align: right;\n",
       "    }\n",
       "</style>\n",
       "<table border=\"1\" class=\"dataframe\">\n",
       "  <thead>\n",
       "    <tr style=\"text-align: right;\">\n",
       "      <th></th>\n",
       "      <th>DATE</th>\n",
       "      <th>HPI</th>\n",
       "      <th>MSA</th>\n",
       "      <th>State</th>\n",
       "      <th>1_Month_change</th>\n",
       "      <th>1_Year_change</th>\n",
       "    </tr>\n",
       "  </thead>\n",
       "  <tbody>\n",
       "    <tr>\n",
       "      <th>0</th>\n",
       "      <td>1996-01-31</td>\n",
       "      <td>212205</td>\n",
       "      <td>New York</td>\n",
       "      <td>NY</td>\n",
       "      <td>NaN</td>\n",
       "      <td>NaN</td>\n",
       "    </tr>\n",
       "    <tr>\n",
       "      <th>1</th>\n",
       "      <td>1996-02-29</td>\n",
       "      <td>211716</td>\n",
       "      <td>New York</td>\n",
       "      <td>NY</td>\n",
       "      <td>-0.002304</td>\n",
       "      <td>NaN</td>\n",
       "    </tr>\n",
       "    <tr>\n",
       "      <th>2</th>\n",
       "      <td>1996-03-31</td>\n",
       "      <td>211399</td>\n",
       "      <td>New York</td>\n",
       "      <td>NY</td>\n",
       "      <td>-0.001497</td>\n",
       "      <td>NaN</td>\n",
       "    </tr>\n",
       "    <tr>\n",
       "      <th>3</th>\n",
       "      <td>1996-04-30</td>\n",
       "      <td>210793</td>\n",
       "      <td>New York</td>\n",
       "      <td>NY</td>\n",
       "      <td>-0.002863</td>\n",
       "      <td>NaN</td>\n",
       "    </tr>\n",
       "    <tr>\n",
       "      <th>4</th>\n",
       "      <td>1996-05-31</td>\n",
       "      <td>210412</td>\n",
       "      <td>New York</td>\n",
       "      <td>NY</td>\n",
       "      <td>-0.001809</td>\n",
       "      <td>NaN</td>\n",
       "    </tr>\n",
       "    <tr>\n",
       "      <th>...</th>\n",
       "      <td>...</td>\n",
       "      <td>...</td>\n",
       "      <td>...</td>\n",
       "      <td>...</td>\n",
       "      <td>...</td>\n",
       "      <td>...</td>\n",
       "    </tr>\n",
       "    <tr>\n",
       "      <th>275117</th>\n",
       "      <td>2020-10-31</td>\n",
       "      <td>315543</td>\n",
       "      <td>Ketchikan</td>\n",
       "      <td>AK</td>\n",
       "      <td>0.003213</td>\n",
       "      <td>0.011799</td>\n",
       "    </tr>\n",
       "    <tr>\n",
       "      <th>275118</th>\n",
       "      <td>2020-11-30</td>\n",
       "      <td>317188</td>\n",
       "      <td>Ketchikan</td>\n",
       "      <td>AK</td>\n",
       "      <td>0.005213</td>\n",
       "      <td>0.016442</td>\n",
       "    </tr>\n",
       "    <tr>\n",
       "      <th>275119</th>\n",
       "      <td>2020-12-31</td>\n",
       "      <td>318999</td>\n",
       "      <td>Ketchikan</td>\n",
       "      <td>AK</td>\n",
       "      <td>0.005710</td>\n",
       "      <td>0.022673</td>\n",
       "    </tr>\n",
       "    <tr>\n",
       "      <th>275120</th>\n",
       "      <td>2021-01-31</td>\n",
       "      <td>320841</td>\n",
       "      <td>Ketchikan</td>\n",
       "      <td>AK</td>\n",
       "      <td>0.005774</td>\n",
       "      <td>0.029278</td>\n",
       "    </tr>\n",
       "    <tr>\n",
       "      <th>275121</th>\n",
       "      <td>2021-02-28</td>\n",
       "      <td>322000</td>\n",
       "      <td>Ketchikan</td>\n",
       "      <td>AK</td>\n",
       "      <td>0.003611</td>\n",
       "      <td>0.031501</td>\n",
       "    </tr>\n",
       "  </tbody>\n",
       "</table>\n",
       "<p>275122 rows × 6 columns</p>\n",
       "</div>"
      ],
      "text/plain": [
       "0             DATE     HPI        MSA State  1_Month_change  1_Year_change\n",
       "0       1996-01-31  212205   New York    NY             NaN            NaN\n",
       "1       1996-02-29  211716   New York    NY       -0.002304            NaN\n",
       "2       1996-03-31  211399   New York    NY       -0.001497            NaN\n",
       "3       1996-04-30  210793   New York    NY       -0.002863            NaN\n",
       "4       1996-05-31  210412   New York    NY       -0.001809            NaN\n",
       "...            ...     ...        ...   ...             ...            ...\n",
       "275117  2020-10-31  315543  Ketchikan    AK        0.003213       0.011799\n",
       "275118  2020-11-30  317188  Ketchikan    AK        0.005213       0.016442\n",
       "275119  2020-12-31  318999  Ketchikan    AK        0.005710       0.022673\n",
       "275120  2021-01-31  320841  Ketchikan    AK        0.005774       0.029278\n",
       "275121  2021-02-28  322000  Ketchikan    AK        0.003611       0.031501\n",
       "\n",
       "[275122 rows x 6 columns]"
      ]
     },
     "execution_count": 26,
     "metadata": {},
     "output_type": "execute_result"
    }
   ],
   "source": [
    "change_rows(mean_hpi,\"HPI_mean\")"
   ]
  },
  {
   "cell_type": "code",
   "execution_count": null,
   "metadata": {},
   "outputs": [],
   "source": []
  }
 ],
 "metadata": {
  "kernelspec": {
   "display_name": "Python 3",
   "language": "python",
   "name": "python3"
  },
  "language_info": {
   "codemirror_mode": {
    "name": "ipython",
    "version": 3
   },
   "file_extension": ".py",
   "mimetype": "text/x-python",
   "name": "python",
   "nbconvert_exporter": "python",
   "pygments_lexer": "ipython3",
   "version": "3.8.3"
  },
  "varInspector": {
   "cols": {
    "lenName": 16,
    "lenType": 16,
    "lenVar": 40
   },
   "kernels_config": {
    "python": {
     "delete_cmd_postfix": "",
     "delete_cmd_prefix": "del ",
     "library": "var_list.py",
     "varRefreshCmd": "print(var_dic_list())"
    },
    "r": {
     "delete_cmd_postfix": ") ",
     "delete_cmd_prefix": "rm(",
     "library": "var_list.r",
     "varRefreshCmd": "cat(var_dic_list()) "
    }
   },
   "types_to_exclude": [
    "module",
    "function",
    "builtin_function_or_method",
    "instance",
    "_Feature"
   ],
   "window_display": false
  }
 },
 "nbformat": 4,
 "nbformat_minor": 2
}
