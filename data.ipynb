{
 "cells": [
  {
   "cell_type": "code",
   "execution_count": null,
   "metadata": {},
   "outputs": [],
   "source": [
    "import pandas as pd\n",
    "import datetime as dt\n",
    "import matplotlib.pyplot as plt\n"
   ]
  },
  {
   "cell_type": "code",
   "execution_count": null,
   "metadata": {},
   "outputs": [],
   "source": [
    "def date_to_datetime(data):\n",
    "    data['DATE']= pd.to_datetime(data.DATE, format='%d/%m/%Y')\n",
    "    data['DATE'] = data['DATE'].dt.date\n",
    "    return data"
   ]
  },
  {
   "cell_type": "code",
   "execution_count": null,
   "metadata": {},
   "outputs": [],
   "source": [
    "def set_data(data):\n",
    "    dates = data['DATE']\n",
    "    dates = [dates[i].replace(\"-\", \"/\") for i in range(0,len(dates))]\n",
    "    dates = [f'{i.split(\"/\")[2]}/{i.split(\"/\")[1]}/{i.split(\"/\")[0]}' for i in dates]\n",
    "    data['DATE'] = dates\n",
    "    data_df = date_to_datetime(data)\n",
    "    return data_df"
   ]
  },
  {
   "cell_type": "code",
   "execution_count": null,
   "metadata": {},
   "outputs": [],
   "source": [
    "#GDP - yearly, 2001 to 2019\n",
    "#units: Millions of Dollars, Not Seasonally Adjusted\n",
    "#https://fred.stlouisfed.org/series/NGMP19100\n",
    "#https://fred.stlouisfed.org/series/NGMP29820\n",
    "#https://fred.stlouisfed.org/series/NGMP14860\n",
    "BP_GDP = pd.read_csv(\"datasets/BP_GDP.csv\")\n",
    "BP_GDP.rename(columns={ BP_GDP.columns[1]: \"GDP\" }, inplace = True)\n",
    "BP_GDP_df = set_data(BP_GDP)\n",
    "BP_GDP_df['GDP_1_Year_Change']=BP_GDP_df['GDP'].pct_change()\n",
    "\n",
    "Dallas_GDP = pd.read_csv(\"datasets/Dallas_GDP.csv\")\n",
    "Dallas_GDP.rename(columns={ Dallas_GDP.columns[1]: \"GDP\" }, inplace = True)\n",
    "Dallas_GDP_df = set_data(Dallas_GDP)\n",
    "Dallas_GDP_df['GDP_1_Year_Change']=Dallas_GDP_df['GDP'].pct_change()\n",
    "\n",
    "LV_GDP = pd.read_csv(\"datasets/LV_GDP.csv\")\n",
    "LV_GDP.rename(columns={ LV_GDP.columns[1]: \"GDP\" }, inplace = True)\n",
    "LV_GDP_df = set_data(LV_GDP)\n",
    "LV_GDP_df['GDP_1_Year_Change']=LV_GDP_df['GDP'].pct_change()\n",
    "\n",
    "\n",
    "#INCOME - yearly, 1996 to 2019\n",
    "#units:  Millions of Dollars, Not Seasonally Adjusted\n",
    "#https://fred.stlouisfed.org/series/LASV832PCPI\n",
    "#https://fred.stlouisfed.org/series/DALL148PCPI\n",
    "#https://fred.stlouisfed.org/series/BRID909PCPI\n",
    "BP_Income = pd.read_csv(\"datasets/BP_Income.csv\")\n",
    "BP_Income = BP_Income.rename(columns={'1_Year_Change': 'Income_1_Year_Change'})\n",
    "BP_Income_df = date_to_datetime(BP_Income)\n",
    "BP_Income_df['Per_Capita_Income'] = BP_Income_df['Per_Capita_Income']/1000000\n",
    "\n",
    "Dallas_Income = pd.read_csv(\"datasets/Dallas_Income.csv\")\n",
    "Dallas_Income = Dallas_Income.rename(columns={'1_Year_Change': 'Income_1_Year_Change'})\n",
    "Dallas_Income_df = date_to_datetime(Dallas_Income)\n",
    "Dallas_Income_df['Per_Capita_Income'] = Dallas_Income_df['Per_Capita_Income']/1000000\n",
    "\n",
    "LV_Income = pd.read_csv(\"datasets/LV_Income.csv\")\n",
    "LV_Income = LV_Income.rename(columns={'1_Year_Change': 'Income_1_Year_Change'})\n",
    "LV_Income_df = date_to_datetime(LV_Income)\n",
    "LV_Income_df = LV_Income_df[LV_Income_df['DATE'] >= dt.date(1996,1,1)]\n",
    "LV_Income_df['Per_Capita_Income'] = LV_Income_df['Per_Capita_Income']/1000000\n",
    "\n",
    "\n",
    "#POPULATION - yearly, 2000 to 2019\n",
    "#units: Thousands of Persons, Not Seasonally Adjusted\n",
    "#https://fred.stlouisfed.org/series/LSVPOP\n",
    "#https://fred.stlouisfed.org/series/DFWPOP\n",
    "#https://fred.stlouisfed.org/series/BRGPOP\n",
    "BP_POP = pd.read_csv(\"datasets/BP_POP.csv\")\n",
    "BP_POP.rename(columns={ BP_POP.columns[1]: \"POP\" }, inplace = True)\n",
    "BP_POP_df = set_data(BP_POP)\n",
    "BP_POP_df['POP_1_Year_Change']=BP_POP_df['POP'].pct_change()\n",
    "\n",
    "Dallas_POP = pd.read_csv(\"datasets/Dallas_POP.csv\")\n",
    "Dallas_POP.rename(columns={ Dallas_POP.columns[1]: \"POP\" }, inplace = True)\n",
    "Dallas_POP_df = set_data(Dallas_POP)\n",
    "Dallas_POP_df['POP_1_Year_Change']=Dallas_POP_df['POP'].pct_change()\n",
    "\n",
    "LV_POP = pd.read_csv(\"datasets/LV_POP.csv\")\n",
    "LV_POP.rename(columns={ LV_POP.columns[1]: \"POP\" }, inplace = True)\n",
    "LV_POP_df = set_data(LV_POP)\n",
    "LV_POP_df['POP_1_Year_Change']=LV_POP_df['POP'].pct_change()\n",
    "\n",
    "\n",
    "#HPI - quarterly, 1996 to 10.2020\n",
    "#units:\n",
    "#\n",
    "#\n",
    "#\n",
    "BP_HPI = pd.read_csv(\"datasets/BP_HPI.csv\")\n",
    "BP_HPI = BP_HPI.rename(columns={'1_Year_Change': 'HPI_1_Year_Change','1_Quarter_Change': 'HPI_1_Quarter_Change'})\n",
    "BP_HPI_df = date_to_datetime(BP_HPI)\n",
    "\n",
    "Dallas_HPI = pd.read_csv(\"datasets/Dallas_HPI.csv\")\n",
    "Dallas_HPI = Dallas_HPI.rename(columns={'1_Year_Change': 'HPI_1_Year_Change','1_Quarter_Change': 'HPI_1_Quarter_Change'})\n",
    "Dallas_HPI_df = date_to_datetime(Dallas_HPI)\n",
    "\n",
    "LV_HPI = pd.read_csv(\"datasets/LV_HPI.csv\")\n",
    "LV_HPI = LV_HPI.rename(columns={'1_Year_Change': 'HPI_1_Year_Change','1_Quarter_Change': 'HPI_1_Quarter_Change'})\n",
    "LV_HPI_df = date_to_datetime(LV_HPI)\n",
    "\n",
    "\n",
    "#UNEMPLOYMENT - monthly, 1996 to 01.2021\n",
    "#units:Percent,Not Seasonally Adjusted\n",
    "#https://fred.stlouisfed.org/series/BRID909URN\n",
    "#https://fred.stlouisfed.org/series/DALL148URN\n",
    "#https://fred.stlouisfed.org/series/LASV832URN\n",
    "BP_unemp = pd.read_csv(\"datasets/BP_unemp.csv\")\n",
    "BP_unemp = BP_unemp.rename(columns={'Date': 'DATE',\"1_Month_Change\":\"unemp_1_Month_Change\",\"12_Months_Change\":\"unemp_1_Year_Change\"})\n",
    "BP_unemp_df = date_to_datetime(BP_unemp)\n",
    "\n",
    "Dallas_unemp = pd.read_csv(\"datasets/Dallas_unemp.csv\")\n",
    "Dallas_unemp = Dallas_unemp.rename(columns={'Date': 'DATE',\"1_Month_Change\":\"unemp_1_Month_Change\",\"12_Months_Change\":\"unemp_1_Year_Change\"})\n",
    "Dallas_unemp_df = date_to_datetime(Dallas_unemp)\n",
    "\n",
    "LV_unemp = pd.read_csv(\"datasets/LV_unemp.csv\")\n",
    "LV_unemp = LV_unemp.rename(columns={'Date': 'DATE',\"1_Month_Change\":\"unemp_1_Month_Change\",\"12_Months_Change\":\"unemp_1_Year_Change\"})\n",
    "LV_unemp_df = date_to_datetime(LV_unemp)\n",
    "\n",
    "\n",
    "# Civilian Labor Force - monthly, 1996 to 01.2021\n",
    "#units: Thousands of Persons\n",
    "#https://fred.stlouisfed.org/series/BRID909LFN\n",
    "#https://fred.stlouisfed.org/series/LASV832LFN\n",
    "#https://fred.stlouisfed.org/series/DALL148LFN\n",
    "BP_CLF = pd.read_csv(\"datasets/BP_CLF.csv\")\n",
    "BP_CLF.rename(columns={ BP_CLF.columns[1]: \"CLF\" }, inplace = True)\n",
    "BP_CLF_df = set_data(BP_CLF)\n",
    "BP_CLF_df['CLF'] = BP_CLF_df['CLF']/1000\n",
    "BP_CLF_df['CLF_1_Year_Change']=BP_CLF_df['CLF'].pct_change()\n",
    "\n",
    "Dallas_CLF = pd.read_csv(\"datasets/Dallas_CLF.csv\")\n",
    "Dallas_CLF.rename(columns={ Dallas_CLF.columns[1]: \"CLF\" }, inplace = True)\n",
    "Dallas_CLF_df = set_data(Dallas_CLF)\n",
    "Dallas_CLF_df['CLF'] = Dallas_CLF_df['CLF']/1000\n",
    "Dallas_CLF_df['CLF_1_Year_Change']=Dallas_CLF_df['CLF'].pct_change()\n",
    "\n",
    "LV_CLF = pd.read_csv(\"datasets/LV_CLF.csv\")\n",
    "LV_CLF.rename(columns={ LV_CLF.columns[1]: \"CLF\" }, inplace = True)\n",
    "LV_CLF_df = set_data(LV_CLF)\n",
    "LV_CLF_df['CLF'] = LV_CLF_df['CLF']/1000\n",
    "LV_CLF_df['CLF_1_Year_Change']=LV_CLF_df['CLF'].pct_change()\n"
   ]
  },
  {
   "cell_type": "code",
   "execution_count": null,
   "metadata": {},
   "outputs": [],
   "source": [
    "BP_m1 = pd.merge(BP_unemp_df, BP_HPI_df, on=\"DATE\", how=\"outer\")\n",
    "BP_m2 = pd.merge(BP_m1, BP_Income_df, on=\"DATE\", how=\"outer\")\n",
    "BP_m3 = pd.merge(BP_m2, BP_CLF_df, on=\"DATE\", how=\"outer\")\n",
    "BP_m4 = pd.merge(BP_m3, BP_POP_df, on=\"DATE\", how=\"outer\")\n",
    "BP_df = pd.merge(BP_m4, BP_GDP_df, on=\"DATE\", how=\"outer\")\n",
    "BP_df['State'] = 'CT'\n",
    "BP_df['MSA'] = 'Bridgeport-Stamford-Norwalk'\n",
    "BP_df['HPI_in_1_year'] = BP_df['HPI'].shift(-12)\n",
    "BP_df['HPI_in_2_years'] = BP_df['HPI'].shift(-24)\n",
    "BP_df['HPI_in_3_years'] = BP_df['HPI'].shift(-36)\n",
    "BP_df.to_csv(\"BP_df.csv\")\n",
    "BP_df"
   ]
  },
  {
   "cell_type": "code",
   "execution_count": null,
   "metadata": {},
   "outputs": [],
   "source": [
    "Dallas_m1 = pd.merge(Dallas_unemp_df, Dallas_HPI_df, on=\"DATE\", how=\"outer\")\n",
    "Dallas_m2 = pd.merge(Dallas_m1, Dallas_Income_df, on=\"DATE\", how=\"outer\")\n",
    "Dallas_m3 = pd.merge(Dallas_m2, Dallas_CLF_df, on=\"DATE\", how=\"outer\")\n",
    "Dallas_m4 = pd.merge(Dallas_m3, Dallas_POP_df, on=\"DATE\", how=\"outer\")\n",
    "Dallas_df = pd.merge(Dallas_m4, Dallas_GDP_df, on=\"DATE\", how=\"outer\")\n",
    "Dallas_df['State'] = 'TX'\n",
    "Dallas_df['MSA'] = 'Dallas-Fort Worth-Arlington'\n",
    "Dallas_df['HPI_in_1_year'] = Dallas_df['HPI'].shift(-12)\n",
    "Dallas_df['HPI_in_2_years'] = Dallas_df['HPI'].shift(-24)\n",
    "Dallas_df['HPI_in_3_years'] = Dallas_df['HPI'].shift(-36)\n",
    "Dallas_df.to_csv(\"Dallas_df.csv\")\n",
    "Dallas_df"
   ]
  },
  {
   "cell_type": "code",
   "execution_count": null,
   "metadata": {},
   "outputs": [],
   "source": [
    "LV_m1 = pd.merge(LV_unemp_df, LV_HPI_df, on=\"DATE\", how=\"outer\")\n",
    "LV_m2 = pd.merge(LV_m1, LV_Income_df, on=\"DATE\", how=\"outer\")\n",
    "LV_m3 = pd.merge(LV_m2, LV_CLF_df, on=\"DATE\", how=\"outer\")\n",
    "LV_m4 = pd.merge(LV_m3, LV_POP_df, on=\"DATE\", how=\"outer\")\n",
    "LV_df = pd.merge(LV_m4, LV_GDP_df, on=\"DATE\", how=\"outer\")\n",
    "LV_df['State'] = 'NV'\n",
    "LV_df['MSA'] = 'Las Vegas-Henderson-Paradise'\n",
    "LV_df['HPI_in_1_year'] = LV_df['HPI'].shift(-12)\n",
    "LV_df['HPI_in_2_years'] = LV_df['HPI'].shift(-24)\n",
    "LV_df['HPI_in_3_years'] = LV_df['HPI'].shift(-36)\n",
    "LV_df.to_csv(\"LV_df.csv\")\n",
    "LV_df"
   ]
  },
  {
   "cell_type": "code",
   "execution_count": null,
   "metadata": {},
   "outputs": [],
   "source": [
    "msas_concat_df = pd.concat([BP_df,Dallas_df,LV_df])\n",
    "msas_concat_df.to_csv(\"msas_concat_df.csv\")\n",
    "msas_concat_df = msas_concat_df.reset_index()\n",
    "msas_concat_df"
   ]
  },
  {
   "cell_type": "code",
   "execution_count": null,
   "metadata": {},
   "outputs": [],
   "source": [
    "plt.plot(BP_HPI_df['DATE'],BP_HPI_df['HPI'])"
   ]
  },
  {
   "cell_type": "code",
   "execution_count": null,
   "metadata": {},
   "outputs": [],
   "source": [
    "plt.plot(Dallas_HPI_df['DATE'],Dallas_HPI_df['HPI'])"
   ]
  },
  {
   "cell_type": "code",
   "execution_count": null,
   "metadata": {},
   "outputs": [],
   "source": [
    "plt.plot(LV_HPI_df['DATE'],LV_HPI_df['HPI'])"
   ]
  },
  {
   "cell_type": "code",
   "execution_count": null,
   "metadata": {},
   "outputs": [],
   "source": []
  },
  {
   "cell_type": "code",
   "execution_count": null,
   "metadata": {},
   "outputs": [],
   "source": []
  },
  {
   "cell_type": "code",
   "execution_count": null,
   "metadata": {},
   "outputs": [],
   "source": []
  }
 ],
 "metadata": {
  "kernelspec": {
   "display_name": "Python 3",
   "language": "python",
   "name": "python3"
  },
  "language_info": {
   "codemirror_mode": {
    "name": "ipython",
    "version": 3
   },
   "file_extension": ".py",
   "mimetype": "text/x-python",
   "name": "python",
   "nbconvert_exporter": "python",
   "pygments_lexer": "ipython3",
   "version": "3.8.3"
  },
  "varInspector": {
   "cols": {
    "lenName": 16,
    "lenType": 16,
    "lenVar": 40
   },
   "kernels_config": {
    "python": {
     "delete_cmd_postfix": "",
     "delete_cmd_prefix": "del ",
     "library": "var_list.py",
     "varRefreshCmd": "print(var_dic_list())"
    },
    "r": {
     "delete_cmd_postfix": ") ",
     "delete_cmd_prefix": "rm(",
     "library": "var_list.r",
     "varRefreshCmd": "cat(var_dic_list()) "
    }
   },
   "types_to_exclude": [
    "module",
    "function",
    "builtin_function_or_method",
    "instance",
    "_Feature"
   ],
   "window_display": false
  }
 },
 "nbformat": 4,
 "nbformat_minor": 2
}
