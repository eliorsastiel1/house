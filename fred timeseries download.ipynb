{
 "cells": [
  {
   "cell_type": "code",
   "execution_count": 1,
   "metadata": {},
   "outputs": [],
   "source": [
    "import pandas as pd\n",
    "import numpy as np\n",
    "from tqdm import tqdm\n",
    "import random\n"
   ]
  },
  {
   "cell_type": "markdown",
   "metadata": {},
   "source": [
    "# Get HPI data for ALL MSA in the us:"
   ]
  },
  {
   "cell_type": "markdown",
   "metadata": {},
   "source": [
    "## go to this site: \n",
    "https://www.fhfa.gov/DataTools/Downloads/Pages/House-Price-Index-Datasets.aspx#qat\n",
    "\n",
    "### Look under Quarterly Data - > All-Transactions Indexes (Estimated using Sales Prices and Appraisal Data)-> Metropolitan Statistical Areas and Divisions (Not Seasonally Adjusted)    \n",
    "\n",
    "and download the CSV.\n",
    "this is the HPI for all of the us MSA's - this should include your target + the full MSA list."
   ]
  },
  {
   "cell_type": "code",
   "execution_count": null,
   "metadata": {},
   "outputs": [],
   "source": []
  },
  {
   "cell_type": "code",
   "execution_count": null,
   "metadata": {},
   "outputs": [],
   "source": []
  },
  {
   "cell_type": "markdown",
   "metadata": {},
   "source": [
    "# get FRED info"
   ]
  },
  {
   "cell_type": "markdown",
   "metadata": {},
   "source": [
    "### Getting an api key for FRED:\n",
    "1. read - https://pypi.org/project/fredapi/\n",
    "2. go to here: https://research.stlouisfed.org/docs/api/api_key.html and apply for an api key\n",
    "3. Enter your api key below"
   ]
  },
  {
   "cell_type": "code",
   "execution_count": 2,
   "metadata": {},
   "outputs": [],
   "source": [
    "from fredapi import Fred\n",
    "import requests\n",
    "import time\n",
    "import os\n",
    "from collections import Counter\n",
    "\n",
    "\n",
    "api_key = 'your_api_key_here'\n",
    "fred = Fred(api_key=api_key)"
   ]
  },
  {
   "cell_type": "markdown",
   "metadata": {},
   "source": [
    "# GET all TAGS:"
   ]
  },
  {
   "cell_type": "code",
   "execution_count": 3,
   "metadata": {},
   "outputs": [
    {
     "name": "stdout",
     "output_type": "stream",
     "text": [
      "1000\n"
     ]
    }
   ],
   "source": [
    "tags = requests.get(f'https://api.stlouisfed.org/fred/tags?api_key={api_key}&file_type=json&limit=1000').json()\n",
    "print(len(tags['tags']))"
   ]
  },
  {
   "cell_type": "code",
   "execution_count": 4,
   "metadata": {},
   "outputs": [],
   "source": [
    "import concurrent.futures\n",
    "\n",
    "tag_names = [tag['name'] for tag in tags['tags'] if tag['name']]\n",
    "\n",
    "seen_tags = set()\n",
    "seen_series = set()\n",
    "all_series = []\n",
    "\n",
    "def get_tag_series(tag):\n",
    "    try:\n",
    "        resp = requests.get(f'https://api.stlouisfed.org/fred/tags/series?tag_names={tag}&api_key={api_key}&file_type=json').json()\n",
    "    except:\n",
    "        resp = {}\n",
    "    return tag, resp\n"
   ]
  },
  {
   "cell_type": "markdown",
   "metadata": {},
   "source": [
    "# Build all_series - this is a list with All of Fred TS data !\n",
    "this will take time - however it is parallel programming"
   ]
  },
  {
   "cell_type": "code",
   "execution_count": 5,
   "metadata": {
    "scrolled": true
   },
   "outputs": [
    {
     "name": "stdout",
     "output_type": "stream",
     "text": [
      "running 1000 tags\n",
      "done chunk: 100\n",
      "so far: 50833 seriess\n",
      "running 900 tags\n",
      "done chunk: 100\n",
      "so far: 106157 seriess\n",
      "running 800 tags\n",
      "done chunk: 100\n",
      "problem in tag secondary {'error_code': 429, 'error_message': 'Too Many Requests.  Exceeded Rate Limit'}\n",
      "problem in tag 25 years + {'error_code': 400, 'error_message': 'Bad Request.  Value \"25 years  \" for variable tag_names does not exist.'}\n",
      "problem in tag gas {'error_code': 429, 'error_message': 'Too Many Requests.  Exceeded Rate Limit'}\n",
      "problem in tag rent {'error_code': 429, 'error_message': 'Too Many Requests.  Exceeded Rate Limit'}\n",
      "problem in tag upenn {'error_code': 429, 'error_message': 'Too Many Requests.  Exceeded Rate Limit'}\n",
      "problem in tag 15 years + {'error_code': 400, 'error_message': 'Bad Request.  Value \"15 years  \" for variable tag_names does not exist.'}\n",
      "problem in tag 16 years + {'error_code': 400, 'error_message': 'Bad Request.  Value \"16 years  \" for variable tag_names does not exist.'}\n",
      "problem in tag 55 to 64 years {'error_code': 429, 'error_message': 'Too Many Requests.  Exceeded Rate Limit'}\n",
      "problem in tag origination {'error_code': 429, 'error_message': 'Too Many Requests.  Exceeded Rate Limit'}\n",
      "problem in tag occupation {'error_code': 429, 'error_message': 'Too Many Requests.  Exceeded Rate Limit'}\n",
      "problem in tag vehicles {'error_code': 429, 'error_message': 'Too Many Requests.  Exceeded Rate Limit'}\n",
      "problem in tag pension {'error_code': 429, 'error_message': 'Too Many Requests.  Exceeded Rate Limit'}\n",
      "problem in tag eia {'error_code': 429, 'error_message': 'Too Many Requests.  Exceeded Rate Limit'}\n",
      "problem in tag consumer unit {'error_code': 429, 'error_message': 'Too Many Requests.  Exceeded Rate Limit'}\n",
      "problem in tag rank {'error_code': 429, 'error_message': 'Too Many Requests.  Exceeded Rate Limit'}\n",
      "problem in tag 25 to 54 years {'error_code': 429, 'error_message': 'Too Many Requests.  Exceeded Rate Limit'}\n",
      "problem in tag benefits {'error_code': 429, 'error_message': 'Too Many Requests.  Exceeded Rate Limit'}\n",
      "problem in tag miscellaneous {'error_code': 429, 'error_message': 'Too Many Requests.  Exceeded Rate Limit'}\n",
      "problem in tag az {'error_code': 429, 'error_message': 'Too Many Requests.  Exceeded Rate Limit'}\n",
      "problem in tag fixed {'error_code': 429, 'error_message': 'Too Many Requests.  Exceeded Rate Limit'}\n",
      "problem in tag carbon dioxide emissions {'error_code': 429, 'error_message': 'Too Many Requests.  Exceeded Rate Limit'}\n",
      "problem in tag mining {'error_code': 429, 'error_message': 'Too Many Requests.  Exceeded Rate Limit'}\n",
      "problem in tag life {'error_code': 429, 'error_message': 'Too Many Requests.  Exceeded Rate Limit'}\n",
      "problem in tag ima {'error_code': 429, 'error_message': 'Too Many Requests.  Exceeded Rate Limit'}\n",
      "problem in tag ratio {'error_code': 429, 'error_message': 'Too Many Requests.  Exceeded Rate Limit'}\n",
      "problem in tag imports {'error_code': 429, 'error_message': 'Too Many Requests.  Exceeded Rate Limit'}\n",
      "problem in tag information {'error_code': 429, 'error_message': 'Too Many Requests.  Exceeded Rate Limit'}\n",
      "problem in tag mortgage {'error_code': 429, 'error_message': 'Too Many Requests.  Exceeded Rate Limit'}\n",
      "problem in tag patent granted {'error_code': 429, 'error_message': 'Too Many Requests.  Exceeded Rate Limit'}\n",
      "problem in tag nonresidential {'error_code': 429, 'error_message': 'Too Many Requests.  Exceeded Rate Limit'}\n",
      "problem in tag residential {'error_code': 429, 'error_message': 'Too Many Requests.  Exceeded Rate Limit'}\n",
      "problem in tag university of california, davis {'error_code': 429, 'error_message': 'Too Many Requests.  Exceeded Rate Limit'}\n",
      "problem in tag university of groningen {'error_code': 429, 'error_message': 'Too Many Requests.  Exceeded Rate Limit'}\n",
      "problem in tag metropolitan division {'error_code': 429, 'error_message': 'Too Many Requests.  Exceeded Rate Limit'}\n",
      "problem in tag new york {'error_code': 429, 'error_message': 'Too Many Requests.  Exceeded Rate Limit'}\n",
      "problem in tag ct {'error_code': 429, 'error_message': 'Too Many Requests.  Exceeded Rate Limit'}\n",
      "problem in tag age {'error_code': 429, 'error_message': 'Too Many Requests.  Exceeded Rate Limit'}\n",
      "problem in tag hospitals {'error_code': 429, 'error_message': 'Too Many Requests.  Exceeded Rate Limit'}\n",
      "problem in tag pce {'error_code': 429, 'error_message': 'Too Many Requests.  Exceeded Rate Limit'}\n",
      "problem in tag permits {'error_code': 429, 'error_message': 'Too Many Requests.  Exceeded Rate Limit'}\n",
      "problem in tag current account {'error_code': 429, 'error_message': 'Too Many Requests.  Exceeded Rate Limit'}\n",
      "problem in tag electricity {'error_code': 429, 'error_message': 'Too Many Requests.  Exceeded Rate Limit'}\n",
      "problem in tag nv {'error_code': 429, 'error_message': 'Too Many Requests.  Exceeded Rate Limit'}\n",
      "problem in tag leases {'error_code': 429, 'error_message': 'Too Many Requests.  Exceeded Rate Limit'}\n",
      "problem in tag nh {'error_code': 429, 'error_message': 'Too Many Requests.  Exceeded Rate Limit'}\n",
      "problem in tag beverages {'error_code': 429, 'error_message': 'Too Many Requests.  Exceeded Rate Limit'}\n",
      "problem in tag equity {'error_code': 429, 'error_message': 'Too Many Requests.  Exceeded Rate Limit'}\n",
      "problem in tag me {'error_code': 429, 'error_message': 'Too Many Requests.  Exceeded Rate Limit'}\n",
      "problem in tag accounting {'error_code': 429, 'error_message': 'Too Many Requests.  Exceeded Rate Limit'}\n",
      "problem in tag wy {'error_code': 429, 'error_message': 'Too Many Requests.  Exceeded Rate Limit'}\n",
      "problem in tag homeownership {'error_code': 429, 'error_message': 'Too Many Requests.  Exceeded Rate Limit'}\n",
      "problem in tag wholesale {'error_code': 429, 'error_message': 'Too Many Requests.  Exceeded Rate Limit'}\n",
      "problem in tag atlanta {'error_code': 429, 'error_message': 'Too Many Requests.  Exceeded Rate Limit'}\n",
      "problem in tag score {'error_code': 429, 'error_message': 'Too Many Requests.  Exceeded Rate Limit'}\n",
      "problem in tag associate degree {'error_code': 429, 'error_message': 'Too Many Requests.  Exceeded Rate Limit'}\n",
      "problem in tag warehousing {'error_code': 429, 'error_message': 'Too Many Requests.  Exceeded Rate Limit'}\n",
      "problem in tag real estate {'error_code': 429, 'error_message': 'Too Many Requests.  Exceeded Rate Limit'}\n",
      "problem in tag social assistance {'error_code': 429, 'error_message': 'Too Many Requests.  Exceeded Rate Limit'}\n",
      "problem in tag recreation {}\n",
      "problem in tag bonds {'error_code': 429, 'error_message': 'Too Many Requests.  Exceeded Rate Limit'}\n",
      "problem in tag unit labor cost {'error_code': 429, 'error_message': 'Too Many Requests.  Exceeded Rate Limit'}\n",
      "problem in tag cost {'error_code': 429, 'error_message': 'Too Many Requests.  Exceeded Rate Limit'}\n",
      "problem in tag migration {'error_code': 429, 'error_message': 'Too Many Requests.  Exceeded Rate Limit'}\n",
      "problem in tag chained {'error_code': 429, 'error_message': 'Too Many Requests.  Exceeded Rate Limit'}\n",
      "problem in tag copyrighted: pre-approval required {'error_code': 429, 'error_message': 'Too Many Requests.  Exceeded Rate Limit'}\n",
      "problem in tag apparel {'error_code': 429, 'error_message': 'Too Many Requests.  Exceeded Rate Limit'}\n",
      "problem in tag employment-population ratio {'error_code': 429, 'error_message': 'Too Many Requests.  Exceeded Rate Limit'}\n",
      "problem in tag 15 to 74 years {'error_code': 429, 'error_message': 'Too Many Requests.  Exceeded Rate Limit'}\n",
      "problem in tag weekly {'error_code': 429, 'error_message': 'Too Many Requests.  Exceeded Rate Limit'}\n",
      "problem in tag frb ny {'error_code': 429, 'error_message': 'Too Many Requests.  Exceeded Rate Limit'}\n",
      "problem in tag contributions {'error_code': 429, 'error_message': 'Too Many Requests.  Exceeded Rate Limit'}\n",
      "problem in tag state & local {'error_code': 429, 'error_message': 'Too Many Requests.  Exceeded Rate Limit'}\n",
      "problem in tag agriculture {'error_code': 429, 'error_message': 'Too Many Requests.  Exceeded Rate Limit'}\n",
      "problem in tag food stamps {'error_code': 429, 'error_message': 'Too Many Requests.  Exceeded Rate Limit'}\n",
      "problem in tag snap {'error_code': 429, 'error_message': 'Too Many Requests.  Exceeded Rate Limit'}\n",
      "problem in tag vt {'error_code': 429, 'error_message': 'Too Many Requests.  Exceeded Rate Limit'}\n",
      "problem in tag maturity {'error_code': 429, 'error_message': 'Too Many Requests.  Exceeded Rate Limit'}\n",
      "problem in tag call reports {'error_code': 429, 'error_message': 'Too Many Requests.  Exceeded Rate Limit'}\n",
      "problem in tag reserves {'error_code': 429, 'error_message': 'Too Many Requests.  Exceeded Rate Limit'}\n",
      "problem in tag bea region {'error_code': 429, 'error_message': 'Too Many Requests.  Exceeded Rate Limit'}\n",
      "problem in tag advanced degree {'error_code': 429, 'error_message': 'Too Many Requests.  Exceeded Rate Limit'}\n",
      "problem in tag nutrition {'error_code': 429, 'error_message': 'Too Many Requests.  Exceeded Rate Limit'}\n",
      "so far: 117438 seriess\n"
     ]
    },
    {
     "name": "stdout",
     "output_type": "stream",
     "text": [
      "running 782 tags\n",
      "done chunk: 100\n",
      "problem in tag 25 years + {'error_code': 400, 'error_message': 'Bad Request.  Value \"25 years  \" for variable tag_names does not exist.'}\n",
      "problem in tag 15 years + {'error_code': 400, 'error_message': 'Bad Request.  Value \"15 years  \" for variable tag_names does not exist.'}\n",
      "problem in tag 16 years + {'error_code': 400, 'error_message': 'Bad Request.  Value \"16 years  \" for variable tag_names does not exist.'}\n",
      "so far: 161307 seriess\n",
      "running 685 tags\n",
      "done chunk: 100\n",
      "problem in tag 25 years + {'error_code': 400, 'error_message': 'Bad Request.  Value \"25 years  \" for variable tag_names does not exist.'}\n",
      "problem in tag 15 years + {'error_code': 400, 'error_message': 'Bad Request.  Value \"15 years  \" for variable tag_names does not exist.'}\n",
      "problem in tag 16 years + {'error_code': 400, 'error_message': 'Bad Request.  Value \"16 years  \" for variable tag_names does not exist.'}\n",
      "so far: 216076 seriess\n",
      "running 588 tags\n",
      "done chunk: 100\n",
      "problem in tag 25 years + {'error_code': 400, 'error_message': 'Bad Request.  Value \"25 years  \" for variable tag_names does not exist.'}\n",
      "problem in tag 15 years + {'error_code': 400, 'error_message': 'Bad Request.  Value \"15 years  \" for variable tag_names does not exist.'}\n",
      "problem in tag 16 years + {'error_code': 400, 'error_message': 'Bad Request.  Value \"16 years  \" for variable tag_names does not exist.'}\n",
      "so far: 263641 seriess\n",
      "running 491 tags\n",
      "done chunk: 100\n",
      "problem in tag 25 years + {'error_code': 400, 'error_message': 'Bad Request.  Value \"25 years  \" for variable tag_names does not exist.'}\n",
      "problem in tag 15 years + {'error_code': 400, 'error_message': 'Bad Request.  Value \"15 years  \" for variable tag_names does not exist.'}\n",
      "problem in tag 16 years + {'error_code': 400, 'error_message': 'Bad Request.  Value \"16 years  \" for variable tag_names does not exist.'}\n",
      "problem in tag r&d {'error_code': 400, 'error_message': 'Bad Request.  Value \"r\" for variable tag_names does not exist.'}\n",
      "so far: 315890 seriess\n",
      "running 395 tags\n",
      "done chunk: 100\n",
      "problem in tag 25 years + {'error_code': 400, 'error_message': 'Bad Request.  Value \"25 years  \" for variable tag_names does not exist.'}\n",
      "problem in tag 15 years + {'error_code': 400, 'error_message': 'Bad Request.  Value \"15 years  \" for variable tag_names does not exist.'}\n",
      "problem in tag 16 years + {'error_code': 400, 'error_message': 'Bad Request.  Value \"16 years  \" for variable tag_names does not exist.'}\n",
      "problem in tag r&d {'error_code': 400, 'error_message': 'Bad Request.  Value \"r\" for variable tag_names does not exist.'}\n",
      "problem in tag grand rapids {'error_code': 429, 'error_message': 'Too Many Requests.  Exceeded Rate Limit'}\n",
      "problem in tag huntington {'error_code': 429, 'error_message': 'Too Many Requests.  Exceeded Rate Limit'}\n",
      "problem in tag asset-backed {'error_code': 429, 'error_message': 'Too Many Requests.  Exceeded Rate Limit'}\n",
      "problem in tag non-alcoholic {'error_code': 429, 'error_message': 'Too Many Requests.  Exceeded Rate Limit'}\n",
      "problem in tag 65-years + {'error_code': 429, 'error_message': 'Too Many Requests.  Exceeded Rate Limit'}\n",
      "problem in tag engineering {'error_code': 429, 'error_message': 'Too Many Requests.  Exceeded Rate Limit'}\n",
      "problem in tag interbank {'error_code': 429, 'error_message': 'Too Many Requests.  Exceeded Rate Limit'}\n",
      "problem in tag sport {'error_code': 429, 'error_message': 'Too Many Requests.  Exceeded Rate Limit'}\n",
      "problem in tag enrolled {'error_code': 429, 'error_message': 'Too Many Requests.  Exceeded Rate Limit'}\n",
      "problem in tag captive reinsurers {'error_code': 429, 'error_message': 'Too Many Requests.  Exceeded Rate Limit'}\n",
      "problem in tag passenger {'error_code': 429, 'error_message': 'Too Many Requests.  Exceeded Rate Limit'}\n",
      "problem in tag culture {'error_code': 429, 'error_message': 'Too Many Requests.  Exceeded Rate Limit'}\n",
      "problem in tag rubber {'error_code': 429, 'error_message': 'Too Many Requests.  Exceeded Rate Limit'}\n",
      "problem in tag lebanon {'error_code': 429, 'error_message': 'Too Many Requests.  Exceeded Rate Limit'}\n",
      "problem in tag nursing {'error_code': 429, 'error_message': 'Too Many Requests.  Exceeded Rate Limit'}\n",
      "problem in tag projection {'error_code': 429, 'error_message': 'Too Many Requests.  Exceeded Rate Limit'}\n",
      "problem in tag hickory {'error_code': 429, 'error_message': 'Too Many Requests.  Exceeded Rate Limit'}\n",
      "problem in tag topeka {'error_code': 429, 'error_message': 'Too Many Requests.  Exceeded Rate Limit'}\n",
      "problem in tag phoenix {'error_code': 429, 'error_message': 'Too Many Requests.  Exceeded Rate Limit'}\n",
      "problem in tag durham {'error_code': 429, 'error_message': 'Too Many Requests.  Exceeded Rate Limit'}\n",
      "problem in tag davenport {'error_code': 429, 'error_message': 'Too Many Requests.  Exceeded Rate Limit'}\n",
      "problem in tag decatur {'error_code': 429, 'error_message': 'Too Many Requests.  Exceeded Rate Limit'}\n",
      "problem in tag machines {'error_code': 429, 'error_message': 'Too Many Requests.  Exceeded Rate Limit'}\n",
      "problem in tag macon {'error_code': 429, 'error_message': 'Too Many Requests.  Exceeded Rate Limit'}\n",
      "problem in tag contracts {'error_code': 429, 'error_message': 'Too Many Requests.  Exceeded Rate Limit'}\n",
      "problem in tag nonmetallic {'error_code': 429, 'error_message': 'Too Many Requests.  Exceeded Rate Limit'}\n",
      "problem in tag costa rica {'error_code': 429, 'error_message': 'Too Many Requests.  Exceeded Rate Limit'}\n",
      "problem in tag gainesville {'error_code': 429, 'error_message': 'Too Many Requests.  Exceeded Rate Limit'}\n",
      "problem in tag budget {'error_code': 429, 'error_message': 'Too Many Requests.  Exceeded Rate Limit'}\n",
      "problem in tag danville {'error_code': 429, 'error_message': 'Too Many Requests.  Exceeded Rate Limit'}\n",
      "problem in tag amarillo {'error_code': 429, 'error_message': 'Too Many Requests.  Exceeded Rate Limit'}\n",
      "problem in tag albuquerque {'error_code': 429, 'error_message': 'Too Many Requests.  Exceeded Rate Limit'}\n",
      "problem in tag vegetables {'error_code': 429, 'error_message': 'Too Many Requests.  Exceeded Rate Limit'}\n",
      "problem in tag winston {'error_code': 429, 'error_message': 'Too Many Requests.  Exceeded Rate Limit'}\n",
      "problem in tag amusements {'error_code': 429, 'error_message': 'Too Many Requests.  Exceeded Rate Limit'}\n",
      "problem in tag monroe {'error_code': 429, 'error_message': 'Too Many Requests.  Exceeded Rate Limit'}\n",
      "problem in tag athens {'error_code': 429, 'error_message': 'Too Many Requests.  Exceeded Rate Limit'}\n",
      "problem in tag asheville {'error_code': 429, 'error_message': 'Too Many Requests.  Exceeded Rate Limit'}\n",
      "problem in tag core {'error_code': 429, 'error_message': 'Too Many Requests.  Exceeded Rate Limit'}\n",
      "problem in tag wilmington {'error_code': 429, 'error_message': 'Too Many Requests.  Exceeded Rate Limit'}\n",
      "problem in tag beaumont {'error_code': 429, 'error_message': 'Too Many Requests.  Exceeded Rate Limit'}\n",
      "problem in tag hotel {'error_code': 429, 'error_message': 'Too Many Requests.  Exceeded Rate Limit'}\n",
      "problem in tag toledo {'error_code': 429, 'error_message': 'Too Many Requests.  Exceeded Rate Limit'}\n",
      "problem in tag bloom, nick {'error_code': 429, 'error_message': 'Too Many Requests.  Exceeded Rate Limit'}\n",
      "problem in tag metropolitan portion {'error_code': 429, 'error_message': 'Too Many Requests.  Exceeded Rate Limit'}\n",
      "problem in tag fruits {'error_code': 429, 'error_message': 'Too Many Requests.  Exceeded Rate Limit'}\n",
      "problem in tag hartford {'error_code': 429, 'error_message': 'Too Many Requests.  Exceeded Rate Limit'}\n",
      "problem in tag youngstown {'error_code': 429, 'error_message': 'Too Many Requests.  Exceeded Rate Limit'}\n",
      "problem in tag parkersburg {'error_code': 429, 'error_message': 'Too Many Requests.  Exceeded Rate Limit'}\n",
      "problem in tag clarksville {'error_code': 429, 'error_message': 'Too Many Requests.  Exceeded Rate Limit'}\n",
      "problem in tag car registrations {'error_code': 429, 'error_message': 'Too Many Requests.  Exceeded Rate Limit'}\n",
      "problem in tag raleigh {'error_code': 429, 'error_message': 'Too Many Requests.  Exceeded Rate Limit'}\n",
      "problem in tag lansing {'error_code': 429, 'error_message': 'Too Many Requests.  Exceeded Rate Limit'}\n",
      "problem in tag 1-unit structures {'error_code': 429, 'error_message': 'Too Many Requests.  Exceeded Rate Limit'}\n",
      "problem in tag mortgage-backed {'error_code': 429, 'error_message': 'Too Many Requests.  Exceeded Rate Limit'}\n",
      "problem in tag premium {'error_code': 429, 'error_message': 'Too Many Requests.  Exceeded Rate Limit'}\n",
      "problem in tag balance {'error_code': 429, 'error_message': 'Too Many Requests.  Exceeded Rate Limit'}\n",
      "problem in tag part-time {'error_code': 429, 'error_message': 'Too Many Requests.  Exceeded Rate Limit'}\n",
      "problem in tag imputed {'error_code': 429, 'error_message': 'Too Many Requests.  Exceeded Rate Limit'}\n",
      "problem in tag atm {'error_code': 429, 'error_message': 'Too Many Requests.  Exceeded Rate Limit'}\n",
      "problem in tag fdi {'error_code': 429, 'error_message': 'Too Many Requests.  Exceeded Rate Limit'}\n",
      "problem in tag lewiston {'error_code': 429, 'error_message': 'Too Many Requests.  Exceeded Rate Limit'}\n",
      "problem in tag syracuse {'error_code': 429, 'error_message': 'Too Many Requests.  Exceeded Rate Limit'}\n",
      "problem in tag san jose {'error_code': 429, 'error_message': 'Too Many Requests.  Exceeded Rate Limit'}\n",
      "so far: 329462 seriess\n"
     ]
    },
    {
     "name": "stdout",
     "output_type": "stream",
     "text": [
      "running 363 tags\n",
      "done chunk: 100\n",
      "problem in tag 25 years + {'error_code': 400, 'error_message': 'Bad Request.  Value \"25 years  \" for variable tag_names does not exist.'}\n",
      "problem in tag 15 years + {'error_code': 400, 'error_message': 'Bad Request.  Value \"15 years  \" for variable tag_names does not exist.'}\n",
      "problem in tag 16 years + {'error_code': 400, 'error_message': 'Bad Request.  Value \"16 years  \" for variable tag_names does not exist.'}\n",
      "problem in tag r&d {'error_code': 400, 'error_message': 'Bad Request.  Value \"r\" for variable tag_names does not exist.'}\n",
      "problem in tag 65-years + {'error_code': 400, 'error_message': 'Bad Request.  Value \"65-years  \" for variable tag_names does not exist.'}\n",
      "so far: 364162 seriess\n",
      "running 268 tags\n",
      "done chunk: 100\n",
      "problem in tag 25 years + {'error_code': 400, 'error_message': 'Bad Request.  Value \"25 years  \" for variable tag_names does not exist.'}\n",
      "problem in tag 15 years + {'error_code': 429, 'error_message': 'Too Many Requests.  Exceeded Rate Limit'}\n",
      "problem in tag 16 years + {'error_code': 400, 'error_message': 'Bad Request.  Value \"16 years  \" for variable tag_names does not exist.'}\n",
      "problem in tag r&d {'error_code': 400, 'error_message': 'Bad Request.  Value \"r\" for variable tag_names does not exist.'}\n",
      "problem in tag 65-years + {'error_code': 400, 'error_message': 'Bad Request.  Value \"65-years  \" for variable tag_names does not exist.'}\n",
      "problem in tag agents {'error_code': 429, 'error_message': 'Too Many Requests.  Exceeded Rate Limit'}\n",
      "problem in tag johnson city {'error_code': 429, 'error_message': 'Too Many Requests.  Exceeded Rate Limit'}\n",
      "problem in tag recording {'error_code': 429, 'error_message': 'Too Many Requests.  Exceeded Rate Limit'}\n",
      "problem in tag las vegas {'error_code': 429, 'error_message': 'Too Many Requests.  Exceeded Rate Limit'}\n",
      "problem in tag salem {'error_code': 429, 'error_message': 'Too Many Requests.  Exceeded Rate Limit'}\n",
      "problem in tag wichita falls {'error_code': 429, 'error_message': 'Too Many Requests.  Exceeded Rate Limit'}\n",
      "problem in tag uncertainty {'error_code': 429, 'error_message': 'Too Many Requests.  Exceeded Rate Limit'}\n",
      "problem in tag abilene {'error_code': 429, 'error_message': 'Too Many Requests.  Exceeded Rate Limit'}\n",
      "problem in tag charter {'error_code': 429, 'error_message': 'Too Many Requests.  Exceeded Rate Limit'}\n",
      "problem in tag morristown {'error_code': 429, 'error_message': 'Too Many Requests.  Exceeded Rate Limit'}\n",
      "problem in tag saudi arabia {'error_code': 429, 'error_message': 'Too Many Requests.  Exceeded Rate Limit'}\n",
      "problem in tag appraisers {'error_code': 429, 'error_message': 'Too Many Requests.  Exceeded Rate Limit'}\n",
      "problem in tag champaign {'error_code': 429, 'error_message': 'Too Many Requests.  Exceeded Rate Limit'}\n",
      "problem in tag finished {'error_code': 429, 'error_message': 'Too Many Requests.  Exceeded Rate Limit'}\n",
      "problem in tag jolts {'error_code': 429, 'error_message': 'Too Many Requests.  Exceeded Rate Limit'}\n",
      "problem in tag hattiesburg {'error_code': 429, 'error_message': 'Too Many Requests.  Exceeded Rate Limit'}\n",
      "problem in tag north port {'error_code': 429, 'error_message': 'Too Many Requests.  Exceeded Rate Limit'}\n",
      "problem in tag collateral {'error_code': 429, 'error_message': 'Too Many Requests.  Exceeded Rate Limit'}\n",
      "problem in tag exemptions {'error_code': 429, 'error_message': 'Too Many Requests.  Exceeded Rate Limit'}\n",
      "problem in tag green bay {'error_code': 429, 'error_message': 'Too Many Requests.  Exceeded Rate Limit'}\n",
      "problem in tag peru {'error_code': 429, 'error_message': 'Too Many Requests.  Exceeded Rate Limit'}\n",
      "problem in tag yield {'error_code': 429, 'error_message': 'Too Many Requests.  Exceeded Rate Limit'}\n",
      "problem in tag land {'error_code': 429, 'error_message': 'Too Many Requests.  Exceeded Rate Limit'}\n",
      "problem in tag consumer credit {'error_code': 429, 'error_message': 'Too Many Requests.  Exceeded Rate Limit'}\n",
      "problem in tag st. joseph {'error_code': 429, 'error_message': 'Too Many Requests.  Exceeded Rate Limit'}\n",
      "problem in tag valdosta {'error_code': 429, 'error_message': 'Too Many Requests.  Exceeded Rate Limit'}\n",
      "problem in tag akron {'error_code': 429, 'error_message': 'Too Many Requests.  Exceeded Rate Limit'}\n",
      "problem in tag retained earnings {'error_code': 429, 'error_message': 'Too Many Requests.  Exceeded Rate Limit'}\n",
      "problem in tag wheeling {'error_code': 429, 'error_message': 'Too Many Requests.  Exceeded Rate Limit'}\n",
      "problem in tag ccadj {'error_code': 429, 'error_message': 'Too Many Requests.  Exceeded Rate Limit'}\n",
      "problem in tag binghamton {'error_code': 429, 'error_message': 'Too Many Requests.  Exceeded Rate Limit'}\n",
      "problem in tag lincoln {'error_code': 429, 'error_message': 'Too Many Requests.  Exceeded Rate Limit'}\n",
      "problem in tag huntsville {'error_code': 429, 'error_message': 'Too Many Requests.  Exceeded Rate Limit'}\n",
      "problem in tag transactions {'error_code': 429, 'error_message': 'Too Many Requests.  Exceeded Rate Limit'}\n",
      "problem in tag dothan {'error_code': 429, 'error_message': 'Too Many Requests.  Exceeded Rate Limit'}\n",
      "problem in tag fargo {'error_code': 429, 'error_message': 'Too Many Requests.  Exceeded Rate Limit'}\n",
      "problem in tag bangladesh {'error_code': 429, 'error_message': 'Too Many Requests.  Exceeded Rate Limit'}\n",
      "problem in tag buffalo {'error_code': 429, 'error_message': 'Too Many Requests.  Exceeded Rate Limit'}\n",
      "problem in tag eau claire {'error_code': 429, 'error_message': 'Too Many Requests.  Exceeded Rate Limit'}\n",
      "problem in tag college station {'error_code': 429, 'error_message': 'Too Many Requests.  Exceeded Rate Limit'}\n",
      "problem in tag overnight {'error_code': 429, 'error_message': 'Too Many Requests.  Exceeded Rate Limit'}\n",
      "problem in tag appleton {'error_code': 429, 'error_message': 'Too Many Requests.  Exceeded Rate Limit'}\n",
      "problem in tag fort wayne {'error_code': 429, 'error_message': 'Too Many Requests.  Exceeded Rate Limit'}\n",
      "problem in tag nursing homes {'error_code': 429, 'error_message': 'Too Many Requests.  Exceeded Rate Limit'}\n",
      "problem in tag nonperforming {'error_code': 429, 'error_message': 'Too Many Requests.  Exceeded Rate Limit'}\n",
      "problem in tag pensacola {'error_code': 429, 'error_message': 'Too Many Requests.  Exceeded Rate Limit'}\n",
      "problem in tag anchorage {'error_code': 429, 'error_message': 'Too Many Requests.  Exceeded Rate Limit'}\n",
      "problem in tag distributive {'error_code': 429, 'error_message': 'Too Many Requests.  Exceeded Rate Limit'}\n",
      "problem in tag census division {'error_code': 429, 'error_message': 'Too Many Requests.  Exceeded Rate Limit'}\n",
      "problem in tag fixed capital formation {'error_code': 429, 'error_message': 'Too Many Requests.  Exceeded Rate Limit'}\n",
      "problem in tag santa barbara {'error_code': 429, 'error_message': 'Too Many Requests.  Exceeded Rate Limit'}\n",
      "problem in tag anderson {'error_code': 429, 'error_message': 'Too Many Requests.  Exceeded Rate Limit'}\n",
      "problem in tag physicians {'error_code': 429, 'error_message': 'Too Many Requests.  Exceeded Rate Limit'}\n",
      "problem in tag malaysia {'error_code': 429, 'error_message': 'Too Many Requests.  Exceeded Rate Limit'}\n",
      "problem in tag joplin {'error_code': 429, 'error_message': 'Too Many Requests.  Exceeded Rate Limit'}\n",
      "problem in tag owensboro {'error_code': 429, 'error_message': 'Too Many Requests.  Exceeded Rate Limit'}\n",
      "problem in tag broadcasting {'error_code': 429, 'error_message': 'Too Many Requests.  Exceeded Rate Limit'}\n",
      "problem in tag yuba city {'error_code': 429, 'error_message': 'Too Many Requests.  Exceeded Rate Limit'}\n",
      "problem in tag great lakes bea region {'error_code': 429, 'error_message': 'Too Many Requests.  Exceeded Rate Limit'}\n",
      "problem in tag kennewick {'error_code': 429, 'error_message': 'Too Many Requests.  Exceeded Rate Limit'}\n",
      "problem in tag schools {'error_code': 429, 'error_message': 'Too Many Requests.  Exceeded Rate Limit'}\n",
      "problem in tag fertility {'error_code': 429, 'error_message': 'Too Many Requests.  Exceeded Rate Limit'}\n",
      "problem in tag rocky mount {'error_code': 429, 'error_message': 'Too Many Requests.  Exceeded Rate Limit'}\n",
      "problem in tag south bend {'error_code': 429, 'error_message': 'Too Many Requests.  Exceeded Rate Limit'}\n",
      "problem in tag tuscaloosa {'error_code': 429, 'error_message': 'Too Many Requests.  Exceeded Rate Limit'}\n",
      "problem in tag thailand {'error_code': 429, 'error_message': 'Too Many Requests.  Exceeded Rate Limit'}\n",
      "problem in tag eci {'error_code': 429, 'error_message': 'Too Many Requests.  Exceeded Rate Limit'}\n",
      "problem in tag colorado springs {'error_code': 429, 'error_message': 'Too Many Requests.  Exceeded Rate Limit'}\n",
      "problem in tag victoria {'error_code': 429, 'error_message': 'Too Many Requests.  Exceeded Rate Limit'}\n",
      "problem in tag fresno {'error_code': 429, 'error_message': 'Too Many Requests.  Exceeded Rate Limit'}\n",
      "problem in tag guinea {'error_code': 429, 'error_message': 'Too Many Requests.  Exceeded Rate Limit'}\n",
      "problem in tag uganda {'error_code': 429, 'error_message': 'Too Many Requests.  Exceeded Rate Limit'}\n",
      "problem in tag consumer prices {'error_code': 429, 'error_message': 'Too Many Requests.  Exceeded Rate Limit'}\n",
      "problem in tag gambling {'error_code': 429, 'error_message': 'Too Many Requests.  Exceeded Rate Limit'}\n",
      "problem in tag south {'error_code': 429, 'error_message': 'Too Many Requests.  Exceeded Rate Limit'}\n",
      "so far: 370179 seriess\n"
     ]
    },
    {
     "name": "stdout",
     "output_type": "stream",
     "text": [
      "running 248 tags\n",
      "done chunk: 100\n",
      "problem in tag 25 years + {'error_code': 400, 'error_message': 'Bad Request.  Value \"25 years  \" for variable tag_names does not exist.'}\n",
      "problem in tag 15 years + {'error_code': 400, 'error_message': 'Bad Request.  Value \"15 years  \" for variable tag_names does not exist.'}\n",
      "problem in tag 16 years + {'error_code': 400, 'error_message': 'Bad Request.  Value \"16 years  \" for variable tag_names does not exist.'}\n",
      "problem in tag r&d {'error_code': 400, 'error_message': 'Bad Request.  Value \"r\" for variable tag_names does not exist.'}\n",
      "problem in tag 65-years + {'error_code': 400, 'error_message': 'Bad Request.  Value \"65-years  \" for variable tag_names does not exist.'}\n",
      "so far: 396451 seriess\n",
      "running 153 tags\n",
      "done chunk: 100\n",
      "problem in tag 25 years + {'error_code': 400, 'error_message': 'Bad Request.  Value \"25 years  \" for variable tag_names does not exist.'}\n",
      "problem in tag 15 years + {'error_code': 400, 'error_message': 'Bad Request.  Value \"15 years  \" for variable tag_names does not exist.'}\n",
      "problem in tag 16 years + {'error_code': 400, 'error_message': 'Bad Request.  Value \"16 years  \" for variable tag_names does not exist.'}\n",
      "problem in tag r&d {'error_code': 400, 'error_message': 'Bad Request.  Value \"r\" for variable tag_names does not exist.'}\n",
      "problem in tag 65-years + {'error_code': 400, 'error_message': 'Bad Request.  Value \"65-years  \" for variable tag_names does not exist.'}\n",
      "so far: 417847 seriess\n",
      "running 58 tags\n",
      "done chunk: 58\n",
      "problem in tag 25 years + {'error_code': 400, 'error_message': 'Bad Request.  Value \"25 years  \" for variable tag_names does not exist.'}\n",
      "problem in tag 15 years + {'error_code': 400, 'error_message': 'Bad Request.  Value \"15 years  \" for variable tag_names does not exist.'}\n",
      "problem in tag 16 years + {'error_code': 400, 'error_message': 'Bad Request.  Value \"16 years  \" for variable tag_names does not exist.'}\n",
      "problem in tag r&d {'error_code': 429, 'error_message': 'Too Many Requests.  Exceeded Rate Limit'}\n",
      "problem in tag 65-years + {'error_code': 429, 'error_message': 'Too Many Requests.  Exceeded Rate Limit'}\n",
      "problem in tag pets {'error_code': 429, 'error_message': 'Too Many Requests.  Exceeded Rate Limit'}\n",
      "problem in tag 365 days + {'error_code': 400, 'error_message': 'Bad Request.  Value \"365 days  \" for variable tag_names does not exist.'}\n",
      "problem in tag architecture {'error_code': 429, 'error_message': 'Too Many Requests.  Exceeded Rate Limit'}\n",
      "problem in tag uruguay {'error_code': 429, 'error_message': 'Too Many Requests.  Exceeded Rate Limit'}\n",
      "problem in tag kuwait {'error_code': 429, 'error_message': 'Too Many Requests.  Exceeded Rate Limit'}\n",
      "problem in tag panama {'error_code': 429, 'error_message': 'Too Many Requests.  Exceeded Rate Limit'}\n",
      "problem in tag advertisement {'error_code': 429, 'error_message': 'Too Many Requests.  Exceeded Rate Limit'}\n",
      "problem in tag jordan {'error_code': 429, 'error_message': 'Too Many Requests.  Exceeded Rate Limit'}\n",
      "problem in tag performance {'error_code': 429, 'error_message': 'Too Many Requests.  Exceeded Rate Limit'}\n",
      "problem in tag fairbanks {'error_code': 429, 'error_message': 'Too Many Requests.  Exceeded Rate Limit'}\n",
      "problem in tag iowa city {'error_code': 429, 'error_message': 'Too Many Requests.  Exceeded Rate Limit'}\n",
      "problem in tag mauritius {'error_code': 429, 'error_message': 'Too Many Requests.  Exceeded Rate Limit'}\n",
      "problem in tag trusts {'error_code': 429, 'error_message': 'Too Many Requests.  Exceeded Rate Limit'}\n",
      "problem in tag wired {'error_code': 429, 'error_message': 'Too Many Requests.  Exceeded Rate Limit'}\n",
      "problem in tag bolivia {'error_code': 429, 'error_message': 'Too Many Requests.  Exceeded Rate Limit'}\n",
      "problem in tag eggs {'error_code': 429, 'error_message': 'Too Many Requests.  Exceeded Rate Limit'}\n",
      "problem in tag cmsa {'error_code': 429, 'error_message': 'Too Many Requests.  Exceeded Rate Limit'}\n",
      "problem in tag dalton {'error_code': 429, 'error_message': 'Too Many Requests.  Exceeded Rate Limit'}\n",
      "problem in tag el salvador {'error_code': 429, 'error_message': 'Too Many Requests.  Exceeded Rate Limit'}\n",
      "problem in tag sri lanka {'error_code': 429, 'error_message': 'Too Many Requests.  Exceeded Rate Limit'}\n",
      "problem in tag armenia {'error_code': 429, 'error_message': 'Too Many Requests.  Exceeded Rate Limit'}\n",
      "problem in tag burundi {'error_code': 429, 'error_message': 'Too Many Requests.  Exceeded Rate Limit'}\n",
      "problem in tag electronic components {'error_code': 429, 'error_message': 'Too Many Requests.  Exceeded Rate Limit'}\n",
      "problem in tag macedonia {'error_code': 429, 'error_message': 'Too Many Requests.  Exceeded Rate Limit'}\n",
      "problem in tag saginaw {'error_code': 429, 'error_message': 'Too Many Requests.  Exceeded Rate Limit'}\n",
      "problem in tag senegal {'error_code': 429, 'error_message': 'Too Many Requests.  Exceeded Rate Limit'}\n",
      "problem in tag barbados {'error_code': 429, 'error_message': 'Too Many Requests.  Exceeded Rate Limit'}\n",
      "problem in tag benin {'error_code': 429, 'error_message': 'Too Many Requests.  Exceeded Rate Limit'}\n",
      "problem in tag hinesville {'error_code': 429, 'error_message': 'Too Many Requests.  Exceeded Rate Limit'}\n",
      "problem in tag less than 1 year {'error_code': 429, 'error_message': 'Too Many Requests.  Exceeded Rate Limit'}\n",
      "problem in tag visalia {'error_code': 429, 'error_message': 'Too Many Requests.  Exceeded Rate Limit'}\n",
      "problem in tag bend {'error_code': 429, 'error_message': 'Too Many Requests.  Exceeded Rate Limit'}\n",
      "problem in tag malawi {'error_code': 429, 'error_message': 'Too Many Requests.  Exceeded Rate Limit'}\n",
      "problem in tag minimal risk {'error_code': 429, 'error_message': 'Too Many Requests.  Exceeded Rate Limit'}\n",
      "problem in tag mozambique {'error_code': 429, 'error_message': 'Too Many Requests.  Exceeded Rate Limit'}\n",
      "problem in tag sba {'error_code': 429, 'error_message': 'Too Many Requests.  Exceeded Rate Limit'}\n",
      "problem in tag south census region {'error_code': 429, 'error_message': 'Too Many Requests.  Exceeded Rate Limit'}\n",
      "so far: 420516 seriess\n",
      "running 42 tags\n",
      "done chunk: 42\n",
      "problem in tag 25 years + {'error_code': 400, 'error_message': 'Bad Request.  Value \"25 years  \" for variable tag_names does not exist.'}\n",
      "problem in tag 15 years + {'error_code': 400, 'error_message': 'Bad Request.  Value \"15 years  \" for variable tag_names does not exist.'}\n",
      "problem in tag 16 years + {'error_code': 400, 'error_message': 'Bad Request.  Value \"16 years  \" for variable tag_names does not exist.'}\n",
      "problem in tag r&d {'error_code': 400, 'error_message': 'Bad Request.  Value \"r\" for variable tag_names does not exist.'}\n",
      "problem in tag 65-years + {'error_code': 400, 'error_message': 'Bad Request.  Value \"65-years  \" for variable tag_names does not exist.'}\n",
      "problem in tag 365 days + {'error_code': 400, 'error_message': 'Bad Request.  Value \"365 days  \" for variable tag_names does not exist.'}\n",
      "so far: 426743 seriess\n",
      "running 6 tags\n",
      "done chunk: 6\n",
      "problem in tag 25 years + {'error_code': 400, 'error_message': 'Bad Request.  Value \"25 years  \" for variable tag_names does not exist.'}\n",
      "problem in tag 15 years + {'error_code': 400, 'error_message': 'Bad Request.  Value \"15 years  \" for variable tag_names does not exist.'}\n",
      "problem in tag 16 years + {'error_code': 400, 'error_message': 'Bad Request.  Value \"16 years  \" for variable tag_names does not exist.'}\n",
      "problem in tag r&d {'error_code': 400, 'error_message': 'Bad Request.  Value \"r\" for variable tag_names does not exist.'}\n",
      "problem in tag 65-years + {'error_code': 400, 'error_message': 'Bad Request.  Value \"65-years  \" for variable tag_names does not exist.'}\n",
      "problem in tag 365 days + {'error_code': 400, 'error_message': 'Bad Request.  Value \"365 days  \" for variable tag_names does not exist.'}\n",
      "so far: 426743 seriess\n",
      "running 6 tags\n",
      "done chunk: 6\n",
      "problem in tag 25 years + {'error_code': 400, 'error_message': 'Bad Request.  Value \"25 years  \" for variable tag_names does not exist.'}\n",
      "problem in tag 15 years + {'error_code': 400, 'error_message': 'Bad Request.  Value \"15 years  \" for variable tag_names does not exist.'}\n",
      "problem in tag 16 years + {'error_code': 400, 'error_message': 'Bad Request.  Value \"16 years  \" for variable tag_names does not exist.'}\n",
      "problem in tag r&d {'error_code': 400, 'error_message': 'Bad Request.  Value \"r\" for variable tag_names does not exist.'}\n",
      "problem in tag 65-years + {'error_code': 400, 'error_message': 'Bad Request.  Value \"65-years  \" for variable tag_names does not exist.'}\n",
      "problem in tag 365 days + {'error_code': 400, 'error_message': 'Bad Request.  Value \"365 days  \" for variable tag_names does not exist.'}\n",
      "so far: 426743 seriess\n"
     ]
    },
    {
     "name": "stdout",
     "output_type": "stream",
     "text": [
      "running 6 tags\n",
      "done chunk: 6\n",
      "problem in tag 25 years + {'error_code': 400, 'error_message': 'Bad Request.  Value \"25 years  \" for variable tag_names does not exist.'}\n",
      "problem in tag 15 years + {'error_code': 400, 'error_message': 'Bad Request.  Value \"15 years  \" for variable tag_names does not exist.'}\n",
      "problem in tag 16 years + {'error_code': 400, 'error_message': 'Bad Request.  Value \"16 years  \" for variable tag_names does not exist.'}\n",
      "problem in tag r&d {'error_code': 400, 'error_message': 'Bad Request.  Value \"r\" for variable tag_names does not exist.'}\n",
      "problem in tag 65-years + {'error_code': 400, 'error_message': 'Bad Request.  Value \"65-years  \" for variable tag_names does not exist.'}\n",
      "problem in tag 365 days + {'error_code': 400, 'error_message': 'Bad Request.  Value \"365 days  \" for variable tag_names does not exist.'}\n",
      "so far: 426743 seriess\n",
      "running 6 tags\n",
      "done chunk: 6\n",
      "problem in tag 25 years + {'error_code': 400, 'error_message': 'Bad Request.  Value \"25 years  \" for variable tag_names does not exist.'}\n",
      "problem in tag 15 years + {'error_code': 400, 'error_message': 'Bad Request.  Value \"15 years  \" for variable tag_names does not exist.'}\n",
      "problem in tag 16 years + {'error_code': 400, 'error_message': 'Bad Request.  Value \"16 years  \" for variable tag_names does not exist.'}\n",
      "problem in tag r&d {'error_code': 400, 'error_message': 'Bad Request.  Value \"r\" for variable tag_names does not exist.'}\n",
      "problem in tag 65-years + {'error_code': 400, 'error_message': 'Bad Request.  Value \"65-years  \" for variable tag_names does not exist.'}\n",
      "problem in tag 365 days + {'error_code': 400, 'error_message': 'Bad Request.  Value \"365 days  \" for variable tag_names does not exist.'}\n",
      "so far: 426743 seriess\n",
      "running 6 tags\n",
      "done chunk: 6\n",
      "problem in tag 25 years + {'error_code': 400, 'error_message': 'Bad Request.  Value \"25 years  \" for variable tag_names does not exist.'}\n",
      "problem in tag 15 years + {'error_code': 400, 'error_message': 'Bad Request.  Value \"15 years  \" for variable tag_names does not exist.'}\n",
      "problem in tag 16 years + {'error_code': 400, 'error_message': 'Bad Request.  Value \"16 years  \" for variable tag_names does not exist.'}\n",
      "problem in tag r&d {'error_code': 400, 'error_message': 'Bad Request.  Value \"r\" for variable tag_names does not exist.'}\n",
      "problem in tag 65-years + {'error_code': 400, 'error_message': 'Bad Request.  Value \"65-years  \" for variable tag_names does not exist.'}\n",
      "problem in tag 365 days + {'error_code': 400, 'error_message': 'Bad Request.  Value \"365 days  \" for variable tag_names does not exist.'}\n",
      "so far: 426743 seriess\n",
      "running 6 tags\n",
      "done chunk: 6\n",
      "problem in tag 25 years + {'error_code': 400, 'error_message': 'Bad Request.  Value \"25 years  \" for variable tag_names does not exist.'}\n",
      "problem in tag 15 years + {'error_code': 400, 'error_message': 'Bad Request.  Value \"15 years  \" for variable tag_names does not exist.'}\n",
      "problem in tag 16 years + {'error_code': 400, 'error_message': 'Bad Request.  Value \"16 years  \" for variable tag_names does not exist.'}\n",
      "problem in tag r&d {'error_code': 400, 'error_message': 'Bad Request.  Value \"r\" for variable tag_names does not exist.'}\n",
      "problem in tag 65-years + {'error_code': 400, 'error_message': 'Bad Request.  Value \"65-years  \" for variable tag_names does not exist.'}\n",
      "problem in tag 365 days + {'error_code': 400, 'error_message': 'Bad Request.  Value \"365 days  \" for variable tag_names does not exist.'}\n",
      "so far: 426743 seriess\n",
      "running 6 tags\n",
      "done chunk: 6\n",
      "problem in tag 25 years + {'error_code': 400, 'error_message': 'Bad Request.  Value \"25 years  \" for variable tag_names does not exist.'}\n",
      "problem in tag 15 years + {'error_code': 400, 'error_message': 'Bad Request.  Value \"15 years  \" for variable tag_names does not exist.'}\n",
      "problem in tag 16 years + {'error_code': 400, 'error_message': 'Bad Request.  Value \"16 years  \" for variable tag_names does not exist.'}\n",
      "problem in tag r&d {'error_code': 400, 'error_message': 'Bad Request.  Value \"r\" for variable tag_names does not exist.'}\n",
      "problem in tag 65-years + {'error_code': 400, 'error_message': 'Bad Request.  Value \"65-years  \" for variable tag_names does not exist.'}\n",
      "problem in tag 365 days + {'error_code': 400, 'error_message': 'Bad Request.  Value \"365 days  \" for variable tag_names does not exist.'}\n",
      "so far: 426743 seriess\n",
      "running 6 tags\n",
      "done chunk: 6\n",
      "problem in tag 25 years + {'error_code': 400, 'error_message': 'Bad Request.  Value \"25 years  \" for variable tag_names does not exist.'}\n",
      "problem in tag 15 years + {'error_code': 400, 'error_message': 'Bad Request.  Value \"15 years  \" for variable tag_names does not exist.'}\n",
      "problem in tag 16 years + {'error_code': 400, 'error_message': 'Bad Request.  Value \"16 years  \" for variable tag_names does not exist.'}\n",
      "problem in tag r&d {'error_code': 400, 'error_message': 'Bad Request.  Value \"r\" for variable tag_names does not exist.'}\n",
      "problem in tag 65-years + {'error_code': 400, 'error_message': 'Bad Request.  Value \"65-years  \" for variable tag_names does not exist.'}\n",
      "problem in tag 365 days + {'error_code': 400, 'error_message': 'Bad Request.  Value \"365 days  \" for variable tag_names does not exist.'}\n",
      "so far: 426743 seriess\n",
      "running 6 tags\n",
      "done chunk: 6\n",
      "problem in tag 25 years + {'error_code': 400, 'error_message': 'Bad Request.  Value \"25 years  \" for variable tag_names does not exist.'}\n",
      "problem in tag 15 years + {'error_code': 400, 'error_message': 'Bad Request.  Value \"15 years  \" for variable tag_names does not exist.'}\n",
      "problem in tag 16 years + {'error_code': 400, 'error_message': 'Bad Request.  Value \"16 years  \" for variable tag_names does not exist.'}\n",
      "problem in tag r&d {'error_code': 400, 'error_message': 'Bad Request.  Value \"r\" for variable tag_names does not exist.'}\n",
      "problem in tag 65-years + {'error_code': 400, 'error_message': 'Bad Request.  Value \"65-years  \" for variable tag_names does not exist.'}\n",
      "problem in tag 365 days + {'error_code': 400, 'error_message': 'Bad Request.  Value \"365 days  \" for variable tag_names does not exist.'}\n",
      "so far: 426743 seriess\n",
      "running 6 tags\n",
      "done chunk: 6\n",
      "problem in tag 25 years + {'error_code': 400, 'error_message': 'Bad Request.  Value \"25 years  \" for variable tag_names does not exist.'}\n",
      "problem in tag 15 years + {'error_code': 400, 'error_message': 'Bad Request.  Value \"15 years  \" for variable tag_names does not exist.'}\n",
      "problem in tag 16 years + {'error_code': 400, 'error_message': 'Bad Request.  Value \"16 years  \" for variable tag_names does not exist.'}\n",
      "problem in tag r&d {'error_code': 400, 'error_message': 'Bad Request.  Value \"r\" for variable tag_names does not exist.'}\n",
      "problem in tag 65-years + {'error_code': 400, 'error_message': 'Bad Request.  Value \"65-years  \" for variable tag_names does not exist.'}\n",
      "problem in tag 365 days + {'error_code': 400, 'error_message': 'Bad Request.  Value \"365 days  \" for variable tag_names does not exist.'}\n",
      "so far: 426743 seriess\n",
      "running 6 tags\n",
      "done chunk: 6\n",
      "problem in tag 25 years + {'error_code': 400, 'error_message': 'Bad Request.  Value \"25 years  \" for variable tag_names does not exist.'}\n",
      "problem in tag 15 years + {'error_code': 400, 'error_message': 'Bad Request.  Value \"15 years  \" for variable tag_names does not exist.'}\n",
      "problem in tag 16 years + {'error_code': 400, 'error_message': 'Bad Request.  Value \"16 years  \" for variable tag_names does not exist.'}\n",
      "problem in tag r&d {'error_code': 400, 'error_message': 'Bad Request.  Value \"r\" for variable tag_names does not exist.'}\n",
      "problem in tag 65-years + {'error_code': 400, 'error_message': 'Bad Request.  Value \"65-years  \" for variable tag_names does not exist.'}\n",
      "problem in tag 365 days + {'error_code': 400, 'error_message': 'Bad Request.  Value \"365 days  \" for variable tag_names does not exist.'}\n",
      "so far: 426743 seriess\n",
      "running 6 tags\n",
      "done chunk: 6\n",
      "problem in tag 25 years + {'error_code': 400, 'error_message': 'Bad Request.  Value \"25 years  \" for variable tag_names does not exist.'}\n",
      "problem in tag 15 years + {'error_code': 400, 'error_message': 'Bad Request.  Value \"15 years  \" for variable tag_names does not exist.'}\n",
      "problem in tag 16 years + {'error_code': 400, 'error_message': 'Bad Request.  Value \"16 years  \" for variable tag_names does not exist.'}\n",
      "problem in tag r&d {'error_code': 400, 'error_message': 'Bad Request.  Value \"r\" for variable tag_names does not exist.'}\n",
      "problem in tag 65-years + {'error_code': 400, 'error_message': 'Bad Request.  Value \"65-years  \" for variable tag_names does not exist.'}\n",
      "problem in tag 365 days + {'error_code': 400, 'error_message': 'Bad Request.  Value \"365 days  \" for variable tag_names does not exist.'}\n",
      "so far: 426743 seriess\n"
     ]
    },
    {
     "name": "stdout",
     "output_type": "stream",
     "text": [
      "running 6 tags\n",
      "done chunk: 6\n",
      "problem in tag 25 years + {'error_code': 400, 'error_message': 'Bad Request.  Value \"25 years  \" for variable tag_names does not exist.'}\n",
      "problem in tag 15 years + {'error_code': 400, 'error_message': 'Bad Request.  Value \"15 years  \" for variable tag_names does not exist.'}\n",
      "problem in tag 16 years + {'error_code': 400, 'error_message': 'Bad Request.  Value \"16 years  \" for variable tag_names does not exist.'}\n",
      "problem in tag r&d {'error_code': 400, 'error_message': 'Bad Request.  Value \"r\" for variable tag_names does not exist.'}\n",
      "problem in tag 65-years + {'error_code': 400, 'error_message': 'Bad Request.  Value \"65-years  \" for variable tag_names does not exist.'}\n",
      "problem in tag 365 days + {'error_code': 400, 'error_message': 'Bad Request.  Value \"365 days  \" for variable tag_names does not exist.'}\n",
      "so far: 426743 seriess\n",
      "running 6 tags\n",
      "done chunk: 6\n",
      "problem in tag 25 years + {'error_code': 400, 'error_message': 'Bad Request.  Value \"25 years  \" for variable tag_names does not exist.'}\n",
      "problem in tag 15 years + {'error_code': 400, 'error_message': 'Bad Request.  Value \"15 years  \" for variable tag_names does not exist.'}\n",
      "problem in tag 16 years + {'error_code': 400, 'error_message': 'Bad Request.  Value \"16 years  \" for variable tag_names does not exist.'}\n",
      "problem in tag r&d {'error_code': 400, 'error_message': 'Bad Request.  Value \"r\" for variable tag_names does not exist.'}\n",
      "problem in tag 65-years + {'error_code': 400, 'error_message': 'Bad Request.  Value \"65-years  \" for variable tag_names does not exist.'}\n",
      "problem in tag 365 days + {'error_code': 400, 'error_message': 'Bad Request.  Value \"365 days  \" for variable tag_names does not exist.'}\n",
      "so far: 426743 seriess\n",
      "running 6 tags\n",
      "done chunk: 6\n",
      "problem in tag 25 years + {'error_code': 400, 'error_message': 'Bad Request.  Value \"25 years  \" for variable tag_names does not exist.'}\n",
      "problem in tag 15 years + {'error_code': 400, 'error_message': 'Bad Request.  Value \"15 years  \" for variable tag_names does not exist.'}\n",
      "problem in tag 16 years + {'error_code': 400, 'error_message': 'Bad Request.  Value \"16 years  \" for variable tag_names does not exist.'}\n",
      "problem in tag r&d {'error_code': 400, 'error_message': 'Bad Request.  Value \"r\" for variable tag_names does not exist.'}\n",
      "problem in tag 65-years + {'error_code': 400, 'error_message': 'Bad Request.  Value \"65-years  \" for variable tag_names does not exist.'}\n",
      "problem in tag 365 days + {'error_code': 400, 'error_message': 'Bad Request.  Value \"365 days  \" for variable tag_names does not exist.'}\n",
      "so far: 426743 seriess\n",
      "running 6 tags\n",
      "done chunk: 6\n",
      "problem in tag 25 years + {'error_code': 400, 'error_message': 'Bad Request.  Value \"25 years  \" for variable tag_names does not exist.'}\n",
      "problem in tag 15 years + {'error_code': 400, 'error_message': 'Bad Request.  Value \"15 years  \" for variable tag_names does not exist.'}\n",
      "problem in tag 16 years + {'error_code': 400, 'error_message': 'Bad Request.  Value \"16 years  \" for variable tag_names does not exist.'}\n",
      "problem in tag r&d {'error_code': 400, 'error_message': 'Bad Request.  Value \"r\" for variable tag_names does not exist.'}\n",
      "problem in tag 65-years + {'error_code': 400, 'error_message': 'Bad Request.  Value \"65-years  \" for variable tag_names does not exist.'}\n",
      "problem in tag 365 days + {'error_code': 400, 'error_message': 'Bad Request.  Value \"365 days  \" for variable tag_names does not exist.'}\n",
      "so far: 426743 seriess\n"
     ]
    }
   ],
   "source": [
    "for i in range(30):\n",
    "    tags_to_run = [tag for tag in tag_names if tag not in seen_tags]\n",
    "    if tags_to_run:\n",
    "        print(f'running {len(tags_to_run)} tags')\n",
    "        with concurrent.futures.ThreadPoolExecutor(max_workers=1000) as pool:        \n",
    "            res = list(pool.map(get_tag_series, tags_to_run[:100]))\n",
    "    else:\n",
    "        continue\n",
    "\n",
    "    print(f'done chunk: {len(res)}')\n",
    "    for tag, i in res:\n",
    "        if 'seriess' not in i:\n",
    "            print('problem in tag' , tag, i)\n",
    "            continue\n",
    "        else:\n",
    "            seen_tags.add(tag)\n",
    "\n",
    "        for series in i['seriess']:\n",
    "            if series['id'] not in seen_series:\n",
    "                seen_series.add(series['id'])\n",
    "                all_series.append(series)\n",
    "\n",
    "\n",
    "    print(f'so far: {len(all_series)} seriess')\n",
    "    time.sleep(30)"
   ]
  },
  {
   "cell_type": "markdown",
   "metadata": {},
   "source": [
    "# Build a DF"
   ]
  },
  {
   "cell_type": "code",
   "execution_count": 6,
   "metadata": {
    "scrolled": true
   },
   "outputs": [],
   "source": [
    "df = pd.DataFrame(all_series)\n",
    "#now you should have all the timeseries in a df"
   ]
  },
  {
   "cell_type": "code",
   "execution_count": 7,
   "metadata": {},
   "outputs": [
    {
     "data": {
      "text/html": [
       "<div>\n",
       "<style scoped>\n",
       "    .dataframe tbody tr th:only-of-type {\n",
       "        vertical-align: middle;\n",
       "    }\n",
       "\n",
       "    .dataframe tbody tr th {\n",
       "        vertical-align: top;\n",
       "    }\n",
       "\n",
       "    .dataframe thead th {\n",
       "        text-align: right;\n",
       "    }\n",
       "</style>\n",
       "<table border=\"1\" class=\"dataframe\">\n",
       "  <thead>\n",
       "    <tr style=\"text-align: right;\">\n",
       "      <th></th>\n",
       "      <th>id</th>\n",
       "      <th>realtime_start</th>\n",
       "      <th>realtime_end</th>\n",
       "      <th>title</th>\n",
       "      <th>observation_start</th>\n",
       "      <th>observation_end</th>\n",
       "      <th>frequency</th>\n",
       "      <th>frequency_short</th>\n",
       "      <th>units</th>\n",
       "      <th>units_short</th>\n",
       "      <th>seasonal_adjustment</th>\n",
       "      <th>seasonal_adjustment_short</th>\n",
       "      <th>last_updated</th>\n",
       "      <th>popularity</th>\n",
       "      <th>group_popularity</th>\n",
       "      <th>notes</th>\n",
       "    </tr>\n",
       "  </thead>\n",
       "  <tbody>\n",
       "    <tr>\n",
       "      <th>0</th>\n",
       "      <td>00XALCATM086NEST</td>\n",
       "      <td>2021-05-10</td>\n",
       "      <td>2021-05-10</td>\n",
       "      <td>Harmonized Index of Consumer Prices: Overall I...</td>\n",
       "      <td>1999-12-01</td>\n",
       "      <td>2021-03-01</td>\n",
       "      <td>Monthly</td>\n",
       "      <td>M</td>\n",
       "      <td>Index 2015=100</td>\n",
       "      <td>Index 2015=100</td>\n",
       "      <td>Not Seasonally Adjusted</td>\n",
       "      <td>NSA</td>\n",
       "      <td>2021-04-16 07:11:21-05</td>\n",
       "      <td>1</td>\n",
       "      <td>1</td>\n",
       "      <td>The Harmonized Index of Consumer Prices catego...</td>\n",
       "    </tr>\n",
       "    <tr>\n",
       "      <th>1</th>\n",
       "      <td>00XALCBEM086NEST</td>\n",
       "      <td>2021-05-10</td>\n",
       "      <td>2021-05-10</td>\n",
       "      <td>Harmonized Index of Consumer Prices: Overall I...</td>\n",
       "      <td>1998-12-01</td>\n",
       "      <td>2021-03-01</td>\n",
       "      <td>Monthly</td>\n",
       "      <td>M</td>\n",
       "      <td>Index 2015=100</td>\n",
       "      <td>Index 2015=100</td>\n",
       "      <td>Not Seasonally Adjusted</td>\n",
       "      <td>NSA</td>\n",
       "      <td>2021-04-16 07:16:28-05</td>\n",
       "      <td>1</td>\n",
       "      <td>1</td>\n",
       "      <td>The Harmonized Index of Consumer Prices catego...</td>\n",
       "    </tr>\n",
       "  </tbody>\n",
       "</table>\n",
       "</div>"
      ],
      "text/plain": [
       "                 id realtime_start realtime_end  \\\n",
       "0  00XALCATM086NEST     2021-05-10   2021-05-10   \n",
       "1  00XALCBEM086NEST     2021-05-10   2021-05-10   \n",
       "\n",
       "                                               title observation_start  \\\n",
       "0  Harmonized Index of Consumer Prices: Overall I...        1999-12-01   \n",
       "1  Harmonized Index of Consumer Prices: Overall I...        1998-12-01   \n",
       "\n",
       "  observation_end frequency frequency_short           units     units_short  \\\n",
       "0      2021-03-01   Monthly               M  Index 2015=100  Index 2015=100   \n",
       "1      2021-03-01   Monthly               M  Index 2015=100  Index 2015=100   \n",
       "\n",
       "       seasonal_adjustment seasonal_adjustment_short            last_updated  \\\n",
       "0  Not Seasonally Adjusted                       NSA  2021-04-16 07:11:21-05   \n",
       "1  Not Seasonally Adjusted                       NSA  2021-04-16 07:16:28-05   \n",
       "\n",
       "   popularity  group_popularity  \\\n",
       "0           1                 1   \n",
       "1           1                 1   \n",
       "\n",
       "                                               notes  \n",
       "0  The Harmonized Index of Consumer Prices catego...  \n",
       "1  The Harmonized Index of Consumer Prices catego...  "
      ]
     },
     "execution_count": 7,
     "metadata": {},
     "output_type": "execute_result"
    }
   ],
   "source": [
    "df.head(2)"
   ]
  },
  {
   "cell_type": "code",
   "execution_count": 8,
   "metadata": {},
   "outputs": [
    {
     "data": {
      "text/plain": [
       "(426743, 16)"
      ]
     },
     "execution_count": 8,
     "metadata": {},
     "output_type": "execute_result"
    }
   ],
   "source": [
    "df.shape"
   ]
  },
  {
   "cell_type": "markdown",
   "metadata": {},
   "source": [
    "# filtering"
   ]
  },
  {
   "cell_type": "code",
   "execution_count": 9,
   "metadata": {},
   "outputs": [
    {
     "name": "stderr",
     "output_type": "stream",
     "text": [
      "<ipython-input-9-8fb654586b8e>:25: SettingWithCopyWarning: \n",
      "A value is trying to be set on a copy of a slice from a DataFrame\n",
      "\n",
      "See the caveats in the documentation: https://pandas.pydata.org/pandas-docs/stable/user_guide/indexing.html#returning-a-view-versus-a-copy\n",
      "  msa_series['title'][row] = msa_series['title'][row].replace(\", in (MSA)\",\", IN (MSA)\")\n"
     ]
    }
   ],
   "source": [
    "#סינון לפי סוג אזור\n",
    "def is_series_valid(title):\n",
    "    title = title.lower()\n",
    "    return ('cbsa' in title or 'msa' in title or 'necta' in title)# and ('dallas' in title or 'bridgeport' in title) \n",
    "\n",
    "#סינון לפי שנת התחלה\n",
    "from datetime import datetime\n",
    "\n",
    "def is_series_valid_time_start(start_date):\n",
    "    start_year = datetime.strptime(start_date, '%Y-%m-%d').year\n",
    "    return (start_year <= 2010)\n",
    "\n",
    "#סינון לפי שנת סיום\n",
    "def is_series_valid_time_end(end_date):\n",
    "    end_year = datetime.strptime(end_date, '%Y-%m-%d').year\n",
    "    return (end_year > 2015)\n",
    "\n",
    "\n",
    "msa_series = df[df.title.apply(is_series_valid)]\n",
    "msa_series = msa_series[msa_series.observation_start.apply(is_series_valid_time_start)]\n",
    "msa_series = msa_series[msa_series.observation_end.apply(is_series_valid_time_end)]\n",
    "msa_series = msa_series.reset_index()\n",
    "for row in msa_series.index:\n",
    "    if \", in (MSA)\" in msa_series['title'][row]:\n",
    "        msa_series['title'][row] = msa_series['title'][row].replace(\", in (MSA)\",\", IN (MSA)\")"
   ]
  },
  {
   "cell_type": "code",
   "execution_count": 10,
   "metadata": {},
   "outputs": [],
   "source": [
    "series_list = []\n",
    "places_list = []\n",
    "\n",
    "#תוספת הפרדה של שם סדרה והמיקום\n",
    "for ind,name in enumerate(msa_series['title']): \n",
    "    seasonal_adjustment = msa_series['seasonal_adjustment'][ind]\n",
    "    unit = msa_series['units'][ind]\n",
    "    frequency = msa_series['frequency'][ind]\n",
    "    if \" in \" in name:\n",
    "        if \"Change in\" in name and \" for \" in name:\n",
    "                series_list.append(f\"{name.split(' for ')[0]},{frequency},{seasonal_adjustment},{unit}\")\n",
    "                places_list.append(name.split(' for ')[1])\n",
    "        else:\n",
    "            if name.count(' in ') == 1:\n",
    "                series_list.append(f\"{name.split(' in ')[0]},{frequency},{seasonal_adjustment},{unit}\")\n",
    "                places_list.append(name.split(' in ')[1])\n",
    "            else:\n",
    "                series_list.append(f\"{' in '.join(name.split(' in ')[:-1])},{frequency},{seasonal_adjustment},{unit}\")\n",
    "                places_list.append(name.split(' in ')[-1])\n",
    "    elif \" for \" in name:\n",
    "        if name.count(' for ') == 1:\n",
    "            series_list.append(f\"{name.split(' for ')[0]},{frequency},{seasonal_adjustment},{unit}\")\n",
    "            places_list.append(name.split(' for ')[1])\n",
    "        else:\n",
    "            series_list.append(f\"{' for '.join(name.split(' for ')[:-1])},{frequency},{seasonal_adjustment},{unit}\")\n",
    "            places_list.append(name.split(' for ')[-1])\n",
    "    else:\n",
    "        series_list.append(name)\n",
    "        places_list.append(None)\n",
    "\n",
    "p = {\"Urban Alaska (CBSA)\":\"Urban Alaska, AK (CBSA)\",\n",
    "     \"Seattle-Tacoma-Bellevue WA (CBSA)\":\"Seattle-Tacoma-Bellevue, WA (CBSA)\",\n",
    "     \"Urban Hawaii (CBSA)\":\"Urban Hawaii, HI (CBSA)\"}\n",
    "for ind,place in enumerate(places_list):\n",
    "    if place in p.keys():\n",
    "        places_list[ind] = p[place]        \n",
    "        \n",
    "msa_series['series'] = series_list\n",
    "msa_series['place_title'] = places_list\n",
    "msa_series['state'] = [p.split(\"(\")[0].split(',')[1] for p in msa_series['place_title']]\n",
    "msa_series['msa'] = [p.split(\"(\")[0].split(',')[0] for p in msa_series['place_title']]\n"
   ]
  },
  {
   "cell_type": "code",
   "execution_count": 11,
   "metadata": {},
   "outputs": [
    {
     "data": {
      "text/plain": [
       "(36136, 21)"
      ]
     },
     "execution_count": 11,
     "metadata": {},
     "output_type": "execute_result"
    }
   ],
   "source": [
    "msa_series.shape"
   ]
  },
  {
   "cell_type": "code",
   "execution_count": 12,
   "metadata": {},
   "outputs": [
    {
     "data": {
      "text/html": [
       "<div>\n",
       "<style scoped>\n",
       "    .dataframe tbody tr th:only-of-type {\n",
       "        vertical-align: middle;\n",
       "    }\n",
       "\n",
       "    .dataframe tbody tr th {\n",
       "        vertical-align: top;\n",
       "    }\n",
       "\n",
       "    .dataframe thead th {\n",
       "        text-align: right;\n",
       "    }\n",
       "</style>\n",
       "<table border=\"1\" class=\"dataframe\">\n",
       "  <thead>\n",
       "    <tr style=\"text-align: right;\">\n",
       "      <th></th>\n",
       "      <th>index</th>\n",
       "      <th>id</th>\n",
       "      <th>realtime_start</th>\n",
       "      <th>realtime_end</th>\n",
       "      <th>title</th>\n",
       "      <th>observation_start</th>\n",
       "      <th>observation_end</th>\n",
       "      <th>frequency</th>\n",
       "      <th>frequency_short</th>\n",
       "      <th>units</th>\n",
       "      <th>...</th>\n",
       "      <th>seasonal_adjustment</th>\n",
       "      <th>seasonal_adjustment_short</th>\n",
       "      <th>last_updated</th>\n",
       "      <th>popularity</th>\n",
       "      <th>group_popularity</th>\n",
       "      <th>notes</th>\n",
       "      <th>series</th>\n",
       "      <th>place_title</th>\n",
       "      <th>state</th>\n",
       "      <th>msa</th>\n",
       "    </tr>\n",
       "  </thead>\n",
       "  <tbody>\n",
       "    <tr>\n",
       "      <th>0</th>\n",
       "      <td>2408</td>\n",
       "      <td>ABIL148EDUH</td>\n",
       "      <td>2021-05-10</td>\n",
       "      <td>2021-05-10</td>\n",
       "      <td>All Employees: Education and Health Services i...</td>\n",
       "      <td>1990-01-01</td>\n",
       "      <td>2021-03-01</td>\n",
       "      <td>Monthly</td>\n",
       "      <td>M</td>\n",
       "      <td>Thousands of Persons</td>\n",
       "      <td>...</td>\n",
       "      <td>Seasonally Adjusted</td>\n",
       "      <td>SA</td>\n",
       "      <td>2021-04-16 16:53:47-05</td>\n",
       "      <td>1</td>\n",
       "      <td>1</td>\n",
       "      <td>The Federal Reserve Bank of St. Louis seasonal...</td>\n",
       "      <td>All Employees: Education and Health Services,M...</td>\n",
       "      <td>Abilene, TX (MSA)</td>\n",
       "      <td>TX</td>\n",
       "      <td>Abilene</td>\n",
       "    </tr>\n",
       "    <tr>\n",
       "      <th>1</th>\n",
       "      <td>2409</td>\n",
       "      <td>ABIL148EDUHN</td>\n",
       "      <td>2021-05-10</td>\n",
       "      <td>2021-05-10</td>\n",
       "      <td>All Employees: Education and Health Services i...</td>\n",
       "      <td>1990-01-01</td>\n",
       "      <td>2021-03-01</td>\n",
       "      <td>Monthly</td>\n",
       "      <td>M</td>\n",
       "      <td>Thousands of Persons</td>\n",
       "      <td>...</td>\n",
       "      <td>Not Seasonally Adjusted</td>\n",
       "      <td>NSA</td>\n",
       "      <td>2021-04-16 15:21:34-05</td>\n",
       "      <td>1</td>\n",
       "      <td>1</td>\n",
       "      <td>NaN</td>\n",
       "      <td>All Employees: Education and Health Services,M...</td>\n",
       "      <td>Abilene, TX (MSA)</td>\n",
       "      <td>TX</td>\n",
       "      <td>Abilene</td>\n",
       "    </tr>\n",
       "    <tr>\n",
       "      <th>2</th>\n",
       "      <td>2410</td>\n",
       "      <td>ABIL148FIRE</td>\n",
       "      <td>2021-05-10</td>\n",
       "      <td>2021-05-10</td>\n",
       "      <td>All Employees: Financial Activities in Abilene...</td>\n",
       "      <td>1990-01-01</td>\n",
       "      <td>2021-03-01</td>\n",
       "      <td>Monthly</td>\n",
       "      <td>M</td>\n",
       "      <td>Thousands of Persons</td>\n",
       "      <td>...</td>\n",
       "      <td>Seasonally Adjusted</td>\n",
       "      <td>SA</td>\n",
       "      <td>2021-04-16 16:53:47-05</td>\n",
       "      <td>1</td>\n",
       "      <td>1</td>\n",
       "      <td>The Federal Reserve Bank of St. Louis seasonal...</td>\n",
       "      <td>All Employees: Financial Activities,Monthly,Se...</td>\n",
       "      <td>Abilene, TX (MSA)</td>\n",
       "      <td>TX</td>\n",
       "      <td>Abilene</td>\n",
       "    </tr>\n",
       "  </tbody>\n",
       "</table>\n",
       "<p>3 rows × 21 columns</p>\n",
       "</div>"
      ],
      "text/plain": [
       "   index            id realtime_start realtime_end  \\\n",
       "0   2408   ABIL148EDUH     2021-05-10   2021-05-10   \n",
       "1   2409  ABIL148EDUHN     2021-05-10   2021-05-10   \n",
       "2   2410   ABIL148FIRE     2021-05-10   2021-05-10   \n",
       "\n",
       "                                               title observation_start  \\\n",
       "0  All Employees: Education and Health Services i...        1990-01-01   \n",
       "1  All Employees: Education and Health Services i...        1990-01-01   \n",
       "2  All Employees: Financial Activities in Abilene...        1990-01-01   \n",
       "\n",
       "  observation_end frequency frequency_short                 units  ...  \\\n",
       "0      2021-03-01   Monthly               M  Thousands of Persons  ...   \n",
       "1      2021-03-01   Monthly               M  Thousands of Persons  ...   \n",
       "2      2021-03-01   Monthly               M  Thousands of Persons  ...   \n",
       "\n",
       "       seasonal_adjustment seasonal_adjustment_short            last_updated  \\\n",
       "0      Seasonally Adjusted                        SA  2021-04-16 16:53:47-05   \n",
       "1  Not Seasonally Adjusted                       NSA  2021-04-16 15:21:34-05   \n",
       "2      Seasonally Adjusted                        SA  2021-04-16 16:53:47-05   \n",
       "\n",
       "  popularity  group_popularity  \\\n",
       "0          1                 1   \n",
       "1          1                 1   \n",
       "2          1                 1   \n",
       "\n",
       "                                               notes  \\\n",
       "0  The Federal Reserve Bank of St. Louis seasonal...   \n",
       "1                                                NaN   \n",
       "2  The Federal Reserve Bank of St. Louis seasonal...   \n",
       "\n",
       "                                              series        place_title state  \\\n",
       "0  All Employees: Education and Health Services,M...  Abilene, TX (MSA)   TX    \n",
       "1  All Employees: Education and Health Services,M...  Abilene, TX (MSA)   TX    \n",
       "2  All Employees: Financial Activities,Monthly,Se...  Abilene, TX (MSA)   TX    \n",
       "\n",
       "       msa  \n",
       "0  Abilene  \n",
       "1  Abilene  \n",
       "2  Abilene  \n",
       "\n",
       "[3 rows x 21 columns]"
      ]
     },
     "execution_count": 12,
     "metadata": {},
     "output_type": "execute_result"
    }
   ],
   "source": [
    "msa_series.head(3)"
   ]
  },
  {
   "cell_type": "markdown",
   "metadata": {},
   "source": [
    "## find relevant series"
   ]
  },
  {
   "cell_type": "code",
   "execution_count": 13,
   "metadata": {},
   "outputs": [
    {
     "data": {
      "text/html": [
       "<div>\n",
       "<style scoped>\n",
       "    .dataframe tbody tr th:only-of-type {\n",
       "        vertical-align: middle;\n",
       "    }\n",
       "\n",
       "    .dataframe tbody tr th {\n",
       "        vertical-align: top;\n",
       "    }\n",
       "\n",
       "    .dataframe thead th {\n",
       "        text-align: right;\n",
       "    }\n",
       "</style>\n",
       "<table border=\"1\" class=\"dataframe\">\n",
       "  <thead>\n",
       "    <tr style=\"text-align: right;\">\n",
       "      <th></th>\n",
       "      <th>index</th>\n",
       "      <th>id</th>\n",
       "      <th>realtime_start</th>\n",
       "      <th>realtime_end</th>\n",
       "      <th>title</th>\n",
       "      <th>observation_start</th>\n",
       "      <th>observation_end</th>\n",
       "      <th>frequency</th>\n",
       "      <th>frequency_short</th>\n",
       "      <th>units</th>\n",
       "      <th>units_short</th>\n",
       "      <th>seasonal_adjustment</th>\n",
       "      <th>seasonal_adjustment_short</th>\n",
       "      <th>last_updated</th>\n",
       "      <th>popularity</th>\n",
       "      <th>group_popularity</th>\n",
       "      <th>notes</th>\n",
       "      <th>place_title</th>\n",
       "      <th>state</th>\n",
       "      <th>msa</th>\n",
       "    </tr>\n",
       "    <tr>\n",
       "      <th>series</th>\n",
       "      <th></th>\n",
       "      <th></th>\n",
       "      <th></th>\n",
       "      <th></th>\n",
       "      <th></th>\n",
       "      <th></th>\n",
       "      <th></th>\n",
       "      <th></th>\n",
       "      <th></th>\n",
       "      <th></th>\n",
       "      <th></th>\n",
       "      <th></th>\n",
       "      <th></th>\n",
       "      <th></th>\n",
       "      <th></th>\n",
       "      <th></th>\n",
       "      <th></th>\n",
       "      <th></th>\n",
       "      <th></th>\n",
       "      <th></th>\n",
       "    </tr>\n",
       "  </thead>\n",
       "  <tbody>\n",
       "    <tr>\n",
       "      <th>All-Transactions House Price Index,Quarterly,Not Seasonally Adjusted,Index 1995:Q1=100</th>\n",
       "      <td>397</td>\n",
       "      <td>397</td>\n",
       "      <td>397</td>\n",
       "      <td>397</td>\n",
       "      <td>397</td>\n",
       "      <td>397</td>\n",
       "      <td>397</td>\n",
       "      <td>397</td>\n",
       "      <td>397</td>\n",
       "      <td>397</td>\n",
       "      <td>397</td>\n",
       "      <td>397</td>\n",
       "      <td>397</td>\n",
       "      <td>397</td>\n",
       "      <td>397</td>\n",
       "      <td>397</td>\n",
       "      <td>397</td>\n",
       "      <td>397</td>\n",
       "      <td>397</td>\n",
       "      <td>397</td>\n",
       "    </tr>\n",
       "    <tr>\n",
       "      <th>Implicit Regional Price Deflator,Annual,Not Seasonally Adjusted,US PCE Index 2012=100</th>\n",
       "      <td>381</td>\n",
       "      <td>381</td>\n",
       "      <td>381</td>\n",
       "      <td>381</td>\n",
       "      <td>381</td>\n",
       "      <td>381</td>\n",
       "      <td>381</td>\n",
       "      <td>381</td>\n",
       "      <td>381</td>\n",
       "      <td>381</td>\n",
       "      <td>381</td>\n",
       "      <td>381</td>\n",
       "      <td>381</td>\n",
       "      <td>381</td>\n",
       "      <td>381</td>\n",
       "      <td>381</td>\n",
       "      <td>381</td>\n",
       "      <td>381</td>\n",
       "      <td>381</td>\n",
       "      <td>381</td>\n",
       "    </tr>\n",
       "    <tr>\n",
       "      <th>Average Weekly Wages for Employees in Total Covered Establishments,Quarterly,Seasonally Adjusted,Dollars per Week</th>\n",
       "      <td>352</td>\n",
       "      <td>352</td>\n",
       "      <td>352</td>\n",
       "      <td>352</td>\n",
       "      <td>352</td>\n",
       "      <td>352</td>\n",
       "      <td>352</td>\n",
       "      <td>352</td>\n",
       "      <td>352</td>\n",
       "      <td>352</td>\n",
       "      <td>352</td>\n",
       "      <td>352</td>\n",
       "      <td>352</td>\n",
       "      <td>352</td>\n",
       "      <td>352</td>\n",
       "      <td>352</td>\n",
       "      <td>352</td>\n",
       "      <td>352</td>\n",
       "      <td>352</td>\n",
       "      <td>352</td>\n",
       "    </tr>\n",
       "    <tr>\n",
       "      <th>Average Weekly Wages for Employees in Total Covered Establishments,Quarterly,Not Seasonally Adjusted,Dollars per Week</th>\n",
       "      <td>352</td>\n",
       "      <td>352</td>\n",
       "      <td>352</td>\n",
       "      <td>352</td>\n",
       "      <td>352</td>\n",
       "      <td>352</td>\n",
       "      <td>352</td>\n",
       "      <td>352</td>\n",
       "      <td>352</td>\n",
       "      <td>352</td>\n",
       "      <td>352</td>\n",
       "      <td>352</td>\n",
       "      <td>352</td>\n",
       "      <td>352</td>\n",
       "      <td>352</td>\n",
       "      <td>352</td>\n",
       "      <td>352</td>\n",
       "      <td>352</td>\n",
       "      <td>352</td>\n",
       "      <td>352</td>\n",
       "    </tr>\n",
       "    <tr>\n",
       "      <th>All Employees: Total Nonfarm,Monthly,Seasonally Adjusted,Thousands of Persons</th>\n",
       "      <td>348</td>\n",
       "      <td>348</td>\n",
       "      <td>348</td>\n",
       "      <td>348</td>\n",
       "      <td>348</td>\n",
       "      <td>348</td>\n",
       "      <td>348</td>\n",
       "      <td>348</td>\n",
       "      <td>348</td>\n",
       "      <td>348</td>\n",
       "      <td>348</td>\n",
       "      <td>348</td>\n",
       "      <td>348</td>\n",
       "      <td>348</td>\n",
       "      <td>348</td>\n",
       "      <td>348</td>\n",
       "      <td>29</td>\n",
       "      <td>348</td>\n",
       "      <td>348</td>\n",
       "      <td>348</td>\n",
       "    </tr>\n",
       "    <tr>\n",
       "      <th>...</th>\n",
       "      <td>...</td>\n",
       "      <td>...</td>\n",
       "      <td>...</td>\n",
       "      <td>...</td>\n",
       "      <td>...</td>\n",
       "      <td>...</td>\n",
       "      <td>...</td>\n",
       "      <td>...</td>\n",
       "      <td>...</td>\n",
       "      <td>...</td>\n",
       "      <td>...</td>\n",
       "      <td>...</td>\n",
       "      <td>...</td>\n",
       "      <td>...</td>\n",
       "      <td>...</td>\n",
       "      <td>...</td>\n",
       "      <td>...</td>\n",
       "      <td>...</td>\n",
       "      <td>...</td>\n",
       "      <td>...</td>\n",
       "    </tr>\n",
       "    <tr>\n",
       "      <th>Consumer Price Index for All Urban Consumers: Gasoline (all types),Annual,Not Seasonally Adjusted,Index Dec 2001=100</th>\n",
       "      <td>1</td>\n",
       "      <td>1</td>\n",
       "      <td>1</td>\n",
       "      <td>1</td>\n",
       "      <td>1</td>\n",
       "      <td>1</td>\n",
       "      <td>1</td>\n",
       "      <td>1</td>\n",
       "      <td>1</td>\n",
       "      <td>1</td>\n",
       "      <td>1</td>\n",
       "      <td>1</td>\n",
       "      <td>1</td>\n",
       "      <td>1</td>\n",
       "      <td>1</td>\n",
       "      <td>1</td>\n",
       "      <td>0</td>\n",
       "      <td>1</td>\n",
       "      <td>1</td>\n",
       "      <td>1</td>\n",
       "    </tr>\n",
       "    <tr>\n",
       "      <th>Consumer Price Index for All Urban Consumers: Gasoline (all types),Annual,Not Seasonally Adjusted,Index Dec 1997=100</th>\n",
       "      <td>1</td>\n",
       "      <td>1</td>\n",
       "      <td>1</td>\n",
       "      <td>1</td>\n",
       "      <td>1</td>\n",
       "      <td>1</td>\n",
       "      <td>1</td>\n",
       "      <td>1</td>\n",
       "      <td>1</td>\n",
       "      <td>1</td>\n",
       "      <td>1</td>\n",
       "      <td>1</td>\n",
       "      <td>1</td>\n",
       "      <td>1</td>\n",
       "      <td>1</td>\n",
       "      <td>1</td>\n",
       "      <td>1</td>\n",
       "      <td>1</td>\n",
       "      <td>1</td>\n",
       "      <td>1</td>\n",
       "    </tr>\n",
       "    <tr>\n",
       "      <th>Consumer Price Index for All Urban Consumers: Gasoline (all types),Annual,Not Seasonally Adjusted,Index 1987=100</th>\n",
       "      <td>1</td>\n",
       "      <td>1</td>\n",
       "      <td>1</td>\n",
       "      <td>1</td>\n",
       "      <td>1</td>\n",
       "      <td>1</td>\n",
       "      <td>1</td>\n",
       "      <td>1</td>\n",
       "      <td>1</td>\n",
       "      <td>1</td>\n",
       "      <td>1</td>\n",
       "      <td>1</td>\n",
       "      <td>1</td>\n",
       "      <td>1</td>\n",
       "      <td>1</td>\n",
       "      <td>1</td>\n",
       "      <td>0</td>\n",
       "      <td>1</td>\n",
       "      <td>1</td>\n",
       "      <td>1</td>\n",
       "    </tr>\n",
       "    <tr>\n",
       "      <th>All Employees: Professional and Business Services: Other Support Services,Monthly,Not Seasonally Adjusted,Thousands of Persons</th>\n",
       "      <td>1</td>\n",
       "      <td>1</td>\n",
       "      <td>1</td>\n",
       "      <td>1</td>\n",
       "      <td>1</td>\n",
       "      <td>1</td>\n",
       "      <td>1</td>\n",
       "      <td>1</td>\n",
       "      <td>1</td>\n",
       "      <td>1</td>\n",
       "      <td>1</td>\n",
       "      <td>1</td>\n",
       "      <td>1</td>\n",
       "      <td>1</td>\n",
       "      <td>1</td>\n",
       "      <td>1</td>\n",
       "      <td>0</td>\n",
       "      <td>1</td>\n",
       "      <td>1</td>\n",
       "      <td>1</td>\n",
       "    </tr>\n",
       "    <tr>\n",
       "      <th>90% Confidence Interval Lower Bound of Estimate of Median Household Income,Annual,Not Seasonally Adjusted,Dollars</th>\n",
       "      <td>1</td>\n",
       "      <td>1</td>\n",
       "      <td>1</td>\n",
       "      <td>1</td>\n",
       "      <td>1</td>\n",
       "      <td>1</td>\n",
       "      <td>1</td>\n",
       "      <td>1</td>\n",
       "      <td>1</td>\n",
       "      <td>1</td>\n",
       "      <td>1</td>\n",
       "      <td>1</td>\n",
       "      <td>1</td>\n",
       "      <td>1</td>\n",
       "      <td>1</td>\n",
       "      <td>1</td>\n",
       "      <td>1</td>\n",
       "      <td>1</td>\n",
       "      <td>1</td>\n",
       "      <td>1</td>\n",
       "    </tr>\n",
       "  </tbody>\n",
       "</table>\n",
       "<p>1354 rows × 20 columns</p>\n",
       "</div>"
      ],
      "text/plain": [
       "                                                    index   id  \\\n",
       "series                                                           \n",
       "All-Transactions House Price Index,Quarterly,No...    397  397   \n",
       "Implicit Regional Price Deflator,Annual,Not Sea...    381  381   \n",
       "Average Weekly Wages for Employees in Total Cov...    352  352   \n",
       "Average Weekly Wages for Employees in Total Cov...    352  352   \n",
       "All Employees: Total Nonfarm,Monthly,Seasonally...    348  348   \n",
       "...                                                   ...  ...   \n",
       "Consumer Price Index for All Urban Consumers: G...      1    1   \n",
       "Consumer Price Index for All Urban Consumers: G...      1    1   \n",
       "Consumer Price Index for All Urban Consumers: G...      1    1   \n",
       "All Employees: Professional and Business Servic...      1    1   \n",
       "90% Confidence Interval Lower Bound of Estimate...      1    1   \n",
       "\n",
       "                                                    realtime_start  \\\n",
       "series                                                               \n",
       "All-Transactions House Price Index,Quarterly,No...             397   \n",
       "Implicit Regional Price Deflator,Annual,Not Sea...             381   \n",
       "Average Weekly Wages for Employees in Total Cov...             352   \n",
       "Average Weekly Wages for Employees in Total Cov...             352   \n",
       "All Employees: Total Nonfarm,Monthly,Seasonally...             348   \n",
       "...                                                            ...   \n",
       "Consumer Price Index for All Urban Consumers: G...               1   \n",
       "Consumer Price Index for All Urban Consumers: G...               1   \n",
       "Consumer Price Index for All Urban Consumers: G...               1   \n",
       "All Employees: Professional and Business Servic...               1   \n",
       "90% Confidence Interval Lower Bound of Estimate...               1   \n",
       "\n",
       "                                                    realtime_end  title  \\\n",
       "series                                                                    \n",
       "All-Transactions House Price Index,Quarterly,No...           397    397   \n",
       "Implicit Regional Price Deflator,Annual,Not Sea...           381    381   \n",
       "Average Weekly Wages for Employees in Total Cov...           352    352   \n",
       "Average Weekly Wages for Employees in Total Cov...           352    352   \n",
       "All Employees: Total Nonfarm,Monthly,Seasonally...           348    348   \n",
       "...                                                          ...    ...   \n",
       "Consumer Price Index for All Urban Consumers: G...             1      1   \n",
       "Consumer Price Index for All Urban Consumers: G...             1      1   \n",
       "Consumer Price Index for All Urban Consumers: G...             1      1   \n",
       "All Employees: Professional and Business Servic...             1      1   \n",
       "90% Confidence Interval Lower Bound of Estimate...             1      1   \n",
       "\n",
       "                                                    observation_start  \\\n",
       "series                                                                  \n",
       "All-Transactions House Price Index,Quarterly,No...                397   \n",
       "Implicit Regional Price Deflator,Annual,Not Sea...                381   \n",
       "Average Weekly Wages for Employees in Total Cov...                352   \n",
       "Average Weekly Wages for Employees in Total Cov...                352   \n",
       "All Employees: Total Nonfarm,Monthly,Seasonally...                348   \n",
       "...                                                               ...   \n",
       "Consumer Price Index for All Urban Consumers: G...                  1   \n",
       "Consumer Price Index for All Urban Consumers: G...                  1   \n",
       "Consumer Price Index for All Urban Consumers: G...                  1   \n",
       "All Employees: Professional and Business Servic...                  1   \n",
       "90% Confidence Interval Lower Bound of Estimate...                  1   \n",
       "\n",
       "                                                    observation_end  \\\n",
       "series                                                                \n",
       "All-Transactions House Price Index,Quarterly,No...              397   \n",
       "Implicit Regional Price Deflator,Annual,Not Sea...              381   \n",
       "Average Weekly Wages for Employees in Total Cov...              352   \n",
       "Average Weekly Wages for Employees in Total Cov...              352   \n",
       "All Employees: Total Nonfarm,Monthly,Seasonally...              348   \n",
       "...                                                             ...   \n",
       "Consumer Price Index for All Urban Consumers: G...                1   \n",
       "Consumer Price Index for All Urban Consumers: G...                1   \n",
       "Consumer Price Index for All Urban Consumers: G...                1   \n",
       "All Employees: Professional and Business Servic...                1   \n",
       "90% Confidence Interval Lower Bound of Estimate...                1   \n",
       "\n",
       "                                                    frequency  \\\n",
       "series                                                          \n",
       "All-Transactions House Price Index,Quarterly,No...        397   \n",
       "Implicit Regional Price Deflator,Annual,Not Sea...        381   \n",
       "Average Weekly Wages for Employees in Total Cov...        352   \n",
       "Average Weekly Wages for Employees in Total Cov...        352   \n",
       "All Employees: Total Nonfarm,Monthly,Seasonally...        348   \n",
       "...                                                       ...   \n",
       "Consumer Price Index for All Urban Consumers: G...          1   \n",
       "Consumer Price Index for All Urban Consumers: G...          1   \n",
       "Consumer Price Index for All Urban Consumers: G...          1   \n",
       "All Employees: Professional and Business Servic...          1   \n",
       "90% Confidence Interval Lower Bound of Estimate...          1   \n",
       "\n",
       "                                                    frequency_short  units  \\\n",
       "series                                                                       \n",
       "All-Transactions House Price Index,Quarterly,No...              397    397   \n",
       "Implicit Regional Price Deflator,Annual,Not Sea...              381    381   \n",
       "Average Weekly Wages for Employees in Total Cov...              352    352   \n",
       "Average Weekly Wages for Employees in Total Cov...              352    352   \n",
       "All Employees: Total Nonfarm,Monthly,Seasonally...              348    348   \n",
       "...                                                             ...    ...   \n",
       "Consumer Price Index for All Urban Consumers: G...                1      1   \n",
       "Consumer Price Index for All Urban Consumers: G...                1      1   \n",
       "Consumer Price Index for All Urban Consumers: G...                1      1   \n",
       "All Employees: Professional and Business Servic...                1      1   \n",
       "90% Confidence Interval Lower Bound of Estimate...                1      1   \n",
       "\n",
       "                                                    units_short  \\\n",
       "series                                                            \n",
       "All-Transactions House Price Index,Quarterly,No...          397   \n",
       "Implicit Regional Price Deflator,Annual,Not Sea...          381   \n",
       "Average Weekly Wages for Employees in Total Cov...          352   \n",
       "Average Weekly Wages for Employees in Total Cov...          352   \n",
       "All Employees: Total Nonfarm,Monthly,Seasonally...          348   \n",
       "...                                                         ...   \n",
       "Consumer Price Index for All Urban Consumers: G...            1   \n",
       "Consumer Price Index for All Urban Consumers: G...            1   \n",
       "Consumer Price Index for All Urban Consumers: G...            1   \n",
       "All Employees: Professional and Business Servic...            1   \n",
       "90% Confidence Interval Lower Bound of Estimate...            1   \n",
       "\n",
       "                                                    seasonal_adjustment  \\\n",
       "series                                                                    \n",
       "All-Transactions House Price Index,Quarterly,No...                  397   \n",
       "Implicit Regional Price Deflator,Annual,Not Sea...                  381   \n",
       "Average Weekly Wages for Employees in Total Cov...                  352   \n",
       "Average Weekly Wages for Employees in Total Cov...                  352   \n",
       "All Employees: Total Nonfarm,Monthly,Seasonally...                  348   \n",
       "...                                                                 ...   \n",
       "Consumer Price Index for All Urban Consumers: G...                    1   \n",
       "Consumer Price Index for All Urban Consumers: G...                    1   \n",
       "Consumer Price Index for All Urban Consumers: G...                    1   \n",
       "All Employees: Professional and Business Servic...                    1   \n",
       "90% Confidence Interval Lower Bound of Estimate...                    1   \n",
       "\n",
       "                                                    seasonal_adjustment_short  \\\n",
       "series                                                                          \n",
       "All-Transactions House Price Index,Quarterly,No...                        397   \n",
       "Implicit Regional Price Deflator,Annual,Not Sea...                        381   \n",
       "Average Weekly Wages for Employees in Total Cov...                        352   \n",
       "Average Weekly Wages for Employees in Total Cov...                        352   \n",
       "All Employees: Total Nonfarm,Monthly,Seasonally...                        348   \n",
       "...                                                                       ...   \n",
       "Consumer Price Index for All Urban Consumers: G...                          1   \n",
       "Consumer Price Index for All Urban Consumers: G...                          1   \n",
       "Consumer Price Index for All Urban Consumers: G...                          1   \n",
       "All Employees: Professional and Business Servic...                          1   \n",
       "90% Confidence Interval Lower Bound of Estimate...                          1   \n",
       "\n",
       "                                                    last_updated  popularity  \\\n",
       "series                                                                         \n",
       "All-Transactions House Price Index,Quarterly,No...           397         397   \n",
       "Implicit Regional Price Deflator,Annual,Not Sea...           381         381   \n",
       "Average Weekly Wages for Employees in Total Cov...           352         352   \n",
       "Average Weekly Wages for Employees in Total Cov...           352         352   \n",
       "All Employees: Total Nonfarm,Monthly,Seasonally...           348         348   \n",
       "...                                                          ...         ...   \n",
       "Consumer Price Index for All Urban Consumers: G...             1           1   \n",
       "Consumer Price Index for All Urban Consumers: G...             1           1   \n",
       "Consumer Price Index for All Urban Consumers: G...             1           1   \n",
       "All Employees: Professional and Business Servic...             1           1   \n",
       "90% Confidence Interval Lower Bound of Estimate...             1           1   \n",
       "\n",
       "                                                    group_popularity  notes  \\\n",
       "series                                                                        \n",
       "All-Transactions House Price Index,Quarterly,No...               397    397   \n",
       "Implicit Regional Price Deflator,Annual,Not Sea...               381    381   \n",
       "Average Weekly Wages for Employees in Total Cov...               352    352   \n",
       "Average Weekly Wages for Employees in Total Cov...               352    352   \n",
       "All Employees: Total Nonfarm,Monthly,Seasonally...               348     29   \n",
       "...                                                              ...    ...   \n",
       "Consumer Price Index for All Urban Consumers: G...                 1      0   \n",
       "Consumer Price Index for All Urban Consumers: G...                 1      1   \n",
       "Consumer Price Index for All Urban Consumers: G...                 1      0   \n",
       "All Employees: Professional and Business Servic...                 1      0   \n",
       "90% Confidence Interval Lower Bound of Estimate...                 1      1   \n",
       "\n",
       "                                                    place_title  state  msa  \n",
       "series                                                                       \n",
       "All-Transactions House Price Index,Quarterly,No...          397    397  397  \n",
       "Implicit Regional Price Deflator,Annual,Not Sea...          381    381  381  \n",
       "Average Weekly Wages for Employees in Total Cov...          352    352  352  \n",
       "Average Weekly Wages for Employees in Total Cov...          352    352  352  \n",
       "All Employees: Total Nonfarm,Monthly,Seasonally...          348    348  348  \n",
       "...                                                         ...    ...  ...  \n",
       "Consumer Price Index for All Urban Consumers: G...            1      1    1  \n",
       "Consumer Price Index for All Urban Consumers: G...            1      1    1  \n",
       "Consumer Price Index for All Urban Consumers: G...            1      1    1  \n",
       "All Employees: Professional and Business Servic...            1      1    1  \n",
       "90% Confidence Interval Lower Bound of Estimate...            1      1    1  \n",
       "\n",
       "[1354 rows x 20 columns]"
      ]
     },
     "execution_count": 13,
     "metadata": {},
     "output_type": "execute_result"
    }
   ],
   "source": [
    "msa_series_groupby = msa_series.groupby(['series']).count().sort_values(['title'],ascending=False) \n",
    "msa_series_groupby"
   ]
  },
  {
   "cell_type": "code",
   "execution_count": 14,
   "metadata": {
    "scrolled": false
   },
   "outputs": [
    {
     "name": "stdout",
     "output_type": "stream",
     "text": [
      "total series to search: 111\n",
      "\n",
      "Index(['All-Transactions House Price Index,Quarterly,Not Seasonally Adjusted,Index 1995:Q1=100',\n",
      "       'Implicit Regional Price Deflator,Annual,Not Seasonally Adjusted,US PCE Index 2012=100',\n",
      "       'Average Weekly Wages for Employees in Total Covered Establishments,Quarterly,Seasonally Adjusted,Dollars per Week',\n",
      "       'Average Weekly Wages for Employees in Total Covered Establishments,Quarterly,Not Seasonally Adjusted,Dollars per Week',\n",
      "       'All Employees: Total Nonfarm,Monthly,Seasonally Adjusted,Thousands of Persons',\n",
      "       'Per Capita Personal Income,Annual,Not Seasonally Adjusted,Dollars',\n",
      "       'All Employees: Leisure and Hospitality,Monthly,Not Seasonally Adjusted,Thousands of Persons',\n",
      "       'All Employees: Leisure and Hospitality,Monthly,Seasonally Adjusted,Thousands of Persons',\n",
      "       'All Employees: Mining, Logging, and Construction,Monthly,Not Seasonally Adjusted,Thousands of Persons',\n",
      "       'Average Weekly Wages for Employees in State Government Establishments,Quarterly,Not Seasonally Adjusted,Dollars per Week',\n",
      "       ...\n",
      "       'All Employees: Education and Health Services,Annual,Not Seasonally Adjusted,Thousands of Persons',\n",
      "       'All Employees: Federal Government,Annual,Not Seasonally Adjusted,Thousands of Persons',\n",
      "       'All Employees: Financial Activities,Annual,Not Seasonally Adjusted,Thousands of Persons',\n",
      "       'All Employees: Information,Annual,Not Seasonally Adjusted,Thousands of Persons',\n",
      "       'All Employees: Wholesale Trade,Annual,Not Seasonally Adjusted,Thousands of Persons',\n",
      "       'All Employees: Wholesale Trade,Monthly,Not Seasonally Adjusted,Thousands of Persons',\n",
      "       'All Employees: Other Services,Annual,Not Seasonally Adjusted,Thousands of Persons',\n",
      "       'All Employees: Wholesale Trade,Monthly,Seasonally Adjusted,Thousands of Persons',\n",
      "       'New Private Housing Units Authorized by Building Permits: 1-Unit Structures,Monthly,Not Seasonally Adjusted,Units',\n",
      "       'New Private Housing Units Authorized by Building Permits: 1-Unit Structures,Monthly,Seasonally Adjusted,Units'],\n",
      "      dtype='object', name='series', length=111)\n"
     ]
    }
   ],
   "source": [
    "series_to_search = msa_series_groupby[['id']][msa_series_groupby>100].dropna(axis='rows')\n",
    "print(f'total series to search: {len(series_to_search.index)}\\n')\n",
    "print(series_to_search.index)"
   ]
  },
  {
   "cell_type": "code",
   "execution_count": 15,
   "metadata": {},
   "outputs": [],
   "source": [
    "#get all relevant series ids\n",
    "search_ids = []\n",
    "for row in msa_series.index:\n",
    "    if msa_series['series'][row] in list(series_to_search.index):\n",
    "        search_ids.append(msa_series['id'][row])"
   ]
  },
  {
   "cell_type": "code",
   "execution_count": 16,
   "metadata": {},
   "outputs": [
    {
     "data": {
      "text/plain": [
       "26237"
      ]
     },
     "execution_count": 16,
     "metadata": {},
     "output_type": "execute_result"
    }
   ],
   "source": [
    "len(search_ids)"
   ]
  },
  {
   "cell_type": "code",
   "execution_count": 17,
   "metadata": {},
   "outputs": [],
   "source": [
    "#save metadata\n",
    "base_dir = 'fred_datasets'\n",
    "if not os.path.exists(base_dir):\n",
    "    os.mkdir(base_dir)\n",
    "df_to_download = msa_series.loc[msa_series['id'].isin(search_ids)]\n",
    "\n",
    "\n",
    "df.to_csv(os.path.join(base_dir, 'total_metadata.csv'), index=False)\n",
    "df_to_download.to_csv(os.path.join(base_dir, 'relevant_metadata.csv'), index=False)"
   ]
  },
  {
   "cell_type": "code",
   "execution_count": 18,
   "metadata": {},
   "outputs": [],
   "source": [
    "#separate ids by series\n",
    "series_ids = {}\n",
    "for series in series_to_search.index:\n",
    "    series_datas = df_to_download.loc[df_to_download['series']==series]\n",
    "    ids_list = list(series_datas['id'])\n",
    "    series_ids[series] = np.unique(ids_list)\n"
   ]
  },
  {
   "cell_type": "markdown",
   "metadata": {},
   "source": [
    "# download the relevant series"
   ]
  },
  {
   "cell_type": "code",
   "execution_count": 19,
   "metadata": {
    "scrolled": true
   },
   "outputs": [],
   "source": [
    "def download_series(series_name):\n",
    "    \n",
    "    if os.path.exists(os.path.join(base_dir, f'{series_name}_data.csv')):\n",
    "        return 'exists'\n",
    "    \n",
    "    print(f\"now downloading: {series_name}\")\n",
    "    ids = series_ids[series_name]\n",
    "    i=0\n",
    "    id_count = 0\n",
    "    final_df = pd.DataFrame()\n",
    "    for current_id in tqdm(ids):\n",
    "        try:\n",
    "            info = fred.get_series(current_id)\n",
    "        except:\n",
    "            print(f'problem in time series: {current_id}')\n",
    "            continue\n",
    "             \n",
    "        data = pd.DataFrame(info,columns=[series_name]).reset_index()\n",
    "        data = data.rename({'index':'Date'}, axis=1)\n",
    "        data.insert(0,\"State\",df_to_download.loc[df_to_download['id']==current_id]['state'].item())\n",
    "        data.insert(1,\"MSA\",df_to_download.loc[df_to_download['id']==current_id]['msa'].item())\n",
    "        freq = df_to_download.loc[df_to_download['id']==current_id]['frequency_short'].item()\n",
    "        if freq =='M':\n",
    "            data[f'{series_name}_1_Month_change'] = pd.DataFrame(data[series_name]).pct_change(periods=1, limit=None, freq=None)\n",
    "            data[f'{series_name}_1_Year_change'] = pd.DataFrame(data[series_name]).pct_change(periods=12, limit=None, freq=None)\n",
    "        elif freq =='A':\n",
    "            data[f'{series_name}_1_Year_change'] = pd.DataFrame(data[series_name]).pct_change(periods=1, limit=None, freq=None)\n",
    "        elif freq =='Q':\n",
    "            data[f'{series_name}_1_Quarter_change'] = pd.DataFrame(data[series_name]).pct_change(periods=1, limit=None, freq=None)\n",
    "            data[f'{series_name}_1_Year_change'] = pd.DataFrame(data[series_name]).pct_change(periods=4, limit=None, freq=None)  \n",
    "        data['Short_date'] = [f'{x.year}-{x.month}' for x in data['Date']]\n",
    "        \n",
    "        if i==1:\n",
    "            final_df = pd.concat([final_df, data], ignore_index=True)\n",
    "        else:\n",
    "            final_df = data\n",
    "            i=1\n",
    "        \n",
    "        if len(data)>0:\n",
    "            id_count+=1\n",
    "    \n",
    "    if len(final_df)==0:\n",
    "        return('error')\n",
    "    \n",
    "    final_df = final_df.reset_index()\n",
    "    final_df = final_df.drop('index',axis='columns')\n",
    "    final_df.to_csv(os.path.join(base_dir, f'{series_name}_data.csv'), index=False)    \n",
    "    print(f\"{id_count} ids were found in this series\")\n",
    "    return 'ok'\n"
   ]
  },
  {
   "cell_type": "code",
   "execution_count": 20,
   "metadata": {},
   "outputs": [
    {
     "name": "stderr",
     "output_type": "stream",
     "text": [
      "\r",
      "  0%|          | 0/397 [00:00<?, ?it/s]"
     ]
    },
    {
     "name": "stdout",
     "output_type": "stream",
     "text": [
      "downloading 111 series \n",
      "\n",
      "now downloading: All-Transactions House Price Index,Quarterly,Not Seasonally Adjusted,Index 1995:Q1=100\n"
     ]
    },
    {
     "name": "stderr",
     "output_type": "stream",
     "text": [
      "100%|██████████| 397/397 [05:15<00:00,  1.26it/s]\n"
     ]
    },
    {
     "name": "stdout",
     "output_type": "stream",
     "text": [
      "397 ids were found in this series\n",
      "downloaded 1 series out of 111\n"
     ]
    },
    {
     "name": "stderr",
     "output_type": "stream",
     "text": [
      "\r",
      "  0%|          | 0/381 [00:00<?, ?it/s]"
     ]
    },
    {
     "name": "stdout",
     "output_type": "stream",
     "text": [
      "now downloading: Implicit Regional Price Deflator,Annual,Not Seasonally Adjusted,US PCE Index 2012=100\n"
     ]
    },
    {
     "name": "stderr",
     "output_type": "stream",
     "text": [
      "  7%|▋         | 25/381 [00:36<38:52,  6.55s/it]"
     ]
    },
    {
     "name": "stdout",
     "output_type": "stream",
     "text": [
      "problem in time series: IRPD12620\n"
     ]
    },
    {
     "name": "stderr",
     "output_type": "stream",
     "text": [
      "100%|██████████| 381/381 [05:02<00:00,  1.26it/s]\n"
     ]
    },
    {
     "name": "stdout",
     "output_type": "stream",
     "text": [
      "380 ids were found in this series\n",
      "downloaded 2 series out of 111\n"
     ]
    },
    {
     "name": "stderr",
     "output_type": "stream",
     "text": [
      "\r",
      "  0%|          | 0/352 [00:00<?, ?it/s]"
     ]
    },
    {
     "name": "stdout",
     "output_type": "stream",
     "text": [
      "now downloading: Average Weekly Wages for Employees in Total Covered Establishments,Quarterly,Seasonally Adjusted,Dollars per Week\n"
     ]
    },
    {
     "name": "stderr",
     "output_type": "stream",
     "text": [
      "100%|██████████| 352/352 [04:37<00:00,  1.27it/s]\n"
     ]
    },
    {
     "name": "stdout",
     "output_type": "stream",
     "text": [
      "352 ids were found in this series\n",
      "downloaded 3 series out of 111\n"
     ]
    },
    {
     "name": "stderr",
     "output_type": "stream",
     "text": [
      "\r",
      "  0%|          | 0/352 [00:00<?, ?it/s]"
     ]
    },
    {
     "name": "stdout",
     "output_type": "stream",
     "text": [
      "now downloading: Average Weekly Wages for Employees in Total Covered Establishments,Quarterly,Not Seasonally Adjusted,Dollars per Week\n"
     ]
    },
    {
     "name": "stderr",
     "output_type": "stream",
     "text": [
      "100%|██████████| 352/352 [05:29<00:00,  1.07it/s]\n"
     ]
    },
    {
     "name": "stdout",
     "output_type": "stream",
     "text": [
      "352 ids were found in this series\n",
      "downloaded 4 series out of 111\n"
     ]
    },
    {
     "name": "stderr",
     "output_type": "stream",
     "text": [
      "\r",
      "  0%|          | 0/348 [00:00<?, ?it/s]"
     ]
    },
    {
     "name": "stdout",
     "output_type": "stream",
     "text": [
      "now downloading: All Employees: Total Nonfarm,Monthly,Seasonally Adjusted,Thousands of Persons\n"
     ]
    },
    {
     "name": "stderr",
     "output_type": "stream",
     "text": [
      "100%|██████████| 348/348 [05:22<00:00,  1.08it/s]\n"
     ]
    },
    {
     "name": "stdout",
     "output_type": "stream",
     "text": [
      "348 ids were found in this series\n",
      "downloaded 5 series out of 111\n"
     ]
    },
    {
     "name": "stderr",
     "output_type": "stream",
     "text": [
      "\r",
      "  0%|          | 0/327 [00:00<?, ?it/s]"
     ]
    },
    {
     "name": "stdout",
     "output_type": "stream",
     "text": [
      "now downloading: Per Capita Personal Income,Annual,Not Seasonally Adjusted,Dollars\n"
     ]
    },
    {
     "name": "stderr",
     "output_type": "stream",
     "text": [
      "100%|██████████| 327/327 [04:08<00:00,  1.32it/s]\n"
     ]
    },
    {
     "name": "stdout",
     "output_type": "stream",
     "text": [
      "327 ids were found in this series\n",
      "downloaded 6 series out of 111\n"
     ]
    },
    {
     "name": "stderr",
     "output_type": "stream",
     "text": [
      "\r",
      "  0%|          | 0/317 [00:00<?, ?it/s]"
     ]
    },
    {
     "name": "stdout",
     "output_type": "stream",
     "text": [
      "now downloading: All Employees: Leisure and Hospitality,Monthly,Not Seasonally Adjusted,Thousands of Persons\n"
     ]
    },
    {
     "name": "stderr",
     "output_type": "stream",
     "text": [
      "100%|██████████| 317/317 [05:00<00:00,  1.05it/s]\n"
     ]
    },
    {
     "name": "stdout",
     "output_type": "stream",
     "text": [
      "317 ids were found in this series\n",
      "downloaded 7 series out of 111\n"
     ]
    },
    {
     "name": "stderr",
     "output_type": "stream",
     "text": [
      "\r",
      "  0%|          | 0/317 [00:00<?, ?it/s]"
     ]
    },
    {
     "name": "stdout",
     "output_type": "stream",
     "text": [
      "now downloading: All Employees: Leisure and Hospitality,Monthly,Seasonally Adjusted,Thousands of Persons\n"
     ]
    },
    {
     "name": "stderr",
     "output_type": "stream",
     "text": [
      "100%|██████████| 317/317 [05:30<00:00,  1.04s/it]\n"
     ]
    },
    {
     "name": "stdout",
     "output_type": "stream",
     "text": [
      "317 ids were found in this series\n",
      "downloaded 8 series out of 111\n"
     ]
    },
    {
     "name": "stderr",
     "output_type": "stream",
     "text": [
      "\r",
      "  0%|          | 0/312 [00:00<?, ?it/s]"
     ]
    },
    {
     "name": "stdout",
     "output_type": "stream",
     "text": [
      "now downloading: All Employees: Mining, Logging, and Construction,Monthly,Not Seasonally Adjusted,Thousands of Persons\n"
     ]
    },
    {
     "name": "stderr",
     "output_type": "stream",
     "text": [
      "100%|██████████| 312/312 [04:25<00:00,  1.17it/s]\n"
     ]
    },
    {
     "name": "stdout",
     "output_type": "stream",
     "text": [
      "312 ids were found in this series\n",
      "downloaded 9 series out of 111\n"
     ]
    },
    {
     "name": "stderr",
     "output_type": "stream",
     "text": [
      "\r",
      "  0%|          | 0/311 [00:00<?, ?it/s]"
     ]
    },
    {
     "name": "stdout",
     "output_type": "stream",
     "text": [
      "now downloading: Average Weekly Wages for Employees in State Government Establishments,Quarterly,Not Seasonally Adjusted,Dollars per Week\n"
     ]
    },
    {
     "name": "stderr",
     "output_type": "stream",
     "text": [
      "100%|██████████| 311/311 [04:24<00:00,  1.17it/s]\n"
     ]
    },
    {
     "name": "stdout",
     "output_type": "stream",
     "text": [
      "311 ids were found in this series\n",
      "downloaded 10 series out of 111\n"
     ]
    },
    {
     "name": "stderr",
     "output_type": "stream",
     "text": [
      "\r",
      "  0%|          | 0/308 [00:00<?, ?it/s]"
     ]
    },
    {
     "name": "stdout",
     "output_type": "stream",
     "text": [
      "now downloading: Average Weekly Wages for Employees in Local Government Establishments,Quarterly,Not Seasonally Adjusted,Dollars per Week\n"
     ]
    },
    {
     "name": "stderr",
     "output_type": "stream",
     "text": [
      "100%|██████████| 308/308 [04:13<00:00,  1.21it/s]\n"
     ]
    },
    {
     "name": "stdout",
     "output_type": "stream",
     "text": [
      "308 ids were found in this series\n",
      "downloaded 11 series out of 111\n"
     ]
    },
    {
     "name": "stderr",
     "output_type": "stream",
     "text": [
      "\r",
      "  0%|          | 0/307 [00:00<?, ?it/s]"
     ]
    },
    {
     "name": "stdout",
     "output_type": "stream",
     "text": [
      "now downloading: All Employees: Mining, Logging, and Construction,Monthly,Seasonally Adjusted,Thousands of Persons\n"
     ]
    },
    {
     "name": "stderr",
     "output_type": "stream",
     "text": [
      "100%|██████████| 307/307 [04:46<00:00,  1.07it/s]\n"
     ]
    },
    {
     "name": "stdout",
     "output_type": "stream",
     "text": [
      "307 ids were found in this series\n",
      "downloaded 12 series out of 111\n"
     ]
    },
    {
     "name": "stderr",
     "output_type": "stream",
     "text": [
      "\r",
      "  0%|          | 0/304 [00:00<?, ?it/s]"
     ]
    },
    {
     "name": "stdout",
     "output_type": "stream",
     "text": [
      "now downloading: All Employees: Total Nonfarm,Monthly,Not Seasonally Adjusted,Thousands of Persons\n"
     ]
    },
    {
     "name": "stderr",
     "output_type": "stream",
     "text": [
      "100%|██████████| 304/304 [04:36<00:00,  1.10it/s]\n"
     ]
    },
    {
     "name": "stdout",
     "output_type": "stream",
     "text": [
      "304 ids were found in this series\n",
      "downloaded 13 series out of 111\n"
     ]
    },
    {
     "name": "stderr",
     "output_type": "stream",
     "text": [
      "\r",
      "  0%|          | 0/303 [00:00<?, ?it/s]"
     ]
    },
    {
     "name": "stdout",
     "output_type": "stream",
     "text": [
      "now downloading: Average Weekly Wages for Employees in State Government Establishments,Quarterly,Seasonally Adjusted,Dollars per Week\n"
     ]
    },
    {
     "name": "stderr",
     "output_type": "stream",
     "text": [
      "100%|██████████| 303/303 [03:59<00:00,  1.26it/s]\n"
     ]
    },
    {
     "name": "stdout",
     "output_type": "stream",
     "text": [
      "303 ids were found in this series\n",
      "downloaded 14 series out of 111\n"
     ]
    },
    {
     "name": "stderr",
     "output_type": "stream",
     "text": [
      "\r",
      "  0%|          | 0/301 [00:00<?, ?it/s]"
     ]
    },
    {
     "name": "stdout",
     "output_type": "stream",
     "text": [
      "now downloading: Average Weekly Wages for Employees in Local Government Establishments,Quarterly,Seasonally Adjusted,Dollars per Week\n"
     ]
    },
    {
     "name": "stderr",
     "output_type": "stream",
     "text": [
      "100%|██████████| 301/301 [04:13<00:00,  1.19it/s]\n"
     ]
    },
    {
     "name": "stdout",
     "output_type": "stream",
     "text": [
      "301 ids were found in this series\n",
      "downloaded 15 series out of 111\n"
     ]
    },
    {
     "name": "stderr",
     "output_type": "stream",
     "text": [
      "\r",
      "  0%|          | 0/300 [00:00<?, ?it/s]"
     ]
    },
    {
     "name": "stdout",
     "output_type": "stream",
     "text": [
      "now downloading: All Employees: Total Nonfarm,Monthly,Seasonally Adjusted,3-Month Average Change, Thousands of Persons\n"
     ]
    },
    {
     "name": "stderr",
     "output_type": "stream",
     "text": [
      "100%|██████████| 300/300 [04:57<00:00,  1.01it/s]\n"
     ]
    },
    {
     "name": "stdout",
     "output_type": "stream",
     "text": [
      "300 ids were found in this series\n",
      "downloaded 16 series out of 111\n"
     ]
    },
    {
     "name": "stderr",
     "output_type": "stream",
     "text": [
      "\r",
      "  0%|          | 0/274 [00:00<?, ?it/s]"
     ]
    },
    {
     "name": "stdout",
     "output_type": "stream",
     "text": [
      "now downloading: All Employees: Government,Monthly,Seasonally Adjusted,Thousands of Persons\n"
     ]
    },
    {
     "name": "stderr",
     "output_type": "stream",
     "text": [
      "100%|██████████| 274/274 [04:37<00:00,  1.01s/it]\n"
     ]
    },
    {
     "name": "stdout",
     "output_type": "stream",
     "text": [
      "274 ids were found in this series\n",
      "downloaded 17 series out of 111\n"
     ]
    },
    {
     "name": "stderr",
     "output_type": "stream",
     "text": [
      "\r",
      "  0%|          | 0/269 [00:00<?, ?it/s]"
     ]
    },
    {
     "name": "stdout",
     "output_type": "stream",
     "text": [
      "now downloading: All Employees: Government,Monthly,Not Seasonally Adjusted,Thousands of Persons\n"
     ]
    },
    {
     "name": "stderr",
     "output_type": "stream",
     "text": [
      "  8%|▊         | 22/269 [00:37<27:27,  6.67s/it]"
     ]
    },
    {
     "name": "stdout",
     "output_type": "stream",
     "text": [
      "problem in time series: BAKE506GOVTN\n"
     ]
    },
    {
     "name": "stderr",
     "output_type": "stream",
     "text": [
      "100%|██████████| 269/269 [04:21<00:00,  1.03it/s]\n"
     ]
    },
    {
     "name": "stdout",
     "output_type": "stream",
     "text": [
      "268 ids were found in this series\n",
      "downloaded 18 series out of 111\n"
     ]
    },
    {
     "name": "stderr",
     "output_type": "stream",
     "text": [
      "\r",
      "  0%|          | 0/269 [00:00<?, ?it/s]"
     ]
    },
    {
     "name": "stdout",
     "output_type": "stream",
     "text": [
      "now downloading: Civilian Labor Force,Monthly,Not Seasonally Adjusted,Persons\n"
     ]
    },
    {
     "name": "stderr",
     "output_type": "stream",
     "text": [
      "100%|██████████| 269/269 [04:10<00:00,  1.07it/s]\n"
     ]
    },
    {
     "name": "stdout",
     "output_type": "stream",
     "text": [
      "269 ids were found in this series\n",
      "downloaded 19 series out of 111\n"
     ]
    },
    {
     "name": "stderr",
     "output_type": "stream",
     "text": [
      "\r",
      "  0%|          | 0/266 [00:00<?, ?it/s]"
     ]
    },
    {
     "name": "stdout",
     "output_type": "stream",
     "text": [
      "now downloading: Resident Population,Annual,Not Seasonally Adjusted,Thousands of Persons\n"
     ]
    },
    {
     "name": "stderr",
     "output_type": "stream",
     "text": [
      "100%|██████████| 266/266 [03:14<00:00,  1.37it/s]\n"
     ]
    },
    {
     "name": "stdout",
     "output_type": "stream",
     "text": [
      "266 ids were found in this series\n",
      "downloaded 20 series out of 111\n"
     ]
    },
    {
     "name": "stderr",
     "output_type": "stream",
     "text": [
      "\r",
      "  0%|          | 0/265 [00:00<?, ?it/s]"
     ]
    },
    {
     "name": "stdout",
     "output_type": "stream",
     "text": [
      "now downloading: All Employees: Trade, Transportation, and Utilities,Monthly,Seasonally Adjusted,Thousands of Persons\n"
     ]
    },
    {
     "name": "stderr",
     "output_type": "stream",
     "text": [
      "100%|██████████| 265/265 [04:21<00:00,  1.01it/s]\n"
     ]
    },
    {
     "name": "stdout",
     "output_type": "stream",
     "text": [
      "265 ids were found in this series\n",
      "downloaded 21 series out of 111\n"
     ]
    },
    {
     "name": "stderr",
     "output_type": "stream",
     "text": [
      "\r",
      "  0%|          | 0/265 [00:00<?, ?it/s]"
     ]
    },
    {
     "name": "stdout",
     "output_type": "stream",
     "text": [
      "now downloading: All Employees: Trade, Transportation, and Utilities,Monthly,Not Seasonally Adjusted,Thousands of Persons\n"
     ]
    },
    {
     "name": "stderr",
     "output_type": "stream",
     "text": [
      "100%|██████████| 265/265 [03:50<00:00,  1.15it/s]\n"
     ]
    },
    {
     "name": "stdout",
     "output_type": "stream",
     "text": [
      "265 ids were found in this series\n",
      "downloaded 22 series out of 111\n"
     ]
    },
    {
     "name": "stderr",
     "output_type": "stream",
     "text": [
      "\r",
      "  0%|          | 0/264 [00:00<?, ?it/s]"
     ]
    },
    {
     "name": "stdout",
     "output_type": "stream",
     "text": [
      "now downloading: Unemployment Rate,Annual,Not Seasonally Adjusted,Percent\n"
     ]
    },
    {
     "name": "stderr",
     "output_type": "stream",
     "text": [
      "100%|██████████| 264/264 [03:22<00:00,  1.30it/s]\n"
     ]
    },
    {
     "name": "stdout",
     "output_type": "stream",
     "text": [
      "264 ids were found in this series\n",
      "downloaded 23 series out of 111\n"
     ]
    },
    {
     "name": "stderr",
     "output_type": "stream",
     "text": [
      "\r",
      "  0%|          | 0/264 [00:00<?, ?it/s]"
     ]
    },
    {
     "name": "stdout",
     "output_type": "stream",
     "text": [
      "now downloading: Unemployed Persons,Monthly,Not Seasonally Adjusted,Persons\n"
     ]
    },
    {
     "name": "stderr",
     "output_type": "stream",
     "text": [
      " 39%|███▊      | 102/264 [06:28<4:08:51, 92.17s/it]"
     ]
    },
    {
     "name": "stdout",
     "output_type": "stream",
     "text": [
      "problem in time series: LAUMT213114000000004\n"
     ]
    },
    {
     "name": "stderr",
     "output_type": "stream",
     "text": [
      "100%|██████████| 264/264 [08:52<00:00,  2.02s/it]  \n"
     ]
    },
    {
     "name": "stdout",
     "output_type": "stream",
     "text": [
      "263 ids were found in this series\n",
      "downloaded 24 series out of 111\n"
     ]
    },
    {
     "name": "stderr",
     "output_type": "stream",
     "text": [
      "\r",
      "  0%|          | 0/264 [00:00<?, ?it/s]"
     ]
    },
    {
     "name": "stdout",
     "output_type": "stream",
     "text": [
      "now downloading: Employed Persons,Monthly,Not Seasonally Adjusted,Persons\n"
     ]
    },
    {
     "name": "stderr",
     "output_type": "stream",
     "text": [
      "100%|██████████| 264/264 [03:51<00:00,  1.14it/s]\n"
     ]
    },
    {
     "name": "stdout",
     "output_type": "stream",
     "text": [
      "264 ids were found in this series\n",
      "downloaded 25 series out of 111\n"
     ]
    },
    {
     "name": "stderr",
     "output_type": "stream",
     "text": [
      "\r",
      "  0%|          | 0/264 [00:00<?, ?it/s]"
     ]
    },
    {
     "name": "stdout",
     "output_type": "stream",
     "text": [
      "now downloading: Unemployed Persons,Annual,Not Seasonally Adjusted,Persons\n"
     ]
    },
    {
     "name": "stderr",
     "output_type": "stream",
     "text": [
      "100%|██████████| 264/264 [03:31<00:00,  1.25it/s]\n"
     ]
    },
    {
     "name": "stdout",
     "output_type": "stream",
     "text": [
      "264 ids were found in this series\n",
      "downloaded 26 series out of 111\n"
     ]
    },
    {
     "name": "stderr",
     "output_type": "stream",
     "text": [
      "\r",
      "  0%|          | 0/263 [00:00<?, ?it/s]"
     ]
    },
    {
     "name": "stdout",
     "output_type": "stream",
     "text": [
      "now downloading: Civilian Labor Force,Annual,Not Seasonally Adjusted,Persons\n"
     ]
    },
    {
     "name": "stderr",
     "output_type": "stream",
     "text": [
      "100%|██████████| 263/263 [03:39<00:00,  1.20it/s]\n"
     ]
    },
    {
     "name": "stdout",
     "output_type": "stream",
     "text": [
      "263 ids were found in this series\n",
      "downloaded 27 series out of 111\n"
     ]
    },
    {
     "name": "stderr",
     "output_type": "stream",
     "text": [
      "\r",
      "  0%|          | 0/263 [00:00<?, ?it/s]"
     ]
    },
    {
     "name": "stdout",
     "output_type": "stream",
     "text": [
      "now downloading: Employed Persons,Annual,Not Seasonally Adjusted,Persons\n"
     ]
    },
    {
     "name": "stderr",
     "output_type": "stream",
     "text": [
      "100%|██████████| 263/263 [03:28<00:00,  1.26it/s]\n"
     ]
    },
    {
     "name": "stdout",
     "output_type": "stream",
     "text": [
      "263 ids were found in this series\n",
      "downloaded 28 series out of 111\n"
     ]
    },
    {
     "name": "stderr",
     "output_type": "stream",
     "text": [
      "\r",
      "  0%|          | 0/260 [00:00<?, ?it/s]"
     ]
    },
    {
     "name": "stdout",
     "output_type": "stream",
     "text": [
      "now downloading: Unemployment Rate,Monthly,Not Seasonally Adjusted,Percent\n"
     ]
    },
    {
     "name": "stderr",
     "output_type": "stream",
     "text": [
      "100%|██████████| 260/260 [03:40<00:00,  1.18it/s]\n"
     ]
    },
    {
     "name": "stdout",
     "output_type": "stream",
     "text": [
      "260 ids were found in this series\n",
      "downloaded 29 series out of 111\n"
     ]
    },
    {
     "name": "stderr",
     "output_type": "stream",
     "text": [
      "\r",
      "  0%|          | 0/259 [00:00<?, ?it/s]"
     ]
    },
    {
     "name": "stdout",
     "output_type": "stream",
     "text": [
      "now downloading: Civilian Labor Force,Monthly,Smoothed Seasonally Adjusted,Persons\n"
     ]
    },
    {
     "name": "stderr",
     "output_type": "stream",
     "text": [
      "100%|██████████| 259/259 [03:54<00:00,  1.10it/s]\n"
     ]
    },
    {
     "name": "stdout",
     "output_type": "stream",
     "text": [
      "259 ids were found in this series\n",
      "downloaded 30 series out of 111\n"
     ]
    },
    {
     "name": "stderr",
     "output_type": "stream",
     "text": [
      "\r",
      "  0%|          | 0/255 [00:00<?, ?it/s]"
     ]
    },
    {
     "name": "stdout",
     "output_type": "stream",
     "text": [
      "now downloading: All Employees: Mining, Logging, and Construction,Annual,Not Seasonally Adjusted,Thousands of Persons\n"
     ]
    },
    {
     "name": "stderr",
     "output_type": "stream",
     "text": [
      "100%|██████████| 255/255 [03:16<00:00,  1.30it/s]\n"
     ]
    },
    {
     "name": "stdout",
     "output_type": "stream",
     "text": [
      "255 ids were found in this series\n",
      "downloaded 31 series out of 111\n"
     ]
    },
    {
     "name": "stderr",
     "output_type": "stream",
     "text": [
      "\r",
      "  0%|          | 0/251 [00:00<?, ?it/s]"
     ]
    },
    {
     "name": "stdout",
     "output_type": "stream",
     "text": [
      "now downloading: Unemployment Rate,Monthly,Smoothed Seasonally Adjusted,Percent\n"
     ]
    },
    {
     "name": "stderr",
     "output_type": "stream",
     "text": [
      "100%|██████████| 251/251 [03:39<00:00,  1.14it/s]\n"
     ]
    },
    {
     "name": "stdout",
     "output_type": "stream",
     "text": [
      "251 ids were found in this series\n",
      "downloaded 32 series out of 111\n"
     ]
    },
    {
     "name": "stderr",
     "output_type": "stream",
     "text": [
      "\r",
      "  0%|          | 0/250 [00:00<?, ?it/s]"
     ]
    },
    {
     "name": "stdout",
     "output_type": "stream",
     "text": [
      "now downloading: Total Quarterly Wages,Quarterly,Not Seasonally Adjusted,Dollars\n"
     ]
    },
    {
     "name": "stderr",
     "output_type": "stream",
     "text": [
      "100%|██████████| 250/250 [03:24<00:00,  1.22it/s]\n"
     ]
    },
    {
     "name": "stdout",
     "output_type": "stream",
     "text": [
      "250 ids were found in this series\n",
      "downloaded 33 series out of 111\n"
     ]
    },
    {
     "name": "stderr",
     "output_type": "stream",
     "text": [
      "\r",
      "  0%|          | 0/250 [00:00<?, ?it/s]"
     ]
    },
    {
     "name": "stdout",
     "output_type": "stream",
     "text": [
      "now downloading: Total Quarterly Wages,Quarterly,Seasonally Adjusted,Dollars\n"
     ]
    },
    {
     "name": "stderr",
     "output_type": "stream",
     "text": [
      "100%|██████████| 250/250 [03:17<00:00,  1.26it/s]\n"
     ]
    },
    {
     "name": "stdout",
     "output_type": "stream",
     "text": [
      "250 ids were found in this series\n",
      "downloaded 34 series out of 111\n"
     ]
    },
    {
     "name": "stderr",
     "output_type": "stream",
     "text": [
      "\r",
      "  0%|          | 0/250 [00:00<?, ?it/s]"
     ]
    },
    {
     "name": "stdout",
     "output_type": "stream",
     "text": [
      "now downloading: Average Weekly Wages for Employees in Federal Government Establishments,Quarterly,Not Seasonally Adjusted,Dollars per Week\n"
     ]
    },
    {
     "name": "stderr",
     "output_type": "stream",
     "text": [
      "100%|██████████| 250/250 [03:30<00:00,  1.19it/s]\n"
     ]
    },
    {
     "name": "stdout",
     "output_type": "stream",
     "text": [
      "250 ids were found in this series\n",
      "downloaded 35 series out of 111\n"
     ]
    },
    {
     "name": "stderr",
     "output_type": "stream",
     "text": [
      "\r",
      "  0%|          | 0/249 [00:00<?, ?it/s]"
     ]
    },
    {
     "name": "stdout",
     "output_type": "stream",
     "text": [
      "now downloading: Average Weekly Wages for Employees in Federal Government Establishments,Quarterly,Seasonally Adjusted,Dollars per Week\n"
     ]
    },
    {
     "name": "stderr",
     "output_type": "stream",
     "text": [
      "100%|██████████| 249/249 [03:19<00:00,  1.25it/s]\n"
     ]
    },
    {
     "name": "stdout",
     "output_type": "stream",
     "text": [
      "249 ids were found in this series\n",
      "downloaded 36 series out of 111\n"
     ]
    },
    {
     "name": "stderr",
     "output_type": "stream",
     "text": [
      "\r",
      "  0%|          | 0/249 [00:00<?, ?it/s]"
     ]
    },
    {
     "name": "stdout",
     "output_type": "stream",
     "text": [
      "now downloading: All Employees: Manufacturing,Monthly,Seasonally Adjusted,Thousands of Persons\n"
     ]
    },
    {
     "name": "stderr",
     "output_type": "stream",
     "text": [
      "100%|██████████| 249/249 [03:47<00:00,  1.09it/s]\n"
     ]
    },
    {
     "name": "stdout",
     "output_type": "stream",
     "text": [
      "249 ids were found in this series\n",
      "downloaded 37 series out of 111\n"
     ]
    },
    {
     "name": "stderr",
     "output_type": "stream",
     "text": [
      "\r",
      "  0%|          | 0/248 [00:00<?, ?it/s]"
     ]
    },
    {
     "name": "stdout",
     "output_type": "stream",
     "text": [
      "now downloading: Average Weekly Wages for Employees in Private Establishments,Quarterly,Not Seasonally Adjusted,Dollars per Week\n"
     ]
    },
    {
     "name": "stderr",
     "output_type": "stream",
     "text": [
      "100%|██████████| 248/248 [03:46<00:00,  1.10it/s]\n"
     ]
    },
    {
     "name": "stdout",
     "output_type": "stream",
     "text": [
      "248 ids were found in this series\n",
      "downloaded 38 series out of 111\n"
     ]
    },
    {
     "name": "stderr",
     "output_type": "stream",
     "text": [
      "\r",
      "  0%|          | 0/248 [00:00<?, ?it/s]"
     ]
    },
    {
     "name": "stdout",
     "output_type": "stream",
     "text": [
      "now downloading: Average Weekly Wages for Employees in Private Establishments,Quarterly,Seasonally Adjusted,Dollars per Week\n"
     ]
    },
    {
     "name": "stderr",
     "output_type": "stream",
     "text": [
      "100%|██████████| 248/248 [03:00<00:00,  1.37it/s]\n"
     ]
    },
    {
     "name": "stdout",
     "output_type": "stream",
     "text": [
      "248 ids were found in this series\n",
      "downloaded 39 series out of 111\n"
     ]
    },
    {
     "name": "stderr",
     "output_type": "stream",
     "text": [
      "\r",
      "  0%|          | 0/247 [00:00<?, ?it/s]"
     ]
    },
    {
     "name": "stdout",
     "output_type": "stream",
     "text": [
      "now downloading: All Employees: Professional and Business Services,Monthly,Not Seasonally Adjusted,Thousands of Persons\n"
     ]
    },
    {
     "name": "stderr",
     "output_type": "stream",
     "text": [
      "100%|██████████| 247/247 [03:30<00:00,  1.17it/s]\n"
     ]
    },
    {
     "name": "stdout",
     "output_type": "stream",
     "text": [
      "247 ids were found in this series\n",
      "downloaded 40 series out of 111\n"
     ]
    },
    {
     "name": "stderr",
     "output_type": "stream",
     "text": [
      "\r",
      "  0%|          | 0/247 [00:00<?, ?it/s]"
     ]
    },
    {
     "name": "stdout",
     "output_type": "stream",
     "text": [
      "now downloading: All Employees: Professional and Business Services,Monthly,Seasonally Adjusted,Thousands of Persons\n"
     ]
    },
    {
     "name": "stderr",
     "output_type": "stream",
     "text": [
      "100%|██████████| 247/247 [03:49<00:00,  1.08it/s]\n"
     ]
    },
    {
     "name": "stdout",
     "output_type": "stream",
     "text": [
      "247 ids were found in this series\n",
      "downloaded 41 series out of 111\n"
     ]
    },
    {
     "name": "stderr",
     "output_type": "stream",
     "text": [
      "\r",
      "  0%|          | 0/245 [00:00<?, ?it/s]"
     ]
    },
    {
     "name": "stdout",
     "output_type": "stream",
     "text": [
      "now downloading: All Employees: Transportation and Utilities: Transportation, Warehousing, and Utilities,Monthly,Not Seasonally Adjusted,Thousands of Persons\n"
     ]
    },
    {
     "name": "stderr",
     "output_type": "stream",
     "text": [
      "100%|██████████| 245/245 [03:29<00:00,  1.17it/s]\n"
     ]
    },
    {
     "name": "stdout",
     "output_type": "stream",
     "text": [
      "245 ids were found in this series\n",
      "downloaded 42 series out of 111\n"
     ]
    },
    {
     "name": "stderr",
     "output_type": "stream",
     "text": [
      "\r",
      "  0%|          | 0/244 [00:00<?, ?it/s]"
     ]
    },
    {
     "name": "stdout",
     "output_type": "stream",
     "text": [
      "now downloading: All Employees: Transportation and Utilities: Transportation, Warehousing, and Utilities,Monthly,Seasonally Adjusted,Thousands of Persons\n"
     ]
    },
    {
     "name": "stderr",
     "output_type": "stream",
     "text": [
      "100%|██████████| 244/244 [03:54<00:00,  1.04it/s]\n"
     ]
    },
    {
     "name": "stdout",
     "output_type": "stream",
     "text": [
      "244 ids were found in this series\n",
      "downloaded 43 series out of 111\n"
     ]
    },
    {
     "name": "stderr",
     "output_type": "stream",
     "text": [
      "\r",
      "  0%|          | 0/243 [00:00<?, ?it/s]"
     ]
    },
    {
     "name": "stdout",
     "output_type": "stream",
     "text": [
      "now downloading: All Employees: Education and Health Services,Monthly,Not Seasonally Adjusted,Thousands of Persons\n"
     ]
    },
    {
     "name": "stderr",
     "output_type": "stream",
     "text": [
      "100%|██████████| 243/243 [03:28<00:00,  1.17it/s]\n"
     ]
    },
    {
     "name": "stdout",
     "output_type": "stream",
     "text": [
      "243 ids were found in this series\n",
      "downloaded 44 series out of 111\n"
     ]
    },
    {
     "name": "stderr",
     "output_type": "stream",
     "text": [
      "\r",
      "  0%|          | 0/243 [00:00<?, ?it/s]"
     ]
    },
    {
     "name": "stdout",
     "output_type": "stream",
     "text": [
      "now downloading: All Employees: Education and Health Services,Monthly,Seasonally Adjusted,Thousands of Persons\n"
     ]
    },
    {
     "name": "stderr",
     "output_type": "stream",
     "text": [
      "100%|██████████| 243/243 [03:54<00:00,  1.04it/s]\n"
     ]
    },
    {
     "name": "stdout",
     "output_type": "stream",
     "text": [
      "243 ids were found in this series\n",
      "downloaded 45 series out of 111\n"
     ]
    },
    {
     "name": "stderr",
     "output_type": "stream",
     "text": [
      "\r",
      "  0%|          | 0/243 [00:00<?, ?it/s]"
     ]
    },
    {
     "name": "stdout",
     "output_type": "stream",
     "text": [
      "now downloading: All Employees: Manufacturing,Monthly,Not Seasonally Adjusted,Thousands of Persons\n"
     ]
    },
    {
     "name": "stderr",
     "output_type": "stream",
     "text": [
      "100%|██████████| 243/243 [03:43<00:00,  1.09it/s]\n"
     ]
    },
    {
     "name": "stdout",
     "output_type": "stream",
     "text": [
      "243 ids were found in this series\n",
      "downloaded 46 series out of 111\n"
     ]
    },
    {
     "name": "stderr",
     "output_type": "stream",
     "text": [
      "\r",
      "  0%|          | 0/233 [00:00<?, ?it/s]"
     ]
    },
    {
     "name": "stdout",
     "output_type": "stream",
     "text": [
      "now downloading: Total Gross Domestic Product,Annual,Not Seasonally Adjusted,Millions of Dollars\n"
     ]
    },
    {
     "name": "stderr",
     "output_type": "stream",
     "text": [
      "100%|██████████| 233/233 [02:49<00:00,  1.38it/s]\n"
     ]
    },
    {
     "name": "stdout",
     "output_type": "stream",
     "text": [
      "233 ids were found in this series\n",
      "downloaded 47 series out of 111\n"
     ]
    },
    {
     "name": "stderr",
     "output_type": "stream",
     "text": [
      "\r",
      "  0%|          | 0/233 [00:00<?, ?it/s]"
     ]
    },
    {
     "name": "stdout",
     "output_type": "stream",
     "text": [
      "now downloading: All Employees: Information,Monthly,Not Seasonally Adjusted,Thousands of Persons\n"
     ]
    },
    {
     "name": "stderr",
     "output_type": "stream",
     "text": [
      "100%|██████████| 233/233 [03:21<00:00,  1.16it/s]\n"
     ]
    },
    {
     "name": "stdout",
     "output_type": "stream",
     "text": [
      "233 ids were found in this series\n",
      "downloaded 48 series out of 111\n"
     ]
    },
    {
     "name": "stderr",
     "output_type": "stream",
     "text": [
      "\r",
      "  0%|          | 0/232 [00:00<?, ?it/s]"
     ]
    },
    {
     "name": "stdout",
     "output_type": "stream",
     "text": [
      "now downloading: Total Per Capita Real Gross Domestic Product,Annual,Not Seasonally Adjusted,Chained 2009 Dollars\n"
     ]
    },
    {
     "name": "stderr",
     "output_type": "stream",
     "text": [
      "100%|██████████| 232/232 [03:32<00:00,  1.09it/s]\n"
     ]
    },
    {
     "name": "stdout",
     "output_type": "stream",
     "text": [
      "232 ids were found in this series\n",
      "downloaded 49 series out of 111\n"
     ]
    },
    {
     "name": "stderr",
     "output_type": "stream",
     "text": [
      "\r",
      "  0%|          | 0/232 [00:00<?, ?it/s]"
     ]
    },
    {
     "name": "stdout",
     "output_type": "stream",
     "text": [
      "now downloading: All Employees: Information,Monthly,Seasonally Adjusted,Thousands of Persons\n"
     ]
    },
    {
     "name": "stderr",
     "output_type": "stream",
     "text": [
      "100%|██████████| 232/232 [03:54<00:00,  1.01s/it]\n"
     ]
    },
    {
     "name": "stdout",
     "output_type": "stream",
     "text": [
      "232 ids were found in this series\n",
      "downloaded 50 series out of 111\n"
     ]
    },
    {
     "name": "stderr",
     "output_type": "stream",
     "text": [
      "\r",
      "  0%|          | 0/231 [00:00<?, ?it/s]"
     ]
    },
    {
     "name": "stdout",
     "output_type": "stream",
     "text": [
      "now downloading: All Employees: Financial Activities,Monthly,Seasonally Adjusted,Thousands of Persons\n"
     ]
    },
    {
     "name": "stderr",
     "output_type": "stream",
     "text": [
      "100%|██████████| 231/231 [05:06<00:00,  1.33s/it]\n"
     ]
    },
    {
     "name": "stdout",
     "output_type": "stream",
     "text": [
      "231 ids were found in this series\n",
      "downloaded 51 series out of 111\n"
     ]
    },
    {
     "name": "stderr",
     "output_type": "stream",
     "text": [
      "\r",
      "  0%|          | 0/230 [00:00<?, ?it/s]"
     ]
    },
    {
     "name": "stdout",
     "output_type": "stream",
     "text": [
      "now downloading: All Employees: Financial Activities,Monthly,Not Seasonally Adjusted,Thousands of Persons\n"
     ]
    },
    {
     "name": "stderr",
     "output_type": "stream",
     "text": [
      "100%|██████████| 230/230 [04:29<00:00,  1.17s/it]\n"
     ]
    },
    {
     "name": "stdout",
     "output_type": "stream",
     "text": [
      "230 ids were found in this series\n",
      "downloaded 52 series out of 111\n"
     ]
    },
    {
     "name": "stderr",
     "output_type": "stream",
     "text": [
      "\r",
      "  0%|          | 0/225 [00:00<?, ?it/s]"
     ]
    },
    {
     "name": "stdout",
     "output_type": "stream",
     "text": [
      "now downloading: All Employees: Other Services,Monthly,Seasonally Adjusted,Thousands of Persons\n"
     ]
    },
    {
     "name": "stderr",
     "output_type": "stream",
     "text": [
      "100%|██████████| 225/225 [05:19<00:00,  1.42s/it]\n"
     ]
    },
    {
     "name": "stdout",
     "output_type": "stream",
     "text": [
      "225 ids were found in this series\n",
      "downloaded 53 series out of 111\n"
     ]
    },
    {
     "name": "stderr",
     "output_type": "stream",
     "text": [
      "\r",
      "  0%|          | 0/223 [00:00<?, ?it/s]"
     ]
    },
    {
     "name": "stdout",
     "output_type": "stream",
     "text": [
      "now downloading: All Employees: Total Private,Monthly,Seasonally Adjusted,Thousands of Persons\n"
     ]
    },
    {
     "name": "stderr",
     "output_type": "stream",
     "text": [
      "100%|██████████| 223/223 [05:30<00:00,  1.48s/it]\n"
     ]
    },
    {
     "name": "stdout",
     "output_type": "stream",
     "text": [
      "223 ids were found in this series\n",
      "downloaded 54 series out of 111\n"
     ]
    },
    {
     "name": "stderr",
     "output_type": "stream",
     "text": [
      "\r",
      "  0%|          | 0/223 [00:00<?, ?it/s]"
     ]
    },
    {
     "name": "stdout",
     "output_type": "stream",
     "text": [
      "now downloading: All Employees: Total Private,Monthly,Not Seasonally Adjusted,Thousands of Persons\n"
     ]
    },
    {
     "name": "stderr",
     "output_type": "stream",
     "text": [
      "100%|██████████| 223/223 [05:55<00:00,  1.60s/it]\n"
     ]
    },
    {
     "name": "stdout",
     "output_type": "stream",
     "text": [
      "223 ids were found in this series\n",
      "downloaded 55 series out of 111\n"
     ]
    },
    {
     "name": "stderr",
     "output_type": "stream",
     "text": [
      "\r",
      "  0%|          | 0/223 [00:00<?, ?it/s]"
     ]
    },
    {
     "name": "stdout",
     "output_type": "stream",
     "text": [
      "now downloading: All Employees: Total Private,Annual,Not Seasonally Adjusted,Thousands of Persons\n"
     ]
    },
    {
     "name": "stderr",
     "output_type": "stream",
     "text": [
      "100%|██████████| 223/223 [05:50<00:00,  1.57s/it]\n"
     ]
    },
    {
     "name": "stdout",
     "output_type": "stream",
     "text": [
      "223 ids were found in this series\n",
      "downloaded 56 series out of 111\n"
     ]
    },
    {
     "name": "stderr",
     "output_type": "stream",
     "text": [
      "\r",
      "  0%|          | 0/223 [00:00<?, ?it/s]"
     ]
    },
    {
     "name": "stdout",
     "output_type": "stream",
     "text": [
      "now downloading: All Employees: Total Nonfarm,Annual,Not Seasonally Adjusted,Thousands of Persons\n"
     ]
    },
    {
     "name": "stderr",
     "output_type": "stream",
     "text": [
      "100%|██████████| 223/223 [06:35<00:00,  1.77s/it]\n"
     ]
    },
    {
     "name": "stdout",
     "output_type": "stream",
     "text": [
      "223 ids were found in this series\n",
      "downloaded 57 series out of 111\n"
     ]
    },
    {
     "name": "stderr",
     "output_type": "stream",
     "text": [
      "\r",
      "  0%|          | 0/222 [00:00<?, ?it/s]"
     ]
    },
    {
     "name": "stdout",
     "output_type": "stream",
     "text": [
      "now downloading: All Employees: Goods Producing,Monthly,Seasonally Adjusted,Thousands of Persons\n"
     ]
    },
    {
     "name": "stderr",
     "output_type": "stream",
     "text": [
      "100%|██████████| 222/222 [06:00<00:00,  1.62s/it]\n"
     ]
    },
    {
     "name": "stdout",
     "output_type": "stream",
     "text": [
      "222 ids were found in this series\n",
      "downloaded 58 series out of 111\n"
     ]
    },
    {
     "name": "stderr",
     "output_type": "stream",
     "text": [
      "\r",
      "  0%|          | 0/222 [00:00<?, ?it/s]"
     ]
    },
    {
     "name": "stdout",
     "output_type": "stream",
     "text": [
      "now downloading: All Employees: Goods Producing,Monthly,Not Seasonally Adjusted,Thousands of Persons\n"
     ]
    },
    {
     "name": "stderr",
     "output_type": "stream",
     "text": [
      "100%|██████████| 222/222 [05:42<00:00,  1.55s/it]\n"
     ]
    },
    {
     "name": "stdout",
     "output_type": "stream",
     "text": [
      "222 ids were found in this series\n",
      "downloaded 59 series out of 111\n"
     ]
    },
    {
     "name": "stderr",
     "output_type": "stream",
     "text": [
      "\r",
      "  0%|          | 0/222 [00:00<?, ?it/s]"
     ]
    },
    {
     "name": "stdout",
     "output_type": "stream",
     "text": [
      "now downloading: All Employees: Goods Producing,Annual,Not Seasonally Adjusted,Thousands of Persons\n"
     ]
    },
    {
     "name": "stderr",
     "output_type": "stream",
     "text": [
      "100%|██████████| 222/222 [05:04<00:00,  1.37s/it]\n"
     ]
    },
    {
     "name": "stdout",
     "output_type": "stream",
     "text": [
      "222 ids were found in this series\n",
      "downloaded 60 series out of 111\n"
     ]
    },
    {
     "name": "stderr",
     "output_type": "stream",
     "text": [
      "\r",
      "  0%|          | 0/222 [00:00<?, ?it/s]"
     ]
    },
    {
     "name": "stdout",
     "output_type": "stream",
     "text": [
      "now downloading: All Employees: Service-Providing,Annual,Not Seasonally Adjusted,Thousands of Persons\n"
     ]
    },
    {
     "name": "stderr",
     "output_type": "stream",
     "text": [
      "100%|██████████| 222/222 [05:37<00:00,  1.52s/it]\n"
     ]
    },
    {
     "name": "stdout",
     "output_type": "stream",
     "text": [
      "222 ids were found in this series\n",
      "downloaded 61 series out of 111\n"
     ]
    },
    {
     "name": "stderr",
     "output_type": "stream",
     "text": [
      "\r",
      "  0%|          | 0/222 [00:00<?, ?it/s]"
     ]
    },
    {
     "name": "stdout",
     "output_type": "stream",
     "text": [
      "now downloading: All Employees: Private Service Providing,Annual,Not Seasonally Adjusted,Thousands of Persons\n"
     ]
    },
    {
     "name": "stderr",
     "output_type": "stream",
     "text": [
      "100%|██████████| 222/222 [06:33<00:00,  1.77s/it]\n"
     ]
    },
    {
     "name": "stdout",
     "output_type": "stream",
     "text": [
      "222 ids were found in this series\n",
      "downloaded 62 series out of 111\n"
     ]
    },
    {
     "name": "stderr",
     "output_type": "stream",
     "text": [
      "\r",
      "  0%|          | 0/222 [00:00<?, ?it/s]"
     ]
    },
    {
     "name": "stdout",
     "output_type": "stream",
     "text": [
      "now downloading: All Employees: Service-Providing,Monthly,Not Seasonally Adjusted,Thousands of Persons\n"
     ]
    },
    {
     "name": "stderr",
     "output_type": "stream",
     "text": [
      "100%|██████████| 222/222 [06:21<00:00,  1.72s/it]\n"
     ]
    },
    {
     "name": "stdout",
     "output_type": "stream",
     "text": [
      "222 ids were found in this series\n",
      "downloaded 63 series out of 111\n"
     ]
    },
    {
     "name": "stderr",
     "output_type": "stream",
     "text": [
      "\r",
      "  0%|          | 0/222 [00:00<?, ?it/s]"
     ]
    },
    {
     "name": "stdout",
     "output_type": "stream",
     "text": [
      "now downloading: All Employees: Service-Providing,Monthly,Seasonally Adjusted,Thousands of Persons\n"
     ]
    },
    {
     "name": "stderr",
     "output_type": "stream",
     "text": [
      "100%|██████████| 222/222 [06:50<00:00,  1.85s/it]\n"
     ]
    },
    {
     "name": "stdout",
     "output_type": "stream",
     "text": [
      "222 ids were found in this series\n",
      "downloaded 64 series out of 111\n"
     ]
    },
    {
     "name": "stderr",
     "output_type": "stream",
     "text": [
      "\r",
      "  0%|          | 0/222 [00:00<?, ?it/s]"
     ]
    },
    {
     "name": "stdout",
     "output_type": "stream",
     "text": [
      "now downloading: All Employees: Other Services,Monthly,Not Seasonally Adjusted,Thousands of Persons\n"
     ]
    },
    {
     "name": "stderr",
     "output_type": "stream",
     "text": [
      "100%|██████████| 222/222 [05:28<00:00,  1.48s/it]\n"
     ]
    },
    {
     "name": "stdout",
     "output_type": "stream",
     "text": [
      "222 ids were found in this series\n",
      "downloaded 65 series out of 111\n"
     ]
    },
    {
     "name": "stderr",
     "output_type": "stream",
     "text": [
      "\r",
      "  0%|          | 0/222 [00:00<?, ?it/s]"
     ]
    },
    {
     "name": "stdout",
     "output_type": "stream",
     "text": [
      "now downloading: All Employees: Private Service Providing,Monthly,Seasonally Adjusted,Thousands of Persons\n"
     ]
    },
    {
     "name": "stderr",
     "output_type": "stream",
     "text": [
      "100%|██████████| 222/222 [05:48<00:00,  1.57s/it]\n"
     ]
    },
    {
     "name": "stdout",
     "output_type": "stream",
     "text": [
      "222 ids were found in this series\n",
      "downloaded 66 series out of 111\n"
     ]
    },
    {
     "name": "stderr",
     "output_type": "stream",
     "text": [
      "\r",
      "  0%|          | 0/222 [00:00<?, ?it/s]"
     ]
    },
    {
     "name": "stdout",
     "output_type": "stream",
     "text": [
      "now downloading: All Employees: Private Service Providing,Monthly,Not Seasonally Adjusted,Thousands of Persons\n"
     ]
    },
    {
     "name": "stderr",
     "output_type": "stream",
     "text": [
      "100%|██████████| 222/222 [07:03<00:00,  1.91s/it]\n"
     ]
    },
    {
     "name": "stdout",
     "output_type": "stream",
     "text": [
      "222 ids were found in this series\n",
      "downloaded 67 series out of 111\n"
     ]
    },
    {
     "name": "stderr",
     "output_type": "stream",
     "text": [
      "\r",
      "  0%|          | 0/212 [00:00<?, ?it/s]"
     ]
    },
    {
     "name": "stdout",
     "output_type": "stream",
     "text": [
      "now downloading: Total Quantity Indexes for Real GDP,Annual,Not Seasonally Adjusted,Index 2009=100\n"
     ]
    },
    {
     "name": "stderr",
     "output_type": "stream",
     "text": [
      "100%|██████████| 212/212 [03:42<00:00,  1.05s/it]\n"
     ]
    },
    {
     "name": "stdout",
     "output_type": "stream",
     "text": [
      "212 ids were found in this series\n",
      "downloaded 68 series out of 111\n"
     ]
    },
    {
     "name": "stderr",
     "output_type": "stream",
     "text": [
      "\r",
      "  0%|          | 0/211 [00:00<?, ?it/s]"
     ]
    },
    {
     "name": "stdout",
     "output_type": "stream",
     "text": [
      "now downloading: All Employees: Government,Annual,Not Seasonally Adjusted,Thousands of Persons\n"
     ]
    },
    {
     "name": "stderr",
     "output_type": "stream",
     "text": [
      "100%|██████████| 211/211 [04:10<00:00,  1.19s/it]\n"
     ]
    },
    {
     "name": "stdout",
     "output_type": "stream",
     "text": [
      "211 ids were found in this series\n",
      "downloaded 69 series out of 111\n"
     ]
    },
    {
     "name": "stderr",
     "output_type": "stream",
     "text": [
      "\r",
      "  0%|          | 0/210 [00:00<?, ?it/s]"
     ]
    },
    {
     "name": "stdout",
     "output_type": "stream",
     "text": [
      "now downloading: Average Weekly Earnings of All Employees: Total Private,Monthly,Seasonally Adjusted,Dollars per Week\n"
     ]
    },
    {
     "name": "stderr",
     "output_type": "stream",
     "text": [
      "100%|██████████| 210/210 [03:50<00:00,  1.10s/it]\n"
     ]
    },
    {
     "name": "stdout",
     "output_type": "stream",
     "text": [
      "210 ids were found in this series\n",
      "downloaded 70 series out of 111\n"
     ]
    },
    {
     "name": "stderr",
     "output_type": "stream",
     "text": [
      "\r",
      "  0%|          | 0/210 [00:00<?, ?it/s]"
     ]
    },
    {
     "name": "stdout",
     "output_type": "stream",
     "text": [
      "now downloading: Average Hourly Earnings of All Employees: Total Private,Monthly,Seasonally Adjusted,Dollars per Hour\n"
     ]
    },
    {
     "name": "stderr",
     "output_type": "stream",
     "text": [
      "100%|██████████| 210/210 [04:34<00:00,  1.30s/it]\n"
     ]
    },
    {
     "name": "stdout",
     "output_type": "stream",
     "text": [
      "210 ids were found in this series\n",
      "downloaded 71 series out of 111\n"
     ]
    },
    {
     "name": "stderr",
     "output_type": "stream",
     "text": [
      "\r",
      "  0%|          | 0/210 [00:00<?, ?it/s]"
     ]
    },
    {
     "name": "stdout",
     "output_type": "stream",
     "text": [
      "now downloading: Average Weekly Earnings of All Employees: Total Private,Monthly,Not Seasonally Adjusted,Dollars per Week\n"
     ]
    },
    {
     "name": "stderr",
     "output_type": "stream",
     "text": [
      "100%|██████████| 210/210 [04:23<00:00,  1.25s/it]\n"
     ]
    },
    {
     "name": "stdout",
     "output_type": "stream",
     "text": [
      "210 ids were found in this series\n",
      "downloaded 72 series out of 111\n"
     ]
    },
    {
     "name": "stderr",
     "output_type": "stream",
     "text": [
      "\r",
      "  0%|          | 0/210 [00:00<?, ?it/s]"
     ]
    },
    {
     "name": "stdout",
     "output_type": "stream",
     "text": [
      "now downloading: Average Weekly Earnings of All Employees: Total Private,Annual,Not Seasonally Adjusted,Dollars per Week\n"
     ]
    },
    {
     "name": "stderr",
     "output_type": "stream",
     "text": [
      "100%|██████████| 210/210 [03:41<00:00,  1.05s/it]\n"
     ]
    },
    {
     "name": "stdout",
     "output_type": "stream",
     "text": [
      "210 ids were found in this series\n",
      "downloaded 73 series out of 111\n"
     ]
    },
    {
     "name": "stderr",
     "output_type": "stream",
     "text": [
      "\r",
      "  0%|          | 0/210 [00:00<?, ?it/s]"
     ]
    },
    {
     "name": "stdout",
     "output_type": "stream",
     "text": [
      "now downloading: Average Hourly Earnings of All Employees: Total Private,Monthly,Not Seasonally Adjusted,Dollars per Hour\n"
     ]
    },
    {
     "name": "stderr",
     "output_type": "stream",
     "text": [
      "100%|██████████| 210/210 [04:02<00:00,  1.15s/it]\n"
     ]
    },
    {
     "name": "stdout",
     "output_type": "stream",
     "text": [
      "210 ids were found in this series\n",
      "downloaded 74 series out of 111\n"
     ]
    },
    {
     "name": "stderr",
     "output_type": "stream",
     "text": [
      "\r",
      "  0%|          | 0/210 [00:00<?, ?it/s]"
     ]
    },
    {
     "name": "stdout",
     "output_type": "stream",
     "text": [
      "now downloading: Average Hourly Earnings of All Employees: Total Private,Annual,Not Seasonally Adjusted,Dollars per Hour\n"
     ]
    },
    {
     "name": "stderr",
     "output_type": "stream",
     "text": [
      "100%|██████████| 210/210 [03:38<00:00,  1.04s/it]\n"
     ]
    },
    {
     "name": "stdout",
     "output_type": "stream",
     "text": [
      "210 ids were found in this series\n",
      "downloaded 75 series out of 111\n"
     ]
    },
    {
     "name": "stderr",
     "output_type": "stream",
     "text": [
      "\r",
      "  0%|          | 0/209 [00:00<?, ?it/s]"
     ]
    },
    {
     "name": "stdout",
     "output_type": "stream",
     "text": [
      "now downloading: Average Weekly Hours of All Employees: Total Private,Annual,Not Seasonally Adjusted,Hours per Week\n"
     ]
    },
    {
     "name": "stderr",
     "output_type": "stream",
     "text": [
      "100%|██████████| 209/209 [03:12<00:00,  1.08it/s]\n"
     ]
    },
    {
     "name": "stdout",
     "output_type": "stream",
     "text": [
      "209 ids were found in this series\n",
      "downloaded 76 series out of 111\n"
     ]
    },
    {
     "name": "stderr",
     "output_type": "stream",
     "text": [
      "\r",
      "  0%|          | 0/209 [00:00<?, ?it/s]"
     ]
    },
    {
     "name": "stdout",
     "output_type": "stream",
     "text": [
      "now downloading: Average Weekly Hours of All Employees: Total Private,Monthly,Not Seasonally Adjusted,Hours per Week\n"
     ]
    },
    {
     "name": "stderr",
     "output_type": "stream",
     "text": [
      "100%|██████████| 209/209 [03:55<00:00,  1.13s/it]\n"
     ]
    },
    {
     "name": "stdout",
     "output_type": "stream",
     "text": [
      "209 ids were found in this series\n",
      "downloaded 77 series out of 111\n"
     ]
    },
    {
     "name": "stderr",
     "output_type": "stream",
     "text": [
      "\r",
      "  0%|          | 0/209 [00:00<?, ?it/s]"
     ]
    },
    {
     "name": "stdout",
     "output_type": "stream",
     "text": [
      "now downloading: Average Weekly Hours of All Employees: Total Private,Monthly,Seasonally Adjusted,Hours per Week\n"
     ]
    },
    {
     "name": "stderr",
     "output_type": "stream",
     "text": [
      "100%|██████████| 209/209 [03:41<00:00,  1.06s/it]\n"
     ]
    },
    {
     "name": "stdout",
     "output_type": "stream",
     "text": [
      "209 ids were found in this series\n",
      "downloaded 78 series out of 111\n"
     ]
    },
    {
     "name": "stderr",
     "output_type": "stream",
     "text": [
      "\r",
      "  0%|          | 0/208 [00:00<?, ?it/s]"
     ]
    },
    {
     "name": "stdout",
     "output_type": "stream",
     "text": [
      "now downloading: Total Real Gross Domestic Product,Annual,Not Seasonally Adjusted,Millions of Chained 2012 Dollars\n"
     ]
    },
    {
     "name": "stderr",
     "output_type": "stream",
     "text": [
      "100%|██████████| 208/208 [03:58<00:00,  1.15s/it]\n"
     ]
    },
    {
     "name": "stdout",
     "output_type": "stream",
     "text": [
      "208 ids were found in this series\n",
      "downloaded 79 series out of 111\n"
     ]
    },
    {
     "name": "stderr",
     "output_type": "stream",
     "text": [
      "\r",
      "  0%|          | 0/208 [00:00<?, ?it/s]"
     ]
    },
    {
     "name": "stdout",
     "output_type": "stream",
     "text": [
      "now downloading: All Employees: Trade, Transportation, and Utilities,Annual,Not Seasonally Adjusted,Thousands of Persons\n"
     ]
    },
    {
     "name": "stderr",
     "output_type": "stream",
     "text": [
      "100%|██████████| 208/208 [03:28<00:00,  1.00s/it]\n"
     ]
    },
    {
     "name": "stdout",
     "output_type": "stream",
     "text": [
      "208 ids were found in this series\n",
      "downloaded 80 series out of 111\n"
     ]
    },
    {
     "name": "stderr",
     "output_type": "stream",
     "text": [
      "\r",
      "  0%|          | 0/208 [00:00<?, ?it/s]"
     ]
    },
    {
     "name": "stdout",
     "output_type": "stream",
     "text": [
      "now downloading: Real Per Capita Personal Income,Annual,Not Seasonally Adjusted,Chained 2012 Dollars\n"
     ]
    },
    {
     "name": "stderr",
     "output_type": "stream",
     "text": [
      "100%|██████████| 208/208 [02:46<00:00,  1.25it/s]\n"
     ]
    },
    {
     "name": "stdout",
     "output_type": "stream",
     "text": [
      "208 ids were found in this series\n",
      "downloaded 81 series out of 111\n"
     ]
    },
    {
     "name": "stderr",
     "output_type": "stream",
     "text": [
      "\r",
      "  0%|          | 0/208 [00:00<?, ?it/s]"
     ]
    },
    {
     "name": "stdout",
     "output_type": "stream",
     "text": [
      "now downloading: Regional Price Parities: All Items,Annual,Not Seasonally Adjusted,Index\n"
     ]
    },
    {
     "name": "stderr",
     "output_type": "stream",
     "text": [
      "100%|██████████| 208/208 [03:20<00:00,  1.04it/s]\n"
     ]
    },
    {
     "name": "stdout",
     "output_type": "stream",
     "text": [
      "208 ids were found in this series\n",
      "downloaded 82 series out of 111\n"
     ]
    },
    {
     "name": "stderr",
     "output_type": "stream",
     "text": [
      "\r",
      "  0%|          | 0/208 [00:00<?, ?it/s]"
     ]
    },
    {
     "name": "stdout",
     "output_type": "stream",
     "text": [
      "now downloading: Regional Price Parities: Goods,Annual,Not Seasonally Adjusted,Index\n"
     ]
    },
    {
     "name": "stderr",
     "output_type": "stream",
     "text": [
      "100%|██████████| 208/208 [03:23<00:00,  1.02it/s]\n"
     ]
    },
    {
     "name": "stdout",
     "output_type": "stream",
     "text": [
      "208 ids were found in this series\n",
      "downloaded 83 series out of 111\n"
     ]
    },
    {
     "name": "stderr",
     "output_type": "stream",
     "text": [
      "\r",
      "  0%|          | 0/208 [00:00<?, ?it/s]"
     ]
    },
    {
     "name": "stdout",
     "output_type": "stream",
     "text": [
      "now downloading: Regional Price Parities: Services: Other,Annual,Not Seasonally Adjusted,Index\n"
     ]
    },
    {
     "name": "stderr",
     "output_type": "stream",
     "text": [
      "100%|██████████| 208/208 [03:22<00:00,  1.03it/s]\n"
     ]
    },
    {
     "name": "stdout",
     "output_type": "stream",
     "text": [
      "208 ids were found in this series\n",
      "downloaded 84 series out of 111\n"
     ]
    },
    {
     "name": "stderr",
     "output_type": "stream",
     "text": [
      "\r",
      "  0%|          | 0/208 [00:00<?, ?it/s]"
     ]
    },
    {
     "name": "stdout",
     "output_type": "stream",
     "text": [
      "now downloading: Regional Price Parities: Services: Rents,Annual,Not Seasonally Adjusted,Index\n"
     ]
    },
    {
     "name": "stderr",
     "output_type": "stream",
     "text": [
      "100%|██████████| 208/208 [02:51<00:00,  1.21it/s]\n"
     ]
    },
    {
     "name": "stdout",
     "output_type": "stream",
     "text": [
      "208 ids were found in this series\n",
      "downloaded 85 series out of 111\n"
     ]
    },
    {
     "name": "stderr",
     "output_type": "stream",
     "text": [
      "\r",
      "  0%|          | 0/207 [00:00<?, ?it/s]"
     ]
    },
    {
     "name": "stdout",
     "output_type": "stream",
     "text": [
      "now downloading: Real Personal Income,Annual,Not Seasonally Adjusted,Thousands of Chained 2012 Dollars\n"
     ]
    },
    {
     "name": "stderr",
     "output_type": "stream",
     "text": [
      "100%|██████████| 207/207 [03:13<00:00,  1.07it/s]\n"
     ]
    },
    {
     "name": "stdout",
     "output_type": "stream",
     "text": [
      "207 ids were found in this series\n",
      "downloaded 86 series out of 111\n"
     ]
    },
    {
     "name": "stderr",
     "output_type": "stream",
     "text": [
      "\r",
      "  0%|          | 0/206 [00:00<?, ?it/s]"
     ]
    },
    {
     "name": "stdout",
     "output_type": "stream",
     "text": [
      "now downloading: All Employees: Transportation and Utilities: Transportation, Warehousing, and Utilities,Annual,Not Seasonally Adjusted,Thousands of Persons\n"
     ]
    },
    {
     "name": "stderr",
     "output_type": "stream",
     "text": [
      "100%|██████████| 206/206 [03:09<00:00,  1.09it/s]\n"
     ]
    },
    {
     "name": "stdout",
     "output_type": "stream",
     "text": [
      "206 ids were found in this series\n",
      "downloaded 87 series out of 111\n"
     ]
    },
    {
     "name": "stderr",
     "output_type": "stream",
     "text": [
      "\r",
      "  0%|          | 0/204 [00:00<?, ?it/s]"
     ]
    },
    {
     "name": "stdout",
     "output_type": "stream",
     "text": [
      "now downloading: All Employees: Government: State Government,Monthly,Not Seasonally Adjusted,Thousands of Persons\n"
     ]
    },
    {
     "name": "stderr",
     "output_type": "stream",
     "text": [
      "100%|██████████| 204/204 [03:19<00:00,  1.02it/s]\n"
     ]
    },
    {
     "name": "stdout",
     "output_type": "stream",
     "text": [
      "204 ids were found in this series\n",
      "downloaded 88 series out of 111\n"
     ]
    },
    {
     "name": "stderr",
     "output_type": "stream",
     "text": [
      "\r",
      "  0%|          | 0/203 [00:00<?, ?it/s]"
     ]
    },
    {
     "name": "stdout",
     "output_type": "stream",
     "text": [
      "now downloading: All Employees: Government: Local Government,Monthly,Seasonally Adjusted,Thousands of Persons\n"
     ]
    },
    {
     "name": "stderr",
     "output_type": "stream",
     "text": [
      "100%|██████████| 203/203 [03:18<00:00,  1.02it/s]\n"
     ]
    },
    {
     "name": "stdout",
     "output_type": "stream",
     "text": [
      "203 ids were found in this series\n",
      "downloaded 89 series out of 111\n"
     ]
    },
    {
     "name": "stderr",
     "output_type": "stream",
     "text": [
      "\r",
      "  0%|          | 0/203 [00:00<?, ?it/s]"
     ]
    },
    {
     "name": "stdout",
     "output_type": "stream",
     "text": [
      "now downloading: All Employees: Government: Local Government,Monthly,Not Seasonally Adjusted,Thousands of Persons\n"
     ]
    },
    {
     "name": "stderr",
     "output_type": "stream",
     "text": [
      "100%|██████████| 203/203 [03:48<00:00,  1.12s/it]\n"
     ]
    },
    {
     "name": "stdout",
     "output_type": "stream",
     "text": [
      "203 ids were found in this series\n",
      "downloaded 90 series out of 111\n"
     ]
    },
    {
     "name": "stderr",
     "output_type": "stream",
     "text": [
      "\r",
      "  0%|          | 0/202 [00:00<?, ?it/s]"
     ]
    },
    {
     "name": "stdout",
     "output_type": "stream",
     "text": [
      "now downloading: All Employees: Government: State Government,Monthly,Seasonally Adjusted,Thousands of Persons\n"
     ]
    },
    {
     "name": "stderr",
     "output_type": "stream",
     "text": [
      "100%|██████████| 202/202 [03:29<00:00,  1.04s/it]\n"
     ]
    },
    {
     "name": "stdout",
     "output_type": "stream",
     "text": [
      "202 ids were found in this series\n",
      "downloaded 91 series out of 111\n"
     ]
    },
    {
     "name": "stderr",
     "output_type": "stream",
     "text": [
      "\r",
      "  0%|          | 0/202 [00:00<?, ?it/s]"
     ]
    },
    {
     "name": "stdout",
     "output_type": "stream",
     "text": [
      "now downloading: All Employees: Retail Trade,Annual,Not Seasonally Adjusted,Thousands of Persons\n"
     ]
    },
    {
     "name": "stderr",
     "output_type": "stream",
     "text": [
      "100%|██████████| 202/202 [03:14<00:00,  1.04it/s]\n"
     ]
    },
    {
     "name": "stdout",
     "output_type": "stream",
     "text": [
      "202 ids were found in this series\n",
      "downloaded 92 series out of 111\n"
     ]
    },
    {
     "name": "stderr",
     "output_type": "stream",
     "text": [
      "\r",
      "  0%|          | 0/202 [00:00<?, ?it/s]"
     ]
    },
    {
     "name": "stdout",
     "output_type": "stream",
     "text": [
      "now downloading: All Employees: Retail Trade,Monthly,Not Seasonally Adjusted,Thousands of Persons\n"
     ]
    },
    {
     "name": "stderr",
     "output_type": "stream",
     "text": [
      "100%|██████████| 202/202 [03:35<00:00,  1.07s/it]\n"
     ]
    },
    {
     "name": "stdout",
     "output_type": "stream",
     "text": [
      "202 ids were found in this series\n",
      "downloaded 93 series out of 111\n"
     ]
    },
    {
     "name": "stderr",
     "output_type": "stream",
     "text": [
      "\r",
      "  0%|          | 0/201 [00:00<?, ?it/s]"
     ]
    },
    {
     "name": "stdout",
     "output_type": "stream",
     "text": [
      "now downloading: All Employees: Retail Trade,Monthly,Seasonally Adjusted,Thousands of Persons\n"
     ]
    },
    {
     "name": "stderr",
     "output_type": "stream",
     "text": [
      "100%|██████████| 201/201 [03:41<00:00,  1.10s/it]\n"
     ]
    },
    {
     "name": "stdout",
     "output_type": "stream",
     "text": [
      "201 ids were found in this series\n",
      "downloaded 94 series out of 111\n"
     ]
    },
    {
     "name": "stderr",
     "output_type": "stream",
     "text": [
      "\r",
      "  0%|          | 0/201 [00:00<?, ?it/s]"
     ]
    },
    {
     "name": "stdout",
     "output_type": "stream",
     "text": [
      "now downloading: All Employees: Leisure and Hospitality,Annual,Not Seasonally Adjusted,Thousands of Persons\n"
     ]
    },
    {
     "name": "stderr",
     "output_type": "stream",
     "text": [
      "100%|██████████| 201/201 [03:01<00:00,  1.11it/s]\n"
     ]
    },
    {
     "name": "stdout",
     "output_type": "stream",
     "text": [
      "201 ids were found in this series\n",
      "downloaded 95 series out of 111\n"
     ]
    },
    {
     "name": "stderr",
     "output_type": "stream",
     "text": [
      "\r",
      "  0%|          | 0/199 [00:00<?, ?it/s]"
     ]
    },
    {
     "name": "stdout",
     "output_type": "stream",
     "text": [
      "now downloading: All Employees: Government: Federal Government,Monthly,Not Seasonally Adjusted,Thousands of Persons\n"
     ]
    },
    {
     "name": "stderr",
     "output_type": "stream",
     "text": [
      "100%|██████████| 199/199 [03:03<00:00,  1.08it/s]\n"
     ]
    },
    {
     "name": "stdout",
     "output_type": "stream",
     "text": [
      "199 ids were found in this series\n",
      "downloaded 96 series out of 111\n"
     ]
    },
    {
     "name": "stderr",
     "output_type": "stream",
     "text": [
      "\r",
      "  0%|          | 0/198 [00:00<?, ?it/s]"
     ]
    },
    {
     "name": "stdout",
     "output_type": "stream",
     "text": [
      "now downloading: All Employees: Manufacturing,Annual,Not Seasonally Adjusted,Thousands of Persons\n"
     ]
    },
    {
     "name": "stderr",
     "output_type": "stream",
     "text": [
      "100%|██████████| 198/198 [02:38<00:00,  1.25it/s]\n"
     ]
    },
    {
     "name": "stdout",
     "output_type": "stream",
     "text": [
      "198 ids were found in this series\n",
      "downloaded 97 series out of 111\n"
     ]
    },
    {
     "name": "stderr",
     "output_type": "stream",
     "text": [
      "\r",
      "  0%|          | 0/196 [00:00<?, ?it/s]"
     ]
    },
    {
     "name": "stdout",
     "output_type": "stream",
     "text": [
      "now downloading: All Employees: Government: Federal Government,Monthly,Seasonally Adjusted,Thousands of Persons\n"
     ]
    },
    {
     "name": "stderr",
     "output_type": "stream",
     "text": [
      "100%|██████████| 196/196 [02:56<00:00,  1.11it/s]\n"
     ]
    },
    {
     "name": "stdout",
     "output_type": "stream",
     "text": [
      "196 ids were found in this series\n",
      "downloaded 98 series out of 111\n"
     ]
    },
    {
     "name": "stderr",
     "output_type": "stream",
     "text": [
      "\r",
      "  0%|          | 0/191 [00:00<?, ?it/s]"
     ]
    },
    {
     "name": "stdout",
     "output_type": "stream",
     "text": [
      "now downloading: All Employees: State Government,Annual,Not Seasonally Adjusted,Thousands of Persons\n"
     ]
    },
    {
     "name": "stderr",
     "output_type": "stream",
     "text": [
      "100%|██████████| 191/191 [02:30<00:00,  1.27it/s]\n"
     ]
    },
    {
     "name": "stdout",
     "output_type": "stream",
     "text": [
      "191 ids were found in this series\n",
      "downloaded 99 series out of 111\n"
     ]
    },
    {
     "name": "stderr",
     "output_type": "stream",
     "text": [
      "\r",
      "  0%|          | 0/191 [00:00<?, ?it/s]"
     ]
    },
    {
     "name": "stdout",
     "output_type": "stream",
     "text": [
      "now downloading: All Employees: Local Government,Annual,Not Seasonally Adjusted,Thousands of Persons\n"
     ]
    },
    {
     "name": "stderr",
     "output_type": "stream",
     "text": [
      "100%|██████████| 191/191 [03:00<00:00,  1.06it/s]\n"
     ]
    },
    {
     "name": "stdout",
     "output_type": "stream",
     "text": [
      "191 ids were found in this series\n",
      "downloaded 100 series out of 111\n"
     ]
    },
    {
     "name": "stderr",
     "output_type": "stream",
     "text": [
      "\r",
      "  0%|          | 0/186 [00:00<?, ?it/s]"
     ]
    },
    {
     "name": "stdout",
     "output_type": "stream",
     "text": [
      "now downloading: All Employees: Professional and Business Services,Annual,Not Seasonally Adjusted,Thousands of Persons\n"
     ]
    },
    {
     "name": "stderr",
     "output_type": "stream",
     "text": [
      "100%|██████████| 186/186 [02:21<00:00,  1.31it/s]\n"
     ]
    },
    {
     "name": "stdout",
     "output_type": "stream",
     "text": [
      "186 ids were found in this series\n",
      "downloaded 101 series out of 111\n"
     ]
    },
    {
     "name": "stderr",
     "output_type": "stream",
     "text": [
      "\r",
      "  0%|          | 0/186 [00:00<?, ?it/s]"
     ]
    },
    {
     "name": "stdout",
     "output_type": "stream",
     "text": [
      "now downloading: All Employees: Education and Health Services,Annual,Not Seasonally Adjusted,Thousands of Persons\n"
     ]
    },
    {
     "name": "stderr",
     "output_type": "stream",
     "text": [
      "100%|██████████| 186/186 [02:32<00:00,  1.22it/s]\n"
     ]
    },
    {
     "name": "stdout",
     "output_type": "stream",
     "text": [
      "186 ids were found in this series\n",
      "downloaded 102 series out of 111\n"
     ]
    },
    {
     "name": "stderr",
     "output_type": "stream",
     "text": [
      "\r",
      "  0%|          | 0/186 [00:00<?, ?it/s]"
     ]
    },
    {
     "name": "stdout",
     "output_type": "stream",
     "text": [
      "now downloading: All Employees: Federal Government,Annual,Not Seasonally Adjusted,Thousands of Persons\n"
     ]
    },
    {
     "name": "stderr",
     "output_type": "stream",
     "text": [
      " 46%|████▌     | 86/186 [01:37<11:05,  6.65s/it]"
     ]
    },
    {
     "name": "stdout",
     "output_type": "stream",
     "text": [
      "problem in time series: SMU23746509091000001A\n"
     ]
    },
    {
     "name": "stderr",
     "output_type": "stream",
     "text": [
      "100%|██████████| 186/186 [02:56<00:00,  1.05it/s]\n"
     ]
    },
    {
     "name": "stdout",
     "output_type": "stream",
     "text": [
      "185 ids were found in this series\n",
      "downloaded 103 series out of 111\n"
     ]
    },
    {
     "name": "stderr",
     "output_type": "stream",
     "text": [
      "\r",
      "  0%|          | 0/179 [00:00<?, ?it/s]"
     ]
    },
    {
     "name": "stdout",
     "output_type": "stream",
     "text": [
      "now downloading: All Employees: Financial Activities,Annual,Not Seasonally Adjusted,Thousands of Persons\n"
     ]
    },
    {
     "name": "stderr",
     "output_type": "stream",
     "text": [
      "100%|██████████| 179/179 [02:16<00:00,  1.31it/s]\n"
     ]
    },
    {
     "name": "stdout",
     "output_type": "stream",
     "text": [
      "179 ids were found in this series\n",
      "downloaded 104 series out of 111\n"
     ]
    },
    {
     "name": "stderr",
     "output_type": "stream",
     "text": [
      "\r",
      "  0%|          | 0/176 [00:00<?, ?it/s]"
     ]
    },
    {
     "name": "stdout",
     "output_type": "stream",
     "text": [
      "now downloading: All Employees: Information,Annual,Not Seasonally Adjusted,Thousands of Persons\n"
     ]
    },
    {
     "name": "stderr",
     "output_type": "stream",
     "text": [
      "100%|██████████| 176/176 [02:18<00:00,  1.27it/s]\n"
     ]
    },
    {
     "name": "stdout",
     "output_type": "stream",
     "text": [
      "176 ids were found in this series\n",
      "downloaded 105 series out of 111\n"
     ]
    },
    {
     "name": "stderr",
     "output_type": "stream",
     "text": [
      "\r",
      "  0%|          | 0/173 [00:00<?, ?it/s]"
     ]
    },
    {
     "name": "stdout",
     "output_type": "stream",
     "text": [
      "now downloading: All Employees: Wholesale Trade,Annual,Not Seasonally Adjusted,Thousands of Persons\n"
     ]
    },
    {
     "name": "stderr",
     "output_type": "stream",
     "text": [
      "100%|██████████| 173/173 [02:22<00:00,  1.21it/s]\n"
     ]
    },
    {
     "name": "stdout",
     "output_type": "stream",
     "text": [
      "173 ids were found in this series\n",
      "downloaded 106 series out of 111\n"
     ]
    },
    {
     "name": "stderr",
     "output_type": "stream",
     "text": [
      "\r",
      "  0%|          | 0/173 [00:00<?, ?it/s]"
     ]
    },
    {
     "name": "stdout",
     "output_type": "stream",
     "text": [
      "now downloading: All Employees: Wholesale Trade,Monthly,Not Seasonally Adjusted,Thousands of Persons\n"
     ]
    },
    {
     "name": "stderr",
     "output_type": "stream",
     "text": [
      "100%|██████████| 173/173 [03:00<00:00,  1.04s/it]\n"
     ]
    },
    {
     "name": "stdout",
     "output_type": "stream",
     "text": [
      "173 ids were found in this series\n",
      "downloaded 107 series out of 111\n"
     ]
    },
    {
     "name": "stderr",
     "output_type": "stream",
     "text": [
      "\r",
      "  0%|          | 0/172 [00:00<?, ?it/s]"
     ]
    },
    {
     "name": "stdout",
     "output_type": "stream",
     "text": [
      "now downloading: All Employees: Other Services,Annual,Not Seasonally Adjusted,Thousands of Persons\n"
     ]
    },
    {
     "name": "stderr",
     "output_type": "stream",
     "text": [
      "100%|██████████| 172/172 [02:28<00:00,  1.16it/s]\n"
     ]
    },
    {
     "name": "stdout",
     "output_type": "stream",
     "text": [
      "172 ids were found in this series\n",
      "downloaded 108 series out of 111\n"
     ]
    },
    {
     "name": "stderr",
     "output_type": "stream",
     "text": [
      "\r",
      "  0%|          | 0/172 [00:00<?, ?it/s]"
     ]
    },
    {
     "name": "stdout",
     "output_type": "stream",
     "text": [
      "now downloading: All Employees: Wholesale Trade,Monthly,Seasonally Adjusted,Thousands of Persons\n"
     ]
    },
    {
     "name": "stderr",
     "output_type": "stream",
     "text": [
      "100%|██████████| 172/172 [02:42<00:00,  1.06it/s]\n"
     ]
    },
    {
     "name": "stdout",
     "output_type": "stream",
     "text": [
      "172 ids were found in this series\n",
      "downloaded 109 series out of 111\n"
     ]
    },
    {
     "name": "stderr",
     "output_type": "stream",
     "text": [
      "\r",
      "  0%|          | 0/113 [00:00<?, ?it/s]"
     ]
    },
    {
     "name": "stdout",
     "output_type": "stream",
     "text": [
      "now downloading: New Private Housing Units Authorized by Building Permits: 1-Unit Structures,Monthly,Not Seasonally Adjusted,Units\n"
     ]
    },
    {
     "name": "stderr",
     "output_type": "stream",
     "text": [
      "100%|██████████| 113/113 [01:46<00:00,  1.06it/s]\n"
     ]
    },
    {
     "name": "stdout",
     "output_type": "stream",
     "text": [
      "113 ids were found in this series\n",
      "downloaded 110 series out of 111\n"
     ]
    },
    {
     "name": "stderr",
     "output_type": "stream",
     "text": [
      "\r",
      "  0%|          | 0/113 [00:00<?, ?it/s]"
     ]
    },
    {
     "name": "stdout",
     "output_type": "stream",
     "text": [
      "now downloading: New Private Housing Units Authorized by Building Permits: 1-Unit Structures,Monthly,Seasonally Adjusted,Units\n"
     ]
    },
    {
     "name": "stderr",
     "output_type": "stream",
     "text": [
      "100%|██████████| 113/113 [01:46<00:00,  1.07it/s]\n"
     ]
    },
    {
     "name": "stdout",
     "output_type": "stream",
     "text": [
      "113 ids were found in this series\n",
      "downloaded 111 series out of 111\n"
     ]
    }
   ],
   "source": [
    "print(f'downloading {len(series_ids)} series \\n')\n",
    "\n",
    "series_status = {}\n",
    "for series_name in series_ids.keys():\n",
    "    status = download_series(series_name)\n",
    "    series_status[series_name] = status\n",
    "    print(f\"downloaded {len(series_status)} series out of {len(series_ids)}\")\n",
    "    time.sleep(random.randint(2,5))\n"
   ]
  },
  {
   "cell_type": "code",
   "execution_count": null,
   "metadata": {},
   "outputs": [],
   "source": []
  },
  {
   "cell_type": "markdown",
   "metadata": {},
   "source": [
    "### Create Civilian_pop_ratio data"
   ]
  },
  {
   "cell_type": "code",
   "execution_count": 67,
   "metadata": {},
   "outputs": [],
   "source": [
    "civil_df = pd.read_csv(os.path.join(base_dir, \"Civilian Labor Force,Annual,Not Seasonally Adjusted,Persons_data.csv\"))\n",
    "civil_df = civil_df.drop(['Civilian Labor Force,Annual,Not Seasonally Adjusted,Persons_1_Year_change'],axis='columns')\n",
    "civil_df['Date']= pd.to_datetime(civil_df.Date)\n",
    "\n",
    "pop_new = pd.read_csv(os.path.join(base_dir, \"Resident Population,Annual,Not Seasonally Adjusted,Thousands of Persons_data.csv\"))\n",
    "pop_new['Resident Population,Annual,Not Seasonally Adjusted,Persons'] = pop_df['Resident Population,Annual,Not Seasonally Adjusted,Thousands of Persons']*1000\n",
    "pop_new = pop_new.drop(['Resident Population,Annual,Not Seasonally Adjusted,Thousands of Persons_1_Year_change','Resident Population,Annual,Not Seasonally Adjusted,Thousands of Persons'],axis='columns')\n",
    "pop_new['Date']= pd.to_datetime(pop_new.Date)\n",
    "\n",
    "\n",
    "civilian_pop_ratio = []\n",
    "for row in pop_new.index:\n",
    "    state = pop_new['State'][row]\n",
    "    msa = pop_new['MSA'][row]\n",
    "    date = pop_new['Date'][row]\n",
    "    \n",
    "    df = civil_df.loc[(civil_df['State'] == state) & (civil_df['MSA'] == msa) & (civil_df['Date'] == date)]\n",
    "    if len(df) > 0 :\n",
    "        civilianP = df['Civilian Labor Force,Annual,Not Seasonally Adjusted,Persons'].item() / pop_new['Resident Population,Annual,Not Seasonally Adjusted,Persons'][row]\n",
    "        civilian_pop_ratio.append(civilianP)\n",
    "    else:\n",
    "        civilian_pop_ratio.append(np.nan)\n",
    "\n",
    "pop_new['Civilian_pop_ratio'] = civilian_pop_ratio\n",
    "\n",
    "pop_new = pop_new.drop(['Resident Population,Annual,Not Seasonally Adjusted,Persons'],axis='columns')\n",
    "pop_new.to_csv(os.path.join(base_dir, \"Civilian_pop_ratio_data.csv\"), index=False)    \n"
   ]
  },
  {
   "cell_type": "code",
   "execution_count": null,
   "metadata": {},
   "outputs": [],
   "source": []
  },
  {
   "cell_type": "markdown",
   "metadata": {},
   "source": [
    "# merge all dfs"
   ]
  },
  {
   "cell_type": "code",
   "execution_count": 366,
   "metadata": {
    "scrolled": true
   },
   "outputs": [
    {
     "name": "stdout",
     "output_type": "stream",
     "text": [
      "0: All Employees: Education and Health Services,Annual,Not Seasonally Adjusted,Thousands of Persons_data.csv\n",
      "1: All Employees: Government,Annual,Not Seasonally Adjusted,Thousands of Persons_data.csv\n",
      "2: All Employees: Government: Federal Government,Monthly,Seasonally Adjusted,Thousands of Persons_data.csv\n",
      "3: All Employees: Government: Local Government,Monthly,Seasonally Adjusted,Thousands of Persons_data.csv\n",
      "4: All Employees: Wholesale Trade,Monthly,Not Seasonally Adjusted,Thousands of Persons_data.csv\n",
      "6: New Private Housing Units Authorized by Building Permits: 1-Unit Structures,Monthly,Not Seasonally Adjusted,Units_data.csv\n",
      "7: All Employees: Financial Activities,Monthly,Not Seasonally Adjusted,Thousands of Persons_data.csv\n",
      "8: All Employees: Total Private,Monthly,Seasonally Adjusted,Thousands of Persons_data.csv\n",
      "9: Civilian Labor Force,Annual,Not Seasonally Adjusted,Persons_data.csv\n",
      "10: Average Weekly Wages for Employees in Private Establishments,Quarterly,Seasonally Adjusted,Dollars per Week_data.csv\n",
      "11: All Employees: Total Private,Monthly,Not Seasonally Adjusted,Thousands of Persons_data.csv\n",
      "13: Average Hourly Earnings of All Employees: Total Private,Monthly,Not Seasonally Adjusted,Dollars per Hour_data.csv\n",
      "14: Average Weekly Earnings of All Employees: Total Private,Annual,Not Seasonally Adjusted,Dollars per Week_data.csv\n",
      "15: All Employees: Other Services,Monthly,Not Seasonally Adjusted,Thousands of Persons_data.csv\n",
      "16: Regional Price Parities: Goods,Annual,Not Seasonally Adjusted,Index_data.csv\n",
      "18: New Private Housing Units Authorized by Building Permits: 1-Unit Structures,Monthly,Seasonally Adjusted,Units_data.csv\n",
      "19: All Employees: Service-Providing,Monthly,Seasonally Adjusted,Thousands of Persons_data.csv\n",
      "20: All Employees: Information,Monthly,Seasonally Adjusted,Thousands of Persons_data.csv\n",
      "21: Unemployment Rate,Monthly,Not Seasonally Adjusted,Percent_data.csv\n",
      "22: Total Gross Domestic Product,Annual,Not Seasonally Adjusted,Millions of Dollars_data.csv\n",
      "23: All Employees: Leisure and Hospitality,Monthly,Seasonally Adjusted,Thousands of Persons_data.csv\n",
      "25: All Employees: Mining, Logging, and Construction,Monthly,Not Seasonally Adjusted,Thousands of Persons_data.csv\n",
      "26: All Employees: Local Government,Annual,Not Seasonally Adjusted,Thousands of Persons_data.csv\n",
      "27: Total Quantity Indexes for Real GDP,Annual,Not Seasonally Adjusted,Index 2009=100_data.csv\n",
      "28: All Employees: Manufacturing,Annual,Not Seasonally Adjusted,Thousands of Persons_data.csv\n",
      "29: All Employees: Private Service Providing,Monthly,Seasonally Adjusted,Thousands of Persons_data.csv\n",
      "30: Regional Price Parities: Services: Other,Annual,Not Seasonally Adjusted,Index_data.csv\n",
      "31: All Employees: Total Nonfarm,Monthly,Seasonally Adjusted,3-Month Average Change, Thousands of Persons_data.csv\n",
      "32: Regional Price Parities: Services: Rents,Annual,Not Seasonally Adjusted,Index_data.csv\n",
      "33: Civilian_pop_ratio_data.csv\n",
      "34: All Employees: Government,Monthly,Not Seasonally Adjusted,Thousands of Persons_data.csv\n",
      "35: Unemployed Persons,Monthly,Not Seasonally Adjusted,Persons_data.csv\n",
      "36: All Employees: Retail Trade,Monthly,Seasonally Adjusted,Thousands of Persons_data.csv\n",
      "37: Average Hourly Earnings of All Employees: Total Private,Annual,Not Seasonally Adjusted,Dollars per Hour_data.csv\n",
      "38: All Employees: Retail Trade,Monthly,Not Seasonally Adjusted,Thousands of Persons_data.csv\n",
      "39: All Employees: Financial Activities,Monthly,Seasonally Adjusted,Thousands of Persons_data.csv\n",
      "40: All Employees: Professional and Business Services,Annual,Not Seasonally Adjusted,Thousands of Persons_data.csv\n",
      "41: Average Weekly Wages for Employees in Federal Government Establishments,Quarterly,Not Seasonally Adjusted,Dollars per Week_data.csv\n",
      "42: All Employees: Manufacturing,Monthly,Seasonally Adjusted,Thousands of Persons_data.csv\n",
      "43: All Employees: State Government,Annual,Not Seasonally Adjusted,Thousands of Persons_data.csv\n",
      "44: Average Weekly Wages for Employees in Federal Government Establishments,Quarterly,Seasonally Adjusted,Dollars per Week_data.csv\n",
      "45: All Employees: Mining, Logging, and Construction,Monthly,Seasonally Adjusted,Thousands of Persons_data.csv\n",
      "46: All Employees: Government: State Government,Monthly,Seasonally Adjusted,Thousands of Persons_data.csv\n",
      "47: All Employees: Other Services,Monthly,Seasonally Adjusted,Thousands of Persons_data.csv\n",
      "48: Regional Price Parities: All Items,Annual,Not Seasonally Adjusted,Index_data.csv\n",
      "49: All Employees: Education and Health Services,Monthly,Not Seasonally Adjusted,Thousands of Persons_data.csv\n",
      "50: All Employees: Transportation and Utilities: Transportation, Warehousing, and Utilities,Monthly,Not Seasonally Adjusted,Thousands of Persons_data.csv\n",
      "51: Civilian Labor Force,Monthly,Smoothed Seasonally Adjusted,Persons_data.csv\n",
      "52: Unemployment Rate,Annual,Not Seasonally Adjusted,Percent_data.csv\n",
      "53: Average Weekly Wages for Employees in State Government Establishments,Quarterly,Not Seasonally Adjusted,Dollars per Week_data.csv\n",
      "54: Average Weekly Wages for Employees in Private Establishments,Quarterly,Not Seasonally Adjusted,Dollars per Week_data.csv\n",
      "55: Implicit Regional Price Deflator,Annual,Not Seasonally Adjusted,US PCE Index 2012=100_data.csv\n",
      "56: All Employees: Wholesale Trade,Annual,Not Seasonally Adjusted,Thousands of Persons_data.csv\n",
      "57: All Employees: Wholesale Trade,Monthly,Seasonally Adjusted,Thousands of Persons_data.csv\n",
      "58: Average Weekly Wages for Employees in Local Government Establishments,Quarterly,Seasonally Adjusted,Dollars per Week_data.csv\n",
      "59: Real Per Capita Personal Income,Annual,Not Seasonally Adjusted,Chained 2012 Dollars_data.csv\n",
      "60: All Employees: Trade, Transportation, and Utilities,Monthly,Not Seasonally Adjusted,Thousands of Persons_data.csv\n",
      "61: Total Quarterly Wages,Quarterly,Not Seasonally Adjusted,Dollars_data.csv\n",
      "62: Total Real Gross Domestic Product,Annual,Not Seasonally Adjusted,Millions of Chained 2012 Dollars_data.csv\n",
      "63: Average Weekly Earnings of All Employees: Total Private,Monthly,Not Seasonally Adjusted,Dollars per Week_data.csv\n",
      "64: All Employees: Education and Health Services,Monthly,Seasonally Adjusted,Thousands of Persons_data.csv\n",
      "65: Per Capita Personal Income,Annual,Not Seasonally Adjusted,Dollars_data.csv\n",
      "67: Average Hourly Earnings of All Employees: Total Private,Monthly,Seasonally Adjusted,Dollars per Hour_data.csv\n",
      "68: All Employees: Government: Local Government,Monthly,Not Seasonally Adjusted,Thousands of Persons_data.csv\n",
      "69: All Employees: Total Nonfarm,Monthly,Not Seasonally Adjusted,Thousands of Persons_data.csv\n",
      "70: Average Weekly Wages for Employees in Total Covered Establishments,Quarterly,Seasonally Adjusted,Dollars per Week_data.csv\n",
      "71: All Employees: Leisure and Hospitality,Monthly,Not Seasonally Adjusted,Thousands of Persons_data.csv\n",
      "72: All Employees: Goods Producing,Monthly,Not Seasonally Adjusted,Thousands of Persons_data.csv\n",
      "73: All Employees: Transportation and Utilities: Transportation, Warehousing, and Utilities,Monthly,Seasonally Adjusted,Thousands of Persons_data.csv\n",
      "74: Average Weekly Wages for Employees in State Government Establishments,Quarterly,Seasonally Adjusted,Dollars per Week_data.csv\n",
      "75: Average Weekly Hours of All Employees: Total Private,Monthly,Seasonally Adjusted,Hours per Week_data.csv\n",
      "77: All Employees: Professional and Business Services,Monthly,Seasonally Adjusted,Thousands of Persons_data.csv\n",
      "78: All Employees: Government,Monthly,Seasonally Adjusted,Thousands of Persons_data.csv\n",
      "79: Real Personal Income,Annual,Not Seasonally Adjusted,Thousands of Chained 2012 Dollars_data.csv\n",
      "80: All Employees: Government: Federal Government,Monthly,Not Seasonally Adjusted,Thousands of Persons_data.csv\n",
      "81: All Employees: Federal Government,Annual,Not Seasonally Adjusted,Thousands of Persons_data.csv\n",
      "82: All Employees: Transportation and Utilities: Transportation, Warehousing, and Utilities,Annual,Not Seasonally Adjusted,Thousands of Persons_data.csv\n",
      "83: All Employees: Private Service Providing,Monthly,Not Seasonally Adjusted,Thousands of Persons_data.csv\n",
      "84: All Employees: Goods Producing,Annual,Not Seasonally Adjusted,Thousands of Persons_data.csv\n",
      "85: All Employees: Retail Trade,Annual,Not Seasonally Adjusted,Thousands of Persons_data.csv\n"
     ]
    },
    {
     "name": "stdout",
     "output_type": "stream",
     "text": [
      "86: All Employees: Government: State Government,Monthly,Not Seasonally Adjusted,Thousands of Persons_data.csv\n",
      "87: Unemployment Rate,Monthly,Smoothed Seasonally Adjusted,Percent_data.csv\n",
      "88: All Employees: Financial Activities,Annual,Not Seasonally Adjusted,Thousands of Persons_data.csv\n",
      "89: Average Weekly Hours of All Employees: Total Private,Annual,Not Seasonally Adjusted,Hours per Week_data.csv\n",
      "90: All Employees: Information,Annual,Not Seasonally Adjusted,Thousands of Persons_data.csv\n",
      "91: All Employees: Professional and Business Services,Monthly,Not Seasonally Adjusted,Thousands of Persons_data.csv\n",
      "92: All Employees: Mining, Logging, and Construction,Annual,Not Seasonally Adjusted,Thousands of Persons_data.csv\n",
      "93: Average Weekly Wages for Employees in Total Covered Establishments,Quarterly,Not Seasonally Adjusted,Dollars per Week_data.csv\n",
      "94: All Employees: Service-Providing,Monthly,Not Seasonally Adjusted,Thousands of Persons_data.csv\n",
      "95: All Employees: Goods Producing,Monthly,Seasonally Adjusted,Thousands of Persons_data.csv\n",
      "96: Resident Population,Annual,Not Seasonally Adjusted,Thousands of Persons_data.csv\n",
      "97: Total Per Capita Real Gross Domestic Product,Annual,Not Seasonally Adjusted,Chained 2009 Dollars_data.csv\n",
      "98: Average Weekly Earnings of All Employees: Total Private,Monthly,Seasonally Adjusted,Dollars per Week_data.csv\n",
      "99: All Employees: Information,Monthly,Not Seasonally Adjusted,Thousands of Persons_data.csv\n",
      "100: All Employees: Trade, Transportation, and Utilities,Annual,Not Seasonally Adjusted,Thousands of Persons_data.csv\n",
      "101: All Employees: Total Nonfarm,Annual,Not Seasonally Adjusted,Thousands of Persons_data.csv\n",
      "102: All Employees: Service-Providing,Annual,Not Seasonally Adjusted,Thousands of Persons_data.csv\n",
      "104: All Employees: Leisure and Hospitality,Annual,Not Seasonally Adjusted,Thousands of Persons_data.csv\n",
      "105: All Employees: Trade, Transportation, and Utilities,Monthly,Seasonally Adjusted,Thousands of Persons_data.csv\n",
      "106: Employed Persons,Monthly,Not Seasonally Adjusted,Persons_data.csv\n",
      "107: All Employees: Total Private,Annual,Not Seasonally Adjusted,Thousands of Persons_data.csv\n",
      "108: Unemployed Persons,Annual,Not Seasonally Adjusted,Persons_data.csv\n",
      "109: Total Quarterly Wages,Quarterly,Seasonally Adjusted,Dollars_data.csv\n",
      "110: All Employees: Manufacturing,Monthly,Not Seasonally Adjusted,Thousands of Persons_data.csv\n",
      "111: Employed Persons,Annual,Not Seasonally Adjusted,Persons_data.csv\n",
      "112: All Employees: Other Services,Annual,Not Seasonally Adjusted,Thousands of Persons_data.csv\n",
      "113: All Employees: Private Service Providing,Annual,Not Seasonally Adjusted,Thousands of Persons_data.csv\n",
      "114: Average Weekly Wages for Employees in Local Government Establishments,Quarterly,Not Seasonally Adjusted,Dollars per Week_data.csv\n",
      "115: Average Weekly Hours of All Employees: Total Private,Monthly,Not Seasonally Adjusted,Hours per Week_data.csv\n",
      "116: Civilian Labor Force,Monthly,Not Seasonally Adjusted,Persons_data.csv\n"
     ]
    }
   ],
   "source": [
    "dfs_list = []\n",
    "for ind,filename in enumerate(os.listdir(base_dir)):\n",
    "    if filename not in ['.DS_Store','total_metadata.csv','relevant_metadata.csv','All Employees: Total Nonfarm,Monthly,Seasonally Adjusted,Thousands of Persons_data.csv','all_msa_population_housing_units.csv','All-Transactions House Price Index,Quarterly,Not Seasonally Adjusted,Index 1995:Q1=100_data.csv','merge_df_without_hpi.csv']:\n",
    "        print(f\"{ind}: {filename}\")\n",
    "        df = pd.read_csv(os.path.join(base_dir, filename))\n",
    "        df['Date']= pd.to_datetime(df.Date)\n",
    "        df = df.sort_values(by=['MSA'])\n",
    "        df = df.drop('Short_date',axis='columns')\n",
    "        dfs_list.append(df)\n"
   ]
  },
  {
   "cell_type": "code",
   "execution_count": 367,
   "metadata": {},
   "outputs": [
    {
     "data": {
      "text/plain": [
       "110"
      ]
     },
     "execution_count": 367,
     "metadata": {},
     "output_type": "execute_result"
    }
   ],
   "source": [
    "len(dfs_list)"
   ]
  },
  {
   "cell_type": "markdown",
   "metadata": {},
   "source": [
    "### האם אותם שמות? לבדוק רנדומלית"
   ]
  },
  {
   "cell_type": "code",
   "execution_count": 368,
   "metadata": {},
   "outputs": [],
   "source": [
    "housing_units_df = pd.read_csv(os.path.join(base_dir, \"all_msa_population_housing_units.csv\"))\n",
    "housing_units_df['MSA'] = [p.split(\",\")[0] for p in housing_units_df['Geographic Area Name']]\n",
    "housing_units_df['State'] = [p.split(\", \")[1].split(\" \")[0] for p in housing_units_df['Geographic Area Name']]\n",
    "housing_units_df['Date'] = [(f\"{y}-12-01\") for y in housing_units_df['Year']]\n",
    "housing_units_df['Date']= pd.to_datetime(housing_units_df.Date)\n",
    "housing_units_df['Total_Housing_Units_per_Population'] = [housing_units_df['Total Housing Units'][row]/housing_units_df['Total Population'][row] for row in housing_units_df.index]\n",
    "housing_units_df = housing_units_df.drop(['Geographic Area Name','Year','Total Population','Total Housing Units'],axis='columns')\n",
    "housing_units_df = housing_units_df.sort_values(by=['MSA'])\n",
    "dfs_list.append(housing_units_df)       \n"
   ]
  },
  {
   "cell_type": "code",
   "execution_count": 369,
   "metadata": {},
   "outputs": [
    {
     "data": {
      "text/plain": [
       "111"
      ]
     },
     "execution_count": 369,
     "metadata": {},
     "output_type": "execute_result"
    }
   ],
   "source": [
    "len(dfs_list)"
   ]
  },
  {
   "cell_type": "code",
   "execution_count": null,
   "metadata": {},
   "outputs": [],
   "source": [
    "dfs = [df.set_index(['Date','MSA','State']) for df in dfs_list]\n",
    "merge_df = pd.concat(dfs, axis=1).reset_index()\n",
    "merge_df = merge_df.loc[merge_df['Date']>'1980-01-01'].reset_index()\n",
    "merge_df = merge_df.drop(['index'], axis='columns')"
   ]
  },
  {
   "cell_type": "code",
   "execution_count": null,
   "metadata": {},
   "outputs": [],
   "source": [
    "#Creating short date column\n",
    "merge_df['Short_date'] = [(f\"{t.year}-{t.month}\") for t in merge_df['Date']]\n",
    "merge_df = merge_df.loc[:, ~merge_df.columns.str.contains('Date')]"
   ]
  },
  {
   "cell_type": "code",
   "execution_count": null,
   "metadata": {},
   "outputs": [],
   "source": [
    "merge_df"
   ]
  },
  {
   "cell_type": "code",
   "execution_count": null,
   "metadata": {},
   "outputs": [],
   "source": [
    "merge_df.to_csv(os.path.join(base_dir, \"merge_df_without_hpi.csv\"), index=False)    "
   ]
  },
  {
   "cell_type": "code",
   "execution_count": null,
   "metadata": {},
   "outputs": [],
   "source": []
  },
  {
   "cell_type": "code",
   "execution_count": null,
   "metadata": {},
   "outputs": [],
   "source": []
  },
  {
   "cell_type": "markdown",
   "metadata": {},
   "source": [
    "# ----------------------------------------------------------------------------------------------"
   ]
  },
  {
   "cell_type": "markdown",
   "metadata": {},
   "source": [
    "# האם צריך?"
   ]
  },
  {
   "cell_type": "code",
   "execution_count": null,
   "metadata": {},
   "outputs": [],
   "source": [
    "import pandas as pd\n",
    "import numpy as np\n",
    "df = pd.read_csv('final_with_future_hpis.csv')\n",
    "cols = ['MSA','State','Short_date']\n",
    "df = df.fillna(-1)\n",
    "df['combined'] = df[cols].apply(lambda row: '_'.join(row.values.astype(str)), axis=1)\n",
    "df2 = df.groupby(by=[\"combined\",\"MSA\",\"State\",\"Short_date\"],dropna=False).sum()\n",
    "df2.reset_index(inplace=True)\n",
    "df2 = df2.drop(['combined', 'Unnamed: 0'], axis=1)\n",
    "df2 = df2.replace([-1,-2],np.nan)\n",
    "df2.to_csv('data_to_model.csv')"
   ]
  }
 ],
 "metadata": {
  "kernelspec": {
   "display_name": "Python 3",
   "language": "python",
   "name": "python3"
  },
  "language_info": {
   "codemirror_mode": {
    "name": "ipython",
    "version": 3
   },
   "file_extension": ".py",
   "mimetype": "text/x-python",
   "name": "python",
   "nbconvert_exporter": "python",
   "pygments_lexer": "ipython3",
   "version": "3.8.3"
  }
 },
 "nbformat": 4,
 "nbformat_minor": 5
}
